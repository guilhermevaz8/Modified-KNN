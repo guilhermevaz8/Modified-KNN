{
 "cells": [
  {
   "cell_type": "code",
   "execution_count": 15,
   "id": "929297f1",
   "metadata": {},
   "outputs": [],
   "source": [
    "import pandas as pd\n",
    "import os\n",
    "import numpy as np\n",
    "from sklearn.model_selection import train_test_split\n",
    "import matplotlib.pyplot as plt\n",
    "from sklearn.preprocessing import LabelEncoder\n",
    "import seaborn as sns\n",
    "import pandas as pd\n",
    "import matplotlib.pyplot as plt\n",
    "import matplotlib.pyplot as plt\n",
    "import pandas as pd\n",
    "import numpy as np\n",
    "from sklearn.model_selection import cross_val_score\n",
    "from sklearn.model_selection import GridSearchCV\n",
    "from sklearn.metrics import accuracy_score\n",
    "from sklearn.neighbors import KNeighborsClassifier"
   ]
  },
  {
   "cell_type": "markdown",
   "id": "2d1d15e5",
   "metadata": {},
   "source": [
    "## Criação dos modelos com as diferentes distâncias:\n",
    "\n",
    "### Modelo sklearn"
   ]
  },
  {
   "cell_type": "code",
   "execution_count": 17,
   "id": "0100941a",
   "metadata": {},
   "outputs": [],
   "source": [
    "KNN=KNeighborsClassifier()"
   ]
  },
  {
   "cell_type": "markdown",
   "id": "b61575c5",
   "metadata": {},
   "source": [
    "### Modelo implementado, sem alteração"
   ]
  },
  {
   "cell_type": "code",
   "execution_count": 18,
   "id": "6dd11874",
   "metadata": {},
   "outputs": [],
   "source": [
    "from math import sqrt\n",
    "class KNNNormal():\n",
    "  def __init__(self,k):\n",
    "    self.k=k\n",
    "    print(self.k)\n",
    "  def fit(self,X_train,y_train):\n",
    "    self.x_train=X_train\n",
    "    self.y_train=y_train\n",
    "  def calculate_euclidean(self,sample1,sample2):\n",
    "    distance=0.0\n",
    "    for i in range(len(sample1)):\n",
    "      distance+=(sample1[i]-sample2[i])**2 #Euclidean Distance = sqrt(sum i to N (x1_i – x2_i)^2)\n",
    "    return sqrt(distance)\n",
    "  def nearest_neighbors(self,test_sample):\n",
    "    distances=[]#calculate distances from a test sample to every sample in a training set\n",
    "    for i in range(len(self.x_train)):\n",
    "      distances.append((self.y_train[i],self.calculate_euclidean(self.x_train[i],test_sample)))\n",
    "    distances.sort(key=lambda x:x[1])#sort in ascending order, based on a distance value\n",
    "    neighbors=[]\n",
    "    for i in range(self.k): #get first k samples\n",
    "      neighbors.append(distances[i][0])\n",
    "    return neighbors\n",
    "  def predict(self,test_set):\n",
    "    predictions=[]\n",
    "    for test_sample in test_set:\n",
    "      neighbors=self.nearest_neighbors(test_sample)\n",
    "      labels=[sample for sample in neighbors]\n",
    "      prediction=max(labels,key=labels.count)\n",
    "      predictions.append(prediction)\n",
    "    return predictions"
   ]
  },
  {
   "cell_type": "markdown",
   "id": "7699750d",
   "metadata": {},
   "source": [
    "### Modelo com distância de Manhattan"
   ]
  },
  {
   "cell_type": "code",
   "execution_count": 19,
   "id": "f689c53a",
   "metadata": {},
   "outputs": [],
   "source": [
    "from math import sqrt\n",
    "class KNNManhattan():\n",
    "  def __init__(self,k):\n",
    "    self.k=k\n",
    "    print(self.k)\n",
    "  def fit(self,X_train,y_train):\n",
    "    self.x_train=X_train\n",
    "    self.y_train=y_train\n",
    "  def calculate_manhattan(self, sample1, sample2):\n",
    "    distance = 0.0\n",
    "    for i in range(len(sample1)):\n",
    "        distance += abs(sample1[i] - sample2[i]) # Manhattan Distance = sum i to N |x1_i – x2_i|\n",
    "    return distance\n",
    "  def nearest_neighbors(self,test_sample):\n",
    "    distances=[]#calculate distances from a test sample to every sample in a training set\n",
    "    for i in range(len(self.x_train)):\n",
    "      distances.append((self.y_train[i],self.calculate_manhattan(self.x_train[i],test_sample)))\n",
    "    distances.sort(key=lambda x:x[1])#sort in ascending order, based on a distance value\n",
    "    neighbors=[]\n",
    "    for i in range(self.k): #get first k samples\n",
    "      neighbors.append(distances[i][0])\n",
    "    return neighbors\n",
    "  def predict(self,test_set):\n",
    "    predictions=[]\n",
    "    for test_sample in test_set:\n",
    "      neighbors=self.nearest_neighbors(test_sample)\n",
    "      labels=[sample for sample in neighbors]\n",
    "      prediction=max(labels,key=labels.count)\n",
    "      predictions.append(prediction)\n",
    "    return predictions"
   ]
  },
  {
   "cell_type": "markdown",
   "id": "36316947",
   "metadata": {},
   "source": [
    "### Modelo com distância de Hamming"
   ]
  },
  {
   "cell_type": "code",
   "execution_count": 20,
   "id": "4b865ad1",
   "metadata": {},
   "outputs": [],
   "source": [
    "from math import sqrt\n",
    "class KNNHamming():\n",
    "  def __init__(self,k):\n",
    "    self.k=k\n",
    "    print(self.k)\n",
    "  def fit(self,X_train,y_train):\n",
    "    self.x_train=X_train\n",
    "    self.y_train=y_train\n",
    "  def calculate_hamming(self, sample1, sample2):\n",
    "    distance = sum(1 for i in range(len(sample1)) if sample1[i] != sample2[i])\n",
    "    return distance\n",
    "\n",
    "  def nearest_neighbors(self,test_sample):\n",
    "    distances=[]#calculate distances from a test sample to every sample in a training set\n",
    "    for i in range(len(self.x_train)):\n",
    "      distances.append((self.y_train[i],self.calculate_hamming(self.x_train[i],test_sample)))\n",
    "    distances.sort(key=lambda x:x[1])#sort in ascending order, based on a distance value\n",
    "    neighbors=[]\n",
    "    for i in range(self.k): #get first k samples\n",
    "      neighbors.append(distances[i][0])\n",
    "    return neighbors\n",
    "  def predict(self,test_set):\n",
    "    predictions=[]\n",
    "    for test_sample in test_set:\n",
    "      neighbors=self.nearest_neighbors(test_sample)\n",
    "      labels=[sample for sample in neighbors]\n",
    "      prediction=max(labels,key=labels.count)\n",
    "      predictions.append(prediction)\n",
    "    return predictions"
   ]
  },
  {
   "cell_type": "markdown",
   "id": "618f073a",
   "metadata": {},
   "source": [
    "### Modelo com distância de jaccard"
   ]
  },
  {
   "cell_type": "code",
   "execution_count": 21,
   "id": "3836c9b5",
   "metadata": {},
   "outputs": [],
   "source": [
    "from math import sqrt\n",
    "class KNNJaccard():\n",
    "  def __init__(self,k):\n",
    "    self.k=k\n",
    "    print(self.k)\n",
    "  def fit(self,X_train,y_train):\n",
    "    self.x_train=X_train\n",
    "    self.y_train=y_train\n",
    "  def calculate_jaccard(self, sample1, sample2):\n",
    "    set1 = set(sample1)\n",
    "    set2 = set(sample2)\n",
    "    intersection = len(set1.intersection(set2))\n",
    "    union = len(set1.union(set2))\n",
    "    distance = 1 - (intersection / union)\n",
    "    return distance\n",
    "\n",
    "  def nearest_neighbors(self,test_sample):\n",
    "    distances=[]#calculate distances from a test sample to every sample in a training set\n",
    "    for i in range(len(self.x_train)):\n",
    "      distances.append((self.y_train[i],self.calculate_jaccard(self.x_train[i],test_sample)))\n",
    "    distances.sort(key=lambda x:x[1])#sort in ascending order, based on a distance value\n",
    "    neighbors=[]\n",
    "    for i in range(self.k): #get first k samples\n",
    "      neighbors.append(distances[i][0])\n",
    "    return neighbors\n",
    "  def predict(self,test_set):\n",
    "    predictions=[]\n",
    "    for test_sample in test_set:\n",
    "      neighbors=self.nearest_neighbors(test_sample)\n",
    "      labels=[sample for sample in neighbors]\n",
    "      prediction=max(labels,key=labels.count)\n",
    "      predictions.append(prediction)\n",
    "    return predictions"
   ]
  },
  {
   "cell_type": "markdown",
   "id": "f638d8ea",
   "metadata": {},
   "source": [
    "### Modelo com a distância de Minkowski"
   ]
  },
  {
   "cell_type": "code",
   "execution_count": 42,
   "id": "c9cb5690",
   "metadata": {},
   "outputs": [],
   "source": [
    "from math import pow\n",
    "\n",
    "class KNNMinkowski():\n",
    "    def __init__(self, k, p=2):\n",
    "        self.k = k\n",
    "        self.p = p\n",
    "        \n",
    "    def fit(self, X_train, y_train):\n",
    "        self.X_train = X_train\n",
    "        self.y_train = y_train\n",
    "\n",
    "    def calculate_distance(self, sample1, sample2):\n",
    "        distance = 0.0\n",
    "        for i in range(len(sample1)):\n",
    "            distance += pow(abs(sample1[i] - sample2[i]), self.p)\n",
    "        return pow(distance, 1/self.p)\n",
    "\n",
    "    def nearest_neighbors(self, test_sample):\n",
    "        distances = []\n",
    "        for i in range(len(self.X_train)):\n",
    "            distances.append((self.y_train[i], self.calculate_distance(self.X_train[i], test_sample)))\n",
    "        distances.sort(key=lambda x:x[1])\n",
    "        neighbors = []\n",
    "        for i in range(self.k):\n",
    "            neighbors.append(distances[i][0])\n",
    "        return neighbors\n",
    "\n",
    "    def predict(self, test_set):\n",
    "        predictions = []\n",
    "        for test_sample in test_set:\n",
    "            neighbors = self.nearest_neighbors(test_sample)\n",
    "            labels = [sample for sample in neighbors]\n",
    "            prediction = max(labels, key=labels.count)\n",
    "            predictions.append(prediction)\n",
    "        return predictions\n"
   ]
  },
  {
   "cell_type": "markdown",
   "id": "5d85e2f1",
   "metadata": {},
   "source": [
    "## Tratamento dos dados e teste dos modelos.\n",
    "### DATASET 1 - Animais"
   ]
  },
  {
   "cell_type": "code",
   "execution_count": 89,
   "id": "ba29c572",
   "metadata": {},
   "outputs": [],
   "source": [
    "dataset = pd.read_csv('adulto.csv')"
   ]
  },
  {
   "cell_type": "code",
   "execution_count": 90,
   "id": "c05294b0",
   "metadata": {},
   "outputs": [
    {
     "data": {
      "text/html": [
       "<div>\n",
       "<style scoped>\n",
       "    .dataframe tbody tr th:only-of-type {\n",
       "        vertical-align: middle;\n",
       "    }\n",
       "\n",
       "    .dataframe tbody tr th {\n",
       "        vertical-align: top;\n",
       "    }\n",
       "\n",
       "    .dataframe thead th {\n",
       "        text-align: right;\n",
       "    }\n",
       "</style>\n",
       "<table border=\"1\" class=\"dataframe\">\n",
       "  <thead>\n",
       "    <tr style=\"text-align: right;\">\n",
       "      <th></th>\n",
       "      <th>id</th>\n",
       "      <th>age</th>\n",
       "      <th>workclass</th>\n",
       "      <th>fnlwgt</th>\n",
       "      <th>education</th>\n",
       "      <th>education-num</th>\n",
       "      <th>marital-status</th>\n",
       "      <th>occupation</th>\n",
       "      <th>relationship</th>\n",
       "      <th>race</th>\n",
       "      <th>sex</th>\n",
       "      <th>capital-gain</th>\n",
       "      <th>capital-loss</th>\n",
       "      <th>hours-per-week</th>\n",
       "      <th>native-country</th>\n",
       "      <th>class</th>\n",
       "    </tr>\n",
       "  </thead>\n",
       "  <tbody>\n",
       "    <tr>\n",
       "      <th>0</th>\n",
       "      <td>1</td>\n",
       "      <td>25</td>\n",
       "      <td>Private</td>\n",
       "      <td>226802</td>\n",
       "      <td>11th</td>\n",
       "      <td>7</td>\n",
       "      <td>Never-married</td>\n",
       "      <td>Machine-op-inspct</td>\n",
       "      <td>Own-child</td>\n",
       "      <td>Black</td>\n",
       "      <td>Male</td>\n",
       "      <td>0</td>\n",
       "      <td>0</td>\n",
       "      <td>40</td>\n",
       "      <td>United-States</td>\n",
       "      <td>&lt;=50K</td>\n",
       "    </tr>\n",
       "    <tr>\n",
       "      <th>1</th>\n",
       "      <td>2</td>\n",
       "      <td>38</td>\n",
       "      <td>Private</td>\n",
       "      <td>89814</td>\n",
       "      <td>HS-grad</td>\n",
       "      <td>9</td>\n",
       "      <td>Married-civ-spouse</td>\n",
       "      <td>Farming-fishing</td>\n",
       "      <td>Husband</td>\n",
       "      <td>White</td>\n",
       "      <td>Male</td>\n",
       "      <td>0</td>\n",
       "      <td>0</td>\n",
       "      <td>50</td>\n",
       "      <td>United-States</td>\n",
       "      <td>&lt;=50K</td>\n",
       "    </tr>\n",
       "    <tr>\n",
       "      <th>2</th>\n",
       "      <td>3</td>\n",
       "      <td>28</td>\n",
       "      <td>Local-gov</td>\n",
       "      <td>336951</td>\n",
       "      <td>Assoc-acdm</td>\n",
       "      <td>12</td>\n",
       "      <td>Married-civ-spouse</td>\n",
       "      <td>Protective-serv</td>\n",
       "      <td>Husband</td>\n",
       "      <td>White</td>\n",
       "      <td>Male</td>\n",
       "      <td>0</td>\n",
       "      <td>0</td>\n",
       "      <td>40</td>\n",
       "      <td>United-States</td>\n",
       "      <td>&gt;50K</td>\n",
       "    </tr>\n",
       "    <tr>\n",
       "      <th>3</th>\n",
       "      <td>4</td>\n",
       "      <td>44</td>\n",
       "      <td>Private</td>\n",
       "      <td>160323</td>\n",
       "      <td>Some-college</td>\n",
       "      <td>10</td>\n",
       "      <td>Married-civ-spouse</td>\n",
       "      <td>Machine-op-inspct</td>\n",
       "      <td>Husband</td>\n",
       "      <td>Black</td>\n",
       "      <td>Male</td>\n",
       "      <td>7688</td>\n",
       "      <td>0</td>\n",
       "      <td>40</td>\n",
       "      <td>United-States</td>\n",
       "      <td>&gt;50K</td>\n",
       "    </tr>\n",
       "    <tr>\n",
       "      <th>4</th>\n",
       "      <td>5</td>\n",
       "      <td>18</td>\n",
       "      <td>?</td>\n",
       "      <td>103497</td>\n",
       "      <td>Some-college</td>\n",
       "      <td>10</td>\n",
       "      <td>Never-married</td>\n",
       "      <td>?</td>\n",
       "      <td>Own-child</td>\n",
       "      <td>White</td>\n",
       "      <td>Female</td>\n",
       "      <td>0</td>\n",
       "      <td>0</td>\n",
       "      <td>30</td>\n",
       "      <td>United-States</td>\n",
       "      <td>&lt;=50K</td>\n",
       "    </tr>\n",
       "  </tbody>\n",
       "</table>\n",
       "</div>"
      ],
      "text/plain": [
       "   id  age  workclass  fnlwgt     education  education-num  \\\n",
       "0   1   25    Private  226802          11th              7   \n",
       "1   2   38    Private   89814       HS-grad              9   \n",
       "2   3   28  Local-gov  336951    Assoc-acdm             12   \n",
       "3   4   44    Private  160323  Some-college             10   \n",
       "4   5   18          ?  103497  Some-college             10   \n",
       "\n",
       "       marital-status         occupation relationship   race     sex  \\\n",
       "0       Never-married  Machine-op-inspct    Own-child  Black    Male   \n",
       "1  Married-civ-spouse    Farming-fishing      Husband  White    Male   \n",
       "2  Married-civ-spouse    Protective-serv      Husband  White    Male   \n",
       "3  Married-civ-spouse  Machine-op-inspct      Husband  Black    Male   \n",
       "4       Never-married                  ?    Own-child  White  Female   \n",
       "\n",
       "   capital-gain  capital-loss  hours-per-week native-country  class  \n",
       "0             0             0              40  United-States  <=50K  \n",
       "1             0             0              50  United-States  <=50K  \n",
       "2             0             0              40  United-States   >50K  \n",
       "3          7688             0              40  United-States   >50K  \n",
       "4             0             0              30  United-States  <=50K  "
      ]
     },
     "execution_count": 90,
     "metadata": {},
     "output_type": "execute_result"
    }
   ],
   "source": [
    "dataset.head()"
   ]
  },
  {
   "cell_type": "code",
   "execution_count": 91,
   "id": "6b9c80da",
   "metadata": {},
   "outputs": [],
   "source": [
    "for column in ['workclass',  'education',\n",
    "       'marital-status', 'occupation', 'relationship', 'race', 'sex', 'native-country',\n",
    "       'class']:\n",
    "    le = LabelEncoder()\n",
    "    dataset[column] = le.fit_transform(dataset[column])"
   ]
  },
  {
   "cell_type": "code",
   "execution_count": 92,
   "id": "80a4a82a",
   "metadata": {},
   "outputs": [
    {
     "data": {
      "text/html": [
       "<div>\n",
       "<style scoped>\n",
       "    .dataframe tbody tr th:only-of-type {\n",
       "        vertical-align: middle;\n",
       "    }\n",
       "\n",
       "    .dataframe tbody tr th {\n",
       "        vertical-align: top;\n",
       "    }\n",
       "\n",
       "    .dataframe thead th {\n",
       "        text-align: right;\n",
       "    }\n",
       "</style>\n",
       "<table border=\"1\" class=\"dataframe\">\n",
       "  <thead>\n",
       "    <tr style=\"text-align: right;\">\n",
       "      <th></th>\n",
       "      <th>id</th>\n",
       "      <th>age</th>\n",
       "      <th>workclass</th>\n",
       "      <th>fnlwgt</th>\n",
       "      <th>education</th>\n",
       "      <th>education-num</th>\n",
       "      <th>marital-status</th>\n",
       "      <th>occupation</th>\n",
       "      <th>relationship</th>\n",
       "      <th>race</th>\n",
       "      <th>sex</th>\n",
       "      <th>capital-gain</th>\n",
       "      <th>capital-loss</th>\n",
       "      <th>hours-per-week</th>\n",
       "      <th>native-country</th>\n",
       "      <th>class</th>\n",
       "    </tr>\n",
       "  </thead>\n",
       "  <tbody>\n",
       "    <tr>\n",
       "      <th>0</th>\n",
       "      <td>1</td>\n",
       "      <td>25</td>\n",
       "      <td>3</td>\n",
       "      <td>226802</td>\n",
       "      <td>1</td>\n",
       "      <td>7</td>\n",
       "      <td>4</td>\n",
       "      <td>7</td>\n",
       "      <td>3</td>\n",
       "      <td>2</td>\n",
       "      <td>1</td>\n",
       "      <td>0</td>\n",
       "      <td>0</td>\n",
       "      <td>40</td>\n",
       "      <td>26</td>\n",
       "      <td>0</td>\n",
       "    </tr>\n",
       "    <tr>\n",
       "      <th>1</th>\n",
       "      <td>2</td>\n",
       "      <td>38</td>\n",
       "      <td>3</td>\n",
       "      <td>89814</td>\n",
       "      <td>11</td>\n",
       "      <td>9</td>\n",
       "      <td>2</td>\n",
       "      <td>5</td>\n",
       "      <td>0</td>\n",
       "      <td>4</td>\n",
       "      <td>1</td>\n",
       "      <td>0</td>\n",
       "      <td>0</td>\n",
       "      <td>50</td>\n",
       "      <td>26</td>\n",
       "      <td>0</td>\n",
       "    </tr>\n",
       "    <tr>\n",
       "      <th>2</th>\n",
       "      <td>3</td>\n",
       "      <td>28</td>\n",
       "      <td>2</td>\n",
       "      <td>336951</td>\n",
       "      <td>7</td>\n",
       "      <td>12</td>\n",
       "      <td>2</td>\n",
       "      <td>11</td>\n",
       "      <td>0</td>\n",
       "      <td>4</td>\n",
       "      <td>1</td>\n",
       "      <td>0</td>\n",
       "      <td>0</td>\n",
       "      <td>40</td>\n",
       "      <td>26</td>\n",
       "      <td>1</td>\n",
       "    </tr>\n",
       "    <tr>\n",
       "      <th>3</th>\n",
       "      <td>4</td>\n",
       "      <td>44</td>\n",
       "      <td>3</td>\n",
       "      <td>160323</td>\n",
       "      <td>15</td>\n",
       "      <td>10</td>\n",
       "      <td>2</td>\n",
       "      <td>7</td>\n",
       "      <td>0</td>\n",
       "      <td>2</td>\n",
       "      <td>1</td>\n",
       "      <td>7688</td>\n",
       "      <td>0</td>\n",
       "      <td>40</td>\n",
       "      <td>26</td>\n",
       "      <td>1</td>\n",
       "    </tr>\n",
       "    <tr>\n",
       "      <th>4</th>\n",
       "      <td>5</td>\n",
       "      <td>18</td>\n",
       "      <td>0</td>\n",
       "      <td>103497</td>\n",
       "      <td>15</td>\n",
       "      <td>10</td>\n",
       "      <td>4</td>\n",
       "      <td>0</td>\n",
       "      <td>3</td>\n",
       "      <td>4</td>\n",
       "      <td>0</td>\n",
       "      <td>0</td>\n",
       "      <td>0</td>\n",
       "      <td>30</td>\n",
       "      <td>26</td>\n",
       "      <td>0</td>\n",
       "    </tr>\n",
       "  </tbody>\n",
       "</table>\n",
       "</div>"
      ],
      "text/plain": [
       "   id  age  workclass  fnlwgt  education  education-num  marital-status  \\\n",
       "0   1   25          3  226802          1              7               4   \n",
       "1   2   38          3   89814         11              9               2   \n",
       "2   3   28          2  336951          7             12               2   \n",
       "3   4   44          3  160323         15             10               2   \n",
       "4   5   18          0  103497         15             10               4   \n",
       "\n",
       "   occupation  relationship  race  sex  capital-gain  capital-loss  \\\n",
       "0           7             3     2    1             0             0   \n",
       "1           5             0     4    1             0             0   \n",
       "2          11             0     4    1             0             0   \n",
       "3           7             0     2    1          7688             0   \n",
       "4           0             3     4    0             0             0   \n",
       "\n",
       "   hours-per-week  native-country  class  \n",
       "0              40              26      0  \n",
       "1              50              26      0  \n",
       "2              40              26      1  \n",
       "3              40              26      1  \n",
       "4              30              26      0  "
      ]
     },
     "execution_count": 92,
     "metadata": {},
     "output_type": "execute_result"
    }
   ],
   "source": [
    "dataset.head()"
   ]
  },
  {
   "cell_type": "code",
   "execution_count": 93,
   "id": "25ba3b35",
   "metadata": {},
   "outputs": [],
   "source": [
    "X = dataset.iloc[:, 1:-1].values\n",
    "y = dataset.iloc[:, -1].values\n"
   ]
  },
  {
   "cell_type": "code",
   "execution_count": 113,
   "id": "c88a932f",
   "metadata": {},
   "outputs": [],
   "source": [
    "X_train, X_test, y_train, y_test = train_test_split(X, y, test_size=0.3, random_state=0)\n"
   ]
  },
  {
   "cell_type": "code",
   "execution_count": 122,
   "id": "802f1d1f",
   "metadata": {},
   "outputs": [],
   "source": [
    "accuracy=[]"
   ]
  },
  {
   "cell_type": "code",
   "execution_count": 135,
   "id": "a670f6f6",
   "metadata": {},
   "outputs": [
    {
     "data": {
      "text/plain": [
       "[0.7466666666666667,\n",
       " 0.7466666666666667,\n",
       " 0.7466666666666667,\n",
       " 0.7966666666666666]"
      ]
     },
     "execution_count": 135,
     "metadata": {},
     "output_type": "execute_result"
    }
   ],
   "source": [
    "accuracy"
   ]
  },
  {
   "cell_type": "markdown",
   "id": "b16f4437",
   "metadata": {},
   "source": [
    "## Teste 1\n",
    "### Modelo que obtemos diretamente a partir do sklearn"
   ]
  },
  {
   "cell_type": "code",
   "execution_count": 124,
   "id": "d2c0d9e7",
   "metadata": {},
   "outputs": [
    {
     "data": {
      "text/html": [
       "<style>#sk-container-id-6 {color: black;background-color: white;}#sk-container-id-6 pre{padding: 0;}#sk-container-id-6 div.sk-toggleable {background-color: white;}#sk-container-id-6 label.sk-toggleable__label {cursor: pointer;display: block;width: 100%;margin-bottom: 0;padding: 0.3em;box-sizing: border-box;text-align: center;}#sk-container-id-6 label.sk-toggleable__label-arrow:before {content: \"▸\";float: left;margin-right: 0.25em;color: #696969;}#sk-container-id-6 label.sk-toggleable__label-arrow:hover:before {color: black;}#sk-container-id-6 div.sk-estimator:hover label.sk-toggleable__label-arrow:before {color: black;}#sk-container-id-6 div.sk-toggleable__content {max-height: 0;max-width: 0;overflow: hidden;text-align: left;background-color: #f0f8ff;}#sk-container-id-6 div.sk-toggleable__content pre {margin: 0.2em;color: black;border-radius: 0.25em;background-color: #f0f8ff;}#sk-container-id-6 input.sk-toggleable__control:checked~div.sk-toggleable__content {max-height: 200px;max-width: 100%;overflow: auto;}#sk-container-id-6 input.sk-toggleable__control:checked~label.sk-toggleable__label-arrow:before {content: \"▾\";}#sk-container-id-6 div.sk-estimator input.sk-toggleable__control:checked~label.sk-toggleable__label {background-color: #d4ebff;}#sk-container-id-6 div.sk-label input.sk-toggleable__control:checked~label.sk-toggleable__label {background-color: #d4ebff;}#sk-container-id-6 input.sk-hidden--visually {border: 0;clip: rect(1px 1px 1px 1px);clip: rect(1px, 1px, 1px, 1px);height: 1px;margin: -1px;overflow: hidden;padding: 0;position: absolute;width: 1px;}#sk-container-id-6 div.sk-estimator {font-family: monospace;background-color: #f0f8ff;border: 1px dotted black;border-radius: 0.25em;box-sizing: border-box;margin-bottom: 0.5em;}#sk-container-id-6 div.sk-estimator:hover {background-color: #d4ebff;}#sk-container-id-6 div.sk-parallel-item::after {content: \"\";width: 100%;border-bottom: 1px solid gray;flex-grow: 1;}#sk-container-id-6 div.sk-label:hover label.sk-toggleable__label {background-color: #d4ebff;}#sk-container-id-6 div.sk-serial::before {content: \"\";position: absolute;border-left: 1px solid gray;box-sizing: border-box;top: 0;bottom: 0;left: 50%;z-index: 0;}#sk-container-id-6 div.sk-serial {display: flex;flex-direction: column;align-items: center;background-color: white;padding-right: 0.2em;padding-left: 0.2em;position: relative;}#sk-container-id-6 div.sk-item {position: relative;z-index: 1;}#sk-container-id-6 div.sk-parallel {display: flex;align-items: stretch;justify-content: center;background-color: white;position: relative;}#sk-container-id-6 div.sk-item::before, #sk-container-id-6 div.sk-parallel-item::before {content: \"\";position: absolute;border-left: 1px solid gray;box-sizing: border-box;top: 0;bottom: 0;left: 50%;z-index: -1;}#sk-container-id-6 div.sk-parallel-item {display: flex;flex-direction: column;z-index: 1;position: relative;background-color: white;}#sk-container-id-6 div.sk-parallel-item:first-child::after {align-self: flex-end;width: 50%;}#sk-container-id-6 div.sk-parallel-item:last-child::after {align-self: flex-start;width: 50%;}#sk-container-id-6 div.sk-parallel-item:only-child::after {width: 0;}#sk-container-id-6 div.sk-dashed-wrapped {border: 1px dashed gray;margin: 0 0.4em 0.5em 0.4em;box-sizing: border-box;padding-bottom: 0.4em;background-color: white;}#sk-container-id-6 div.sk-label label {font-family: monospace;font-weight: bold;display: inline-block;line-height: 1.2em;}#sk-container-id-6 div.sk-label-container {text-align: center;}#sk-container-id-6 div.sk-container {/* jupyter's `normalize.less` sets `[hidden] { display: none; }` but bootstrap.min.css set `[hidden] { display: none !important; }` so we also need the `!important` here to be able to override the default hidden behavior on the sphinx rendered scikit-learn.org. See: https://github.com/scikit-learn/scikit-learn/issues/21755 */display: inline-block !important;position: relative;}#sk-container-id-6 div.sk-text-repr-fallback {display: none;}</style><div id=\"sk-container-id-6\" class=\"sk-top-container\"><div class=\"sk-text-repr-fallback\"><pre>KNeighborsClassifier()</pre><b>In a Jupyter environment, please rerun this cell to show the HTML representation or trust the notebook. <br />On GitHub, the HTML representation is unable to render, please try loading this page with nbviewer.org.</b></div><div class=\"sk-container\" hidden><div class=\"sk-item\"><div class=\"sk-estimator sk-toggleable\"><input class=\"sk-toggleable__control sk-hidden--visually\" id=\"sk-estimator-id-6\" type=\"checkbox\" checked><label for=\"sk-estimator-id-6\" class=\"sk-toggleable__label sk-toggleable__label-arrow\">KNeighborsClassifier</label><div class=\"sk-toggleable__content\"><pre>KNeighborsClassifier()</pre></div></div></div></div></div>"
      ],
      "text/plain": [
       "KNeighborsClassifier()"
      ]
     },
     "execution_count": 124,
     "metadata": {},
     "output_type": "execute_result"
    }
   ],
   "source": [
    "KNN.fit(X_train,y_train)"
   ]
  },
  {
   "cell_type": "code",
   "execution_count": 125,
   "id": "3fbfd3a1",
   "metadata": {},
   "outputs": [
    {
     "name": "stdout",
     "output_type": "stream",
     "text": [
      "Accuracy =  0.7466666666666667\n"
     ]
    }
   ],
   "source": [
    "Y_pred=KNN.predict(X_test)\n",
    "print(\"Accuracy = \", accuracy_score(y_test,Y_pred))\n",
    "accuracy.append(accuracy_score(y_test,Y_pred))"
   ]
  },
  {
   "cell_type": "markdown",
   "id": "82f08b71",
   "metadata": {},
   "source": [
    "## Teste 2\n",
    "### Código do modelo, sem a alteração"
   ]
  },
  {
   "cell_type": "code",
   "execution_count": 127,
   "id": "3b8f52fa",
   "metadata": {},
   "outputs": [
    {
     "name": "stdout",
     "output_type": "stream",
     "text": [
      "5\n"
     ]
    }
   ],
   "source": [
    "KNN2=KNNNormal(5) #our model\n",
    "KNN2.fit(X_train,y_train)"
   ]
  },
  {
   "cell_type": "code",
   "execution_count": 128,
   "id": "b988cbf9",
   "metadata": {},
   "outputs": [
    {
     "name": "stdout",
     "output_type": "stream",
     "text": [
      "Accuracy =  0.7466666666666667\n"
     ]
    }
   ],
   "source": [
    "Y1_pred = KNN2.predict(X_test)\n",
    "print(\"Accuracy = \", accuracy_score(y_test, Y1_pred))\n",
    "accuracy.append(accuracy_score(y_test,Y1_pred))"
   ]
  },
  {
   "cell_type": "markdown",
   "id": "20190475",
   "metadata": {},
   "source": [
    "## Teste 3\n",
    "### Distância de Manhattan"
   ]
  },
  {
   "cell_type": "code",
   "execution_count": 130,
   "id": "fba6f017",
   "metadata": {},
   "outputs": [
    {
     "name": "stdout",
     "output_type": "stream",
     "text": [
      "5\n"
     ]
    }
   ],
   "source": [
    "KNN3=KNNManhattan(5) #our model\n",
    "KNN3.fit(X_train,y_train)"
   ]
  },
  {
   "cell_type": "code",
   "execution_count": 131,
   "id": "1197b6a0",
   "metadata": {},
   "outputs": [
    {
     "name": "stdout",
     "output_type": "stream",
     "text": [
      "Accuracy =  0.7466666666666667\n"
     ]
    }
   ],
   "source": [
    "Y1_pred = KNN3.predict(X_test)\n",
    "print(\"Accuracy = \", accuracy_score(y_test, Y1_pred))\n",
    "accuracy.append(accuracy_score(y_test,Y1_pred))"
   ]
  },
  {
   "cell_type": "markdown",
   "id": "62c7c33c",
   "metadata": {},
   "source": [
    "## Teste 4\n",
    "### Distância de Hamming - Neste teste foi a melhor porque se tratam de dados categóricos e esta distância tem em conta esses dados ao medir a quantidade o numero de caracteristicas categóricas em que os pontos diferem."
   ]
  },
  {
   "cell_type": "code",
   "execution_count": 133,
   "id": "9db702c9",
   "metadata": {},
   "outputs": [
    {
     "name": "stdout",
     "output_type": "stream",
     "text": [
      "5\n"
     ]
    }
   ],
   "source": [
    "KNN4=KNNHamming(5) #our model\n",
    "KNN4.fit(X_train,y_train)"
   ]
  },
  {
   "cell_type": "code",
   "execution_count": 134,
   "id": "4f824780",
   "metadata": {},
   "outputs": [
    {
     "name": "stdout",
     "output_type": "stream",
     "text": [
      "Accuracy =  0.7966666666666666\n"
     ]
    }
   ],
   "source": [
    "Y1_pred = KNN4.predict(X_test)\n",
    "print(\"Accuracy = \", accuracy_score(y_test, Y1_pred))\n",
    "accuracy.append(accuracy_score(y_test,Y1_pred))"
   ]
  },
  {
   "cell_type": "markdown",
   "id": "255403f6",
   "metadata": {},
   "source": [
    "## Teste 5\n",
    "### Distância de Jaccard "
   ]
  },
  {
   "cell_type": "code",
   "execution_count": 136,
   "id": "0358abb4",
   "metadata": {},
   "outputs": [
    {
     "name": "stdout",
     "output_type": "stream",
     "text": [
      "5\n"
     ]
    }
   ],
   "source": [
    "KNN5=KNNJaccard(5) #our model\n",
    "KNN5.fit(X_train,y_train)"
   ]
  },
  {
   "cell_type": "code",
   "execution_count": 137,
   "id": "594d827b",
   "metadata": {},
   "outputs": [
    {
     "name": "stdout",
     "output_type": "stream",
     "text": [
      "Accuracy =  0.7666666666666667\n"
     ]
    }
   ],
   "source": [
    "Y1_pred = KNN5.predict(X_test)\n",
    "print(\"Accuracy = \", accuracy_score(y_test, Y1_pred))\n",
    "accuracy.append(accuracy_score(y_test,Y1_pred))"
   ]
  },
  {
   "cell_type": "markdown",
   "id": "7ba1e5f4",
   "metadata": {},
   "source": [
    "## Teste 6\n",
    "### Distância de Minkowski"
   ]
  },
  {
   "cell_type": "code",
   "execution_count": 138,
   "id": "ab274f6e",
   "metadata": {},
   "outputs": [],
   "source": [
    "KNN6=KNNMinkowski(5) #our model\n",
    "KNN6.fit(X_train,y_train)"
   ]
  },
  {
   "cell_type": "code",
   "execution_count": 139,
   "id": "48d88778",
   "metadata": {},
   "outputs": [
    {
     "name": "stdout",
     "output_type": "stream",
     "text": [
      "Accuracy =  0.7466666666666667\n"
     ]
    }
   ],
   "source": [
    "Y1_pred = KNN6.predict(X_test)\n",
    "print(\"Accuracy = \", accuracy_score(y_test, Y1_pred))\n",
    "accuracy.append(accuracy_score(y_test,Y1_pred))"
   ]
  },
  {
   "cell_type": "markdown",
   "id": "c6f9109d",
   "metadata": {},
   "source": [
    "### Análise"
   ]
  },
  {
   "cell_type": "code",
   "execution_count": 144,
   "id": "fe8b76fe",
   "metadata": {},
   "outputs": [
    {
     "data": {
      "image/png": "[encoded data removed]",
      "text/plain": [
       "<Figure size 432x288 with 1 Axes>"
      ]
     },
     "metadata": {
      "needs_background": "light"
     },
     "output_type": "display_data"
    }
   ],
   "source": [
    "plt.plot(accuracy)\n",
    "plt.xlabel(\"Model\")\n",
    "plt.ylabel(\"Accuracy\")\n",
    "plt.title(\"KNN Performance for k=5\")\n",
    "plt.xticks(range(6), ['KNN','KNNNormal','KNNManhattan','KNNHamming','KNNJaccard','KNNMinkowski'])\n",
    "plt.show()\n"
   ]
  },
  {
   "cell_type": "markdown",
   "id": "b750db41",
   "metadata": {},
   "source": [
    "### Neste dataset, todos as medidas tiveram scores similares, com exceção para Hamming que se destacou. Uma possivel justificação para isso é o facto de esta distância transformar as strings de texto em vetores binários, onde cada bit representa a presença ou ausência de uma determinada categoria.\n",
    "\n",
    "### O KNN com Hamming distance é capaz de lidar com recursos categóricos de forma mais eficiente do que outras medidas de distância, que são baseadas em valores numéricos. Isso ocorre porque as medidas de distância baseadas em valores numéricos podem levar a resultados imprecisos ou irrelevantes quando aplicadas a dados categóricos. Além disso a medida de Hamming  também é capaz de lidar com dados categóricos pouco equilibrados, onde algumas categorias podem ter uma frequência muito baixa, porque considera apenas a presença ou ausência de uma categoria, em vez de seu valor numérico, sendo menos afetado pelo desequilíbrio na frequência das categorias."
   ]
  },
  {
   "cell_type": "markdown",
   "id": "5d81ec10",
   "metadata": {},
   "source": [
    "### Dataset 2 -  Prever letras"
   ]
  },
  {
   "cell_type": "code",
   "execution_count": 146,
   "id": "6f892bf1",
   "metadata": {},
   "outputs": [],
   "source": [
    "dataset = pd.read_csv('letter.csv')"
   ]
  },
  {
   "cell_type": "code",
   "execution_count": 147,
   "id": "cb48dcd5",
   "metadata": {},
   "outputs": [
    {
     "data": {
      "text/html": [
       "<div>\n",
       "<style scoped>\n",
       "    .dataframe tbody tr th:only-of-type {\n",
       "        vertical-align: middle;\n",
       "    }\n",
       "\n",
       "    .dataframe tbody tr th {\n",
       "        vertical-align: top;\n",
       "    }\n",
       "\n",
       "    .dataframe thead th {\n",
       "        text-align: right;\n",
       "    }\n",
       "</style>\n",
       "<table border=\"1\" class=\"dataframe\">\n",
       "  <thead>\n",
       "    <tr style=\"text-align: right;\">\n",
       "      <th></th>\n",
       "      <th>id</th>\n",
       "      <th>'x-box'</th>\n",
       "      <th>'y-box'</th>\n",
       "      <th>'width'</th>\n",
       "      <th>'high'</th>\n",
       "      <th>'onpix'</th>\n",
       "      <th>'x-bar'</th>\n",
       "      <th>'y-bar'</th>\n",
       "      <th>'x2bar'</th>\n",
       "      <th>'y2bar'</th>\n",
       "      <th>'xybar'</th>\n",
       "      <th>'x2ybr'</th>\n",
       "      <th>'xy2br'</th>\n",
       "      <th>'x-ege'</th>\n",
       "      <th>'xegvy'</th>\n",
       "      <th>'y-ege'</th>\n",
       "      <th>'yegvx'</th>\n",
       "      <th>'class'</th>\n",
       "    </tr>\n",
       "  </thead>\n",
       "  <tbody>\n",
       "    <tr>\n",
       "      <th>0</th>\n",
       "      <td>1</td>\n",
       "      <td>2</td>\n",
       "      <td>4</td>\n",
       "      <td>4</td>\n",
       "      <td>3</td>\n",
       "      <td>2</td>\n",
       "      <td>7</td>\n",
       "      <td>8</td>\n",
       "      <td>2</td>\n",
       "      <td>9</td>\n",
       "      <td>11</td>\n",
       "      <td>7</td>\n",
       "      <td>7</td>\n",
       "      <td>1</td>\n",
       "      <td>8</td>\n",
       "      <td>5</td>\n",
       "      <td>6</td>\n",
       "      <td>Z</td>\n",
       "    </tr>\n",
       "    <tr>\n",
       "      <th>1</th>\n",
       "      <td>2</td>\n",
       "      <td>4</td>\n",
       "      <td>7</td>\n",
       "      <td>5</td>\n",
       "      <td>5</td>\n",
       "      <td>5</td>\n",
       "      <td>5</td>\n",
       "      <td>9</td>\n",
       "      <td>6</td>\n",
       "      <td>4</td>\n",
       "      <td>8</td>\n",
       "      <td>7</td>\n",
       "      <td>9</td>\n",
       "      <td>2</td>\n",
       "      <td>9</td>\n",
       "      <td>7</td>\n",
       "      <td>10</td>\n",
       "      <td>P</td>\n",
       "    </tr>\n",
       "    <tr>\n",
       "      <th>2</th>\n",
       "      <td>3</td>\n",
       "      <td>7</td>\n",
       "      <td>10</td>\n",
       "      <td>8</td>\n",
       "      <td>7</td>\n",
       "      <td>4</td>\n",
       "      <td>8</td>\n",
       "      <td>8</td>\n",
       "      <td>5</td>\n",
       "      <td>10</td>\n",
       "      <td>11</td>\n",
       "      <td>2</td>\n",
       "      <td>8</td>\n",
       "      <td>2</td>\n",
       "      <td>5</td>\n",
       "      <td>5</td>\n",
       "      <td>10</td>\n",
       "      <td>S</td>\n",
       "    </tr>\n",
       "    <tr>\n",
       "      <th>3</th>\n",
       "      <td>4</td>\n",
       "      <td>4</td>\n",
       "      <td>9</td>\n",
       "      <td>5</td>\n",
       "      <td>7</td>\n",
       "      <td>4</td>\n",
       "      <td>7</td>\n",
       "      <td>7</td>\n",
       "      <td>13</td>\n",
       "      <td>1</td>\n",
       "      <td>7</td>\n",
       "      <td>6</td>\n",
       "      <td>8</td>\n",
       "      <td>3</td>\n",
       "      <td>8</td>\n",
       "      <td>0</td>\n",
       "      <td>8</td>\n",
       "      <td>H</td>\n",
       "    </tr>\n",
       "    <tr>\n",
       "      <th>4</th>\n",
       "      <td>5</td>\n",
       "      <td>6</td>\n",
       "      <td>7</td>\n",
       "      <td>8</td>\n",
       "      <td>5</td>\n",
       "      <td>4</td>\n",
       "      <td>7</td>\n",
       "      <td>6</td>\n",
       "      <td>3</td>\n",
       "      <td>7</td>\n",
       "      <td>10</td>\n",
       "      <td>7</td>\n",
       "      <td>9</td>\n",
       "      <td>3</td>\n",
       "      <td>8</td>\n",
       "      <td>3</td>\n",
       "      <td>7</td>\n",
       "      <td>H</td>\n",
       "    </tr>\n",
       "  </tbody>\n",
       "</table>\n",
       "</div>"
      ],
      "text/plain": [
       "   id  'x-box'  'y-box'  'width'  'high'  'onpix'  'x-bar'  'y-bar'  'x2bar'  \\\n",
       "0   1        2        4        4       3        2        7        8        2   \n",
       "1   2        4        7        5       5        5        5        9        6   \n",
       "2   3        7       10        8       7        4        8        8        5   \n",
       "3   4        4        9        5       7        4        7        7       13   \n",
       "4   5        6        7        8       5        4        7        6        3   \n",
       "\n",
       "   'y2bar'  'xybar'  'x2ybr'  'xy2br'  'x-ege'  'xegvy'  'y-ege'  'yegvx'  \\\n",
       "0        9       11        7        7        1        8        5        6   \n",
       "1        4        8        7        9        2        9        7       10   \n",
       "2       10       11        2        8        2        5        5       10   \n",
       "3        1        7        6        8        3        8        0        8   \n",
       "4        7       10        7        9        3        8        3        7   \n",
       "\n",
       "  'class'  \n",
       "0       Z  \n",
       "1       P  \n",
       "2       S  \n",
       "3       H  \n",
       "4       H  "
      ]
     },
     "execution_count": 147,
     "metadata": {},
     "output_type": "execute_result"
    }
   ],
   "source": [
    "dataset.head()"
   ]
  },
  {
   "cell_type": "code",
   "execution_count": 148,
   "id": "d081beeb",
   "metadata": {},
   "outputs": [],
   "source": [
    "for column in dataset.columns:\n",
    "    le = LabelEncoder()\n",
    "    dataset[column] = le.fit_transform(dataset[column])\n",
    "    \n",
    "#Podia-se mudar só a ultima coluna mas como os outros valores não alteram mantemos o padrão de instrução que usamos\n",
    "#nos outros datasets."
   ]
  },
  {
   "cell_type": "code",
   "execution_count": 149,
   "id": "3ac8078c",
   "metadata": {},
   "outputs": [
    {
     "data": {
      "text/html": [
       "<div>\n",
       "<style scoped>\n",
       "    .dataframe tbody tr th:only-of-type {\n",
       "        vertical-align: middle;\n",
       "    }\n",
       "\n",
       "    .dataframe tbody tr th {\n",
       "        vertical-align: top;\n",
       "    }\n",
       "\n",
       "    .dataframe thead th {\n",
       "        text-align: right;\n",
       "    }\n",
       "</style>\n",
       "<table border=\"1\" class=\"dataframe\">\n",
       "  <thead>\n",
       "    <tr style=\"text-align: right;\">\n",
       "      <th></th>\n",
       "      <th>id</th>\n",
       "      <th>'x-box'</th>\n",
       "      <th>'y-box'</th>\n",
       "      <th>'width'</th>\n",
       "      <th>'high'</th>\n",
       "      <th>'onpix'</th>\n",
       "      <th>'x-bar'</th>\n",
       "      <th>'y-bar'</th>\n",
       "      <th>'x2bar'</th>\n",
       "      <th>'y2bar'</th>\n",
       "      <th>'xybar'</th>\n",
       "      <th>'x2ybr'</th>\n",
       "      <th>'xy2br'</th>\n",
       "      <th>'x-ege'</th>\n",
       "      <th>'xegvy'</th>\n",
       "      <th>'y-ege'</th>\n",
       "      <th>'yegvx'</th>\n",
       "      <th>'class'</th>\n",
       "    </tr>\n",
       "  </thead>\n",
       "  <tbody>\n",
       "    <tr>\n",
       "      <th>0</th>\n",
       "      <td>0</td>\n",
       "      <td>2</td>\n",
       "      <td>4</td>\n",
       "      <td>4</td>\n",
       "      <td>3</td>\n",
       "      <td>2</td>\n",
       "      <td>7</td>\n",
       "      <td>8</td>\n",
       "      <td>2</td>\n",
       "      <td>9</td>\n",
       "      <td>11</td>\n",
       "      <td>7</td>\n",
       "      <td>6</td>\n",
       "      <td>1</td>\n",
       "      <td>7</td>\n",
       "      <td>5</td>\n",
       "      <td>6</td>\n",
       "      <td>25</td>\n",
       "    </tr>\n",
       "    <tr>\n",
       "      <th>1</th>\n",
       "      <td>1</td>\n",
       "      <td>4</td>\n",
       "      <td>7</td>\n",
       "      <td>5</td>\n",
       "      <td>5</td>\n",
       "      <td>5</td>\n",
       "      <td>5</td>\n",
       "      <td>9</td>\n",
       "      <td>6</td>\n",
       "      <td>4</td>\n",
       "      <td>8</td>\n",
       "      <td>7</td>\n",
       "      <td>8</td>\n",
       "      <td>2</td>\n",
       "      <td>8</td>\n",
       "      <td>7</td>\n",
       "      <td>10</td>\n",
       "      <td>15</td>\n",
       "    </tr>\n",
       "    <tr>\n",
       "      <th>2</th>\n",
       "      <td>2</td>\n",
       "      <td>7</td>\n",
       "      <td>10</td>\n",
       "      <td>8</td>\n",
       "      <td>7</td>\n",
       "      <td>4</td>\n",
       "      <td>8</td>\n",
       "      <td>8</td>\n",
       "      <td>5</td>\n",
       "      <td>10</td>\n",
       "      <td>11</td>\n",
       "      <td>2</td>\n",
       "      <td>7</td>\n",
       "      <td>2</td>\n",
       "      <td>4</td>\n",
       "      <td>5</td>\n",
       "      <td>10</td>\n",
       "      <td>18</td>\n",
       "    </tr>\n",
       "    <tr>\n",
       "      <th>3</th>\n",
       "      <td>3</td>\n",
       "      <td>4</td>\n",
       "      <td>9</td>\n",
       "      <td>5</td>\n",
       "      <td>7</td>\n",
       "      <td>4</td>\n",
       "      <td>7</td>\n",
       "      <td>7</td>\n",
       "      <td>13</td>\n",
       "      <td>1</td>\n",
       "      <td>7</td>\n",
       "      <td>6</td>\n",
       "      <td>7</td>\n",
       "      <td>3</td>\n",
       "      <td>7</td>\n",
       "      <td>0</td>\n",
       "      <td>8</td>\n",
       "      <td>7</td>\n",
       "    </tr>\n",
       "    <tr>\n",
       "      <th>4</th>\n",
       "      <td>4</td>\n",
       "      <td>6</td>\n",
       "      <td>7</td>\n",
       "      <td>8</td>\n",
       "      <td>5</td>\n",
       "      <td>4</td>\n",
       "      <td>7</td>\n",
       "      <td>6</td>\n",
       "      <td>3</td>\n",
       "      <td>7</td>\n",
       "      <td>10</td>\n",
       "      <td>7</td>\n",
       "      <td>8</td>\n",
       "      <td>3</td>\n",
       "      <td>7</td>\n",
       "      <td>3</td>\n",
       "      <td>7</td>\n",
       "      <td>7</td>\n",
       "    </tr>\n",
       "  </tbody>\n",
       "</table>\n",
       "</div>"
      ],
      "text/plain": [
       "   id  'x-box'  'y-box'  'width'  'high'  'onpix'  'x-bar'  'y-bar'  'x2bar'  \\\n",
       "0   0        2        4        4       3        2        7        8        2   \n",
       "1   1        4        7        5       5        5        5        9        6   \n",
       "2   2        7       10        8       7        4        8        8        5   \n",
       "3   3        4        9        5       7        4        7        7       13   \n",
       "4   4        6        7        8       5        4        7        6        3   \n",
       "\n",
       "   'y2bar'  'xybar'  'x2ybr'  'xy2br'  'x-ege'  'xegvy'  'y-ege'  'yegvx'  \\\n",
       "0        9       11        7        6        1        7        5        6   \n",
       "1        4        8        7        8        2        8        7       10   \n",
       "2       10       11        2        7        2        4        5       10   \n",
       "3        1        7        6        7        3        7        0        8   \n",
       "4        7       10        7        8        3        7        3        7   \n",
       "\n",
       "   'class'  \n",
       "0       25  \n",
       "1       15  \n",
       "2       18  \n",
       "3        7  \n",
       "4        7  "
      ]
     },
     "execution_count": 149,
     "metadata": {},
     "output_type": "execute_result"
    }
   ],
   "source": [
    "dataset.head()"
   ]
  },
  {
   "cell_type": "code",
   "execution_count": 150,
   "id": "14622bd1",
   "metadata": {},
   "outputs": [],
   "source": [
    "X = dataset.iloc[:, 1:-1].values\n",
    "y = dataset.iloc[:, -1].values"
   ]
  },
  {
   "cell_type": "code",
   "execution_count": 151,
   "id": "d87b281f",
   "metadata": {},
   "outputs": [],
   "source": [
    "X_train, X_test, y_train, y_test = train_test_split(X, y, test_size=0.3, random_state=0)"
   ]
  },
  {
   "cell_type": "code",
   "execution_count": 152,
   "id": "e6c507c8",
   "metadata": {},
   "outputs": [],
   "source": [
    "accuracy=[]"
   ]
  },
  {
   "cell_type": "markdown",
   "id": "a4b144a0",
   "metadata": {},
   "source": [
    "## Teste 1\n",
    "### Modelo que obtemos diretamente a partir do sklearn"
   ]
  },
  {
   "cell_type": "code",
   "execution_count": 153,
   "id": "4c03eef3",
   "metadata": {},
   "outputs": [
    {
     "data": {
      "text/html": [
       "<style>#sk-container-id-7 {color: black;background-color: white;}#sk-container-id-7 pre{padding: 0;}#sk-container-id-7 div.sk-toggleable {background-color: white;}#sk-container-id-7 label.sk-toggleable__label {cursor: pointer;display: block;width: 100%;margin-bottom: 0;padding: 0.3em;box-sizing: border-box;text-align: center;}#sk-container-id-7 label.sk-toggleable__label-arrow:before {content: \"▸\";float: left;margin-right: 0.25em;color: #696969;}#sk-container-id-7 label.sk-toggleable__label-arrow:hover:before {color: black;}#sk-container-id-7 div.sk-estimator:hover label.sk-toggleable__label-arrow:before {color: black;}#sk-container-id-7 div.sk-toggleable__content {max-height: 0;max-width: 0;overflow: hidden;text-align: left;background-color: #f0f8ff;}#sk-container-id-7 div.sk-toggleable__content pre {margin: 0.2em;color: black;border-radius: 0.25em;background-color: #f0f8ff;}#sk-container-id-7 input.sk-toggleable__control:checked~div.sk-toggleable__content {max-height: 200px;max-width: 100%;overflow: auto;}#sk-container-id-7 input.sk-toggleable__control:checked~label.sk-toggleable__label-arrow:before {content: \"▾\";}#sk-container-id-7 div.sk-estimator input.sk-toggleable__control:checked~label.sk-toggleable__label {background-color: #d4ebff;}#sk-container-id-7 div.sk-label input.sk-toggleable__control:checked~label.sk-toggleable__label {background-color: #d4ebff;}#sk-container-id-7 input.sk-hidden--visually {border: 0;clip: rect(1px 1px 1px 1px);clip: rect(1px, 1px, 1px, 1px);height: 1px;margin: -1px;overflow: hidden;padding: 0;position: absolute;width: 1px;}#sk-container-id-7 div.sk-estimator {font-family: monospace;background-color: #f0f8ff;border: 1px dotted black;border-radius: 0.25em;box-sizing: border-box;margin-bottom: 0.5em;}#sk-container-id-7 div.sk-estimator:hover {background-color: #d4ebff;}#sk-container-id-7 div.sk-parallel-item::after {content: \"\";width: 100%;border-bottom: 1px solid gray;flex-grow: 1;}#sk-container-id-7 div.sk-label:hover label.sk-toggleable__label {background-color: #d4ebff;}#sk-container-id-7 div.sk-serial::before {content: \"\";position: absolute;border-left: 1px solid gray;box-sizing: border-box;top: 0;bottom: 0;left: 50%;z-index: 0;}#sk-container-id-7 div.sk-serial {display: flex;flex-direction: column;align-items: center;background-color: white;padding-right: 0.2em;padding-left: 0.2em;position: relative;}#sk-container-id-7 div.sk-item {position: relative;z-index: 1;}#sk-container-id-7 div.sk-parallel {display: flex;align-items: stretch;justify-content: center;background-color: white;position: relative;}#sk-container-id-7 div.sk-item::before, #sk-container-id-7 div.sk-parallel-item::before {content: \"\";position: absolute;border-left: 1px solid gray;box-sizing: border-box;top: 0;bottom: 0;left: 50%;z-index: -1;}#sk-container-id-7 div.sk-parallel-item {display: flex;flex-direction: column;z-index: 1;position: relative;background-color: white;}#sk-container-id-7 div.sk-parallel-item:first-child::after {align-self: flex-end;width: 50%;}#sk-container-id-7 div.sk-parallel-item:last-child::after {align-self: flex-start;width: 50%;}#sk-container-id-7 div.sk-parallel-item:only-child::after {width: 0;}#sk-container-id-7 div.sk-dashed-wrapped {border: 1px dashed gray;margin: 0 0.4em 0.5em 0.4em;box-sizing: border-box;padding-bottom: 0.4em;background-color: white;}#sk-container-id-7 div.sk-label label {font-family: monospace;font-weight: bold;display: inline-block;line-height: 1.2em;}#sk-container-id-7 div.sk-label-container {text-align: center;}#sk-container-id-7 div.sk-container {/* jupyter's `normalize.less` sets `[hidden] { display: none; }` but bootstrap.min.css set `[hidden] { display: none !important; }` so we also need the `!important` here to be able to override the default hidden behavior on the sphinx rendered scikit-learn.org. See: https://github.com/scikit-learn/scikit-learn/issues/21755 */display: inline-block !important;position: relative;}#sk-container-id-7 div.sk-text-repr-fallback {display: none;}</style><div id=\"sk-container-id-7\" class=\"sk-top-container\"><div class=\"sk-text-repr-fallback\"><pre>KNeighborsClassifier()</pre><b>In a Jupyter environment, please rerun this cell to show the HTML representation or trust the notebook. <br />On GitHub, the HTML representation is unable to render, please try loading this page with nbviewer.org.</b></div><div class=\"sk-container\" hidden><div class=\"sk-item\"><div class=\"sk-estimator sk-toggleable\"><input class=\"sk-toggleable__control sk-hidden--visually\" id=\"sk-estimator-id-7\" type=\"checkbox\" checked><label for=\"sk-estimator-id-7\" class=\"sk-toggleable__label sk-toggleable__label-arrow\">KNeighborsClassifier</label><div class=\"sk-toggleable__content\"><pre>KNeighborsClassifier()</pre></div></div></div></div></div>"
      ],
      "text/plain": [
       "KNeighborsClassifier()"
      ]
     },
     "execution_count": 153,
     "metadata": {},
     "output_type": "execute_result"
    }
   ],
   "source": [
    "KNN.fit(X_train,y_train)"
   ]
  },
  {
   "cell_type": "code",
   "execution_count": 155,
   "id": "a5d9a0a4",
   "metadata": {},
   "outputs": [
    {
     "name": "stdout",
     "output_type": "stream",
     "text": [
      "Accuracy =  0.8688524590163934\n"
     ]
    }
   ],
   "source": [
    "Y_pred=KNN.predict(X_test)\n",
    "print(\"Accuracy = \", accuracy_score(y_test,Y_pred))\n",
    "accuracy.append(accuracy_score(y_test,Y_pred))"
   ]
  },
  {
   "cell_type": "markdown",
   "id": "bd70af6c",
   "metadata": {},
   "source": [
    "\n",
    "## Teste 2\n",
    "### Código do modelo, sem a alteração"
   ]
  },
  {
   "cell_type": "code",
   "execution_count": 156,
   "id": "96ed510f",
   "metadata": {},
   "outputs": [
    {
     "name": "stdout",
     "output_type": "stream",
     "text": [
      "5\n"
     ]
    }
   ],
   "source": [
    "KNN2=KNNNormal(5) #our model\n",
    "KNN2.fit(X_train,y_train)"
   ]
  },
  {
   "cell_type": "code",
   "execution_count": 157,
   "id": "5d58911e",
   "metadata": {},
   "outputs": [
    {
     "name": "stdout",
     "output_type": "stream",
     "text": [
      "Accuracy =  0.8830601092896175\n"
     ]
    }
   ],
   "source": [
    "Y1_pred = KNN2.predict(X_test)\n",
    "print(\"Accuracy = \", accuracy_score(y_test, Y1_pred))\n",
    "accuracy.append(accuracy_score(y_test,Y1_pred))"
   ]
  },
  {
   "cell_type": "markdown",
   "id": "0c0287a4",
   "metadata": {},
   "source": [
    "## Teste 3\n",
    "### Distância de Manhattan - Como as medidas das letras estão relacionadas a eixos 2 por 2 esta distância é a que tem um melhor desempenho."
   ]
  },
  {
   "cell_type": "code",
   "execution_count": 158,
   "id": "cfa147e5",
   "metadata": {},
   "outputs": [
    {
     "name": "stdout",
     "output_type": "stream",
     "text": [
      "5\n"
     ]
    }
   ],
   "source": [
    "KNN3=KNNManhattan(5) #our model\n",
    "KNN3.fit(X_train,y_train)"
   ]
  },
  {
   "cell_type": "code",
   "execution_count": 159,
   "id": "0ee7f75d",
   "metadata": {},
   "outputs": [
    {
     "name": "stdout",
     "output_type": "stream",
     "text": [
      "Accuracy =  0.885792349726776\n"
     ]
    }
   ],
   "source": [
    "Y1_pred = KNN3.predict(X_test)\n",
    "print(\"Accuracy = \", accuracy_score(y_test, Y1_pred))\n",
    "accuracy.append(accuracy_score(y_test,Y1_pred))"
   ]
  },
  {
   "cell_type": "markdown",
   "id": "24cb8398",
   "metadata": {},
   "source": [
    "## Teste 4\n",
    "### Distância de Hamming \n"
   ]
  },
  {
   "cell_type": "code",
   "execution_count": 160,
   "id": "f29f88be",
   "metadata": {},
   "outputs": [
    {
     "name": "stdout",
     "output_type": "stream",
     "text": [
      "5\n"
     ]
    }
   ],
   "source": [
    "KNN4=KNNHamming(5) #our model\n",
    "KNN4.fit(X_train,y_train)"
   ]
  },
  {
   "cell_type": "code",
   "execution_count": 161,
   "id": "8e7ed591",
   "metadata": {},
   "outputs": [
    {
     "name": "stdout",
     "output_type": "stream",
     "text": [
      "Accuracy =  0.7808743169398907\n"
     ]
    }
   ],
   "source": [
    "Y1_pred = KNN4.predict(X_test)\n",
    "print(\"Accuracy = \", accuracy_score(y_test, Y1_pred))\n",
    "accuracy.append(accuracy_score(y_test,Y1_pred))"
   ]
  },
  {
   "cell_type": "markdown",
   "id": "6281789a",
   "metadata": {},
   "source": [
    "\n",
    "## Teste 5\n",
    "### Distância de Jaccard"
   ]
  },
  {
   "cell_type": "code",
   "execution_count": 162,
   "id": "a9f09fc2",
   "metadata": {},
   "outputs": [
    {
     "name": "stdout",
     "output_type": "stream",
     "text": [
      "5\n"
     ]
    }
   ],
   "source": [
    "KNN5=KNNJaccard(5) #our model\n",
    "KNN5.fit(X_train,y_train)\n"
   ]
  },
  {
   "cell_type": "code",
   "execution_count": 163,
   "id": "f922e65a",
   "metadata": {},
   "outputs": [
    {
     "name": "stdout",
     "output_type": "stream",
     "text": [
      "Accuracy =  0.23278688524590163\n"
     ]
    }
   ],
   "source": [
    "Y1_pred = KNN5.predict(X_test)\n",
    "print(\"Accuracy = \", accuracy_score(y_test, Y1_pred))\n",
    "accuracy.append(accuracy_score(y_test,Y1_pred))"
   ]
  },
  {
   "cell_type": "markdown",
   "id": "6a1b1417",
   "metadata": {},
   "source": [
    "## Teste 6\n",
    "### Distância de Minkowski"
   ]
  },
  {
   "cell_type": "code",
   "execution_count": 165,
   "id": "40f721f3",
   "metadata": {},
   "outputs": [],
   "source": [
    "KNN6=KNNMinkowski(5) #our model\n",
    "KNN6.fit(X_train,y_train)"
   ]
  },
  {
   "cell_type": "code",
   "execution_count": 166,
   "id": "e66670ac",
   "metadata": {},
   "outputs": [
    {
     "name": "stdout",
     "output_type": "stream",
     "text": [
      "Accuracy =  0.8830601092896175\n"
     ]
    }
   ],
   "source": [
    "Y1_pred = KNN6.predict(X_test)\n",
    "print(\"Accuracy = \", accuracy_score(y_test, Y1_pred))\n",
    "accuracy.append(accuracy_score(y_test,Y1_pred))"
   ]
  },
  {
   "cell_type": "markdown",
   "id": "920c0c76",
   "metadata": {},
   "source": [
    "### Análise"
   ]
  },
  {
   "cell_type": "code",
   "execution_count": 167,
   "id": "bc0b812a",
   "metadata": {},
   "outputs": [
    {
     "data": {
      "image/png": "[encoded data removed]",
      "text/plain": [
       "<Figure size 432x288 with 1 Axes>"
      ]
     },
     "metadata": {
      "needs_background": "light"
     },
     "output_type": "display_data"
    }
   ],
   "source": [
    "plt.plot(accuracy)\n",
    "plt.xlabel(\"Model\")\n",
    "plt.ylabel(\"Accuracy\")\n",
    "plt.title(\"KNN Performance for k=5\")\n",
    "plt.xticks(range(6), ['KNN','KNNNormal','KNNManhattan','KNNHamming','KNNJaccard','KNNMinkowski'])\n",
    "plt.show()"
   ]
  },
  {
   "cell_type": "markdown",
   "id": "13dac17d",
   "metadata": {},
   "source": [
    "### Todas as distâncias apresentam resultados semelhantes, à exceção da distância de Jaccard que não é adequada porque ela trata as variáveis como se fossem categóricas binárias, ou seja, apenas verifica se uma variável está presente ou não em cada letra. Isso pode não reflete a real diferença entre as medidas das letras e leva a resultados maus na classificação."
   ]
  },
  {
   "cell_type": "markdown",
   "id": "78658024",
   "metadata": {},
   "source": [
    "## Dataset 3 "
   ]
  },
  {
   "cell_type": "code",
   "execution_count": 79,
   "id": "3e68c38c",
   "metadata": {},
   "outputs": [
    {
     "data": {
      "text/html": [
       "<div>\n",
       "<style scoped>\n",
       "    .dataframe tbody tr th:only-of-type {\n",
       "        vertical-align: middle;\n",
       "    }\n",
       "\n",
       "    .dataframe tbody tr th {\n",
       "        vertical-align: top;\n",
       "    }\n",
       "\n",
       "    .dataframe thead th {\n",
       "        text-align: right;\n",
       "    }\n",
       "</style>\n",
       "<table border=\"1\" class=\"dataframe\">\n",
       "  <thead>\n",
       "    <tr style=\"text-align: right;\">\n",
       "      <th></th>\n",
       "      <th>id</th>\n",
       "      <th>Elevation</th>\n",
       "      <th>Aspect</th>\n",
       "      <th>Slope</th>\n",
       "      <th>Horizontal_Distance_To_Hydrology</th>\n",
       "      <th>Vertical_Distance_To_Hydrology</th>\n",
       "      <th>Horizontal_Distance_To_Roadways</th>\n",
       "      <th>Hillshade_9am</th>\n",
       "      <th>Hillshade_Noon</th>\n",
       "      <th>Hillshade_3pm</th>\n",
       "      <th>...</th>\n",
       "      <th>Soil_Type32</th>\n",
       "      <th>Soil_Type33</th>\n",
       "      <th>Soil_Type34</th>\n",
       "      <th>Soil_Type35</th>\n",
       "      <th>Soil_Type36</th>\n",
       "      <th>Soil_Type37</th>\n",
       "      <th>Soil_Type38</th>\n",
       "      <th>Soil_Type39</th>\n",
       "      <th>Soil_Type40</th>\n",
       "      <th>class</th>\n",
       "    </tr>\n",
       "  </thead>\n",
       "  <tbody>\n",
       "    <tr>\n",
       "      <th>0</th>\n",
       "      <td>0</td>\n",
       "      <td>620</td>\n",
       "      <td>51</td>\n",
       "      <td>3</td>\n",
       "      <td>34</td>\n",
       "      <td>67</td>\n",
       "      <td>108</td>\n",
       "      <td>135</td>\n",
       "      <td>115</td>\n",
       "      <td>142</td>\n",
       "      <td>...</td>\n",
       "      <td>0</td>\n",
       "      <td>0</td>\n",
       "      <td>0</td>\n",
       "      <td>0</td>\n",
       "      <td>0</td>\n",
       "      <td>0</td>\n",
       "      <td>0</td>\n",
       "      <td>0</td>\n",
       "      <td>0</td>\n",
       "      <td>4</td>\n",
       "    </tr>\n",
       "    <tr>\n",
       "      <th>1</th>\n",
       "      <td>1</td>\n",
       "      <td>615</td>\n",
       "      <td>56</td>\n",
       "      <td>2</td>\n",
       "      <td>24</td>\n",
       "      <td>61</td>\n",
       "      <td>68</td>\n",
       "      <td>134</td>\n",
       "      <td>118</td>\n",
       "      <td>145</td>\n",
       "      <td>...</td>\n",
       "      <td>0</td>\n",
       "      <td>0</td>\n",
       "      <td>0</td>\n",
       "      <td>0</td>\n",
       "      <td>0</td>\n",
       "      <td>0</td>\n",
       "      <td>0</td>\n",
       "      <td>0</td>\n",
       "      <td>0</td>\n",
       "      <td>4</td>\n",
       "    </tr>\n",
       "    <tr>\n",
       "      <th>2</th>\n",
       "      <td>2</td>\n",
       "      <td>810</td>\n",
       "      <td>139</td>\n",
       "      <td>9</td>\n",
       "      <td>35</td>\n",
       "      <td>132</td>\n",
       "      <td>1251</td>\n",
       "      <td>148</td>\n",
       "      <td>121</td>\n",
       "      <td>129</td>\n",
       "      <td>...</td>\n",
       "      <td>0</td>\n",
       "      <td>0</td>\n",
       "      <td>0</td>\n",
       "      <td>0</td>\n",
       "      <td>0</td>\n",
       "      <td>0</td>\n",
       "      <td>0</td>\n",
       "      <td>0</td>\n",
       "      <td>0</td>\n",
       "      <td>1</td>\n",
       "    </tr>\n",
       "    <tr>\n",
       "      <th>3</th>\n",
       "      <td>3</td>\n",
       "      <td>791</td>\n",
       "      <td>155</td>\n",
       "      <td>18</td>\n",
       "      <td>30</td>\n",
       "      <td>185</td>\n",
       "      <td>1232</td>\n",
       "      <td>152</td>\n",
       "      <td>121</td>\n",
       "      <td>116</td>\n",
       "      <td>...</td>\n",
       "      <td>0</td>\n",
       "      <td>0</td>\n",
       "      <td>0</td>\n",
       "      <td>0</td>\n",
       "      <td>0</td>\n",
       "      <td>0</td>\n",
       "      <td>0</td>\n",
       "      <td>0</td>\n",
       "      <td>0</td>\n",
       "      <td>1</td>\n",
       "    </tr>\n",
       "    <tr>\n",
       "      <th>4</th>\n",
       "      <td>4</td>\n",
       "      <td>619</td>\n",
       "      <td>45</td>\n",
       "      <td>2</td>\n",
       "      <td>14</td>\n",
       "      <td>66</td>\n",
       "      <td>69</td>\n",
       "      <td>134</td>\n",
       "      <td>117</td>\n",
       "      <td>144</td>\n",
       "      <td>...</td>\n",
       "      <td>0</td>\n",
       "      <td>0</td>\n",
       "      <td>0</td>\n",
       "      <td>0</td>\n",
       "      <td>0</td>\n",
       "      <td>0</td>\n",
       "      <td>0</td>\n",
       "      <td>0</td>\n",
       "      <td>0</td>\n",
       "      <td>4</td>\n",
       "    </tr>\n",
       "  </tbody>\n",
       "</table>\n",
       "<p>5 rows × 56 columns</p>\n",
       "</div>"
      ],
      "text/plain": [
       "   id  Elevation  Aspect  Slope  Horizontal_Distance_To_Hydrology  \\\n",
       "0   0        620      51      3                                34   \n",
       "1   1        615      56      2                                24   \n",
       "2   2        810     139      9                                35   \n",
       "3   3        791     155     18                                30   \n",
       "4   4        619      45      2                                14   \n",
       "\n",
       "   Vertical_Distance_To_Hydrology  Horizontal_Distance_To_Roadways  \\\n",
       "0                              67                              108   \n",
       "1                              61                               68   \n",
       "2                             132                             1251   \n",
       "3                             185                             1232   \n",
       "4                              66                               69   \n",
       "\n",
       "   Hillshade_9am  Hillshade_Noon  Hillshade_3pm  ...  Soil_Type32  \\\n",
       "0            135             115            142  ...            0   \n",
       "1            134             118            145  ...            0   \n",
       "2            148             121            129  ...            0   \n",
       "3            152             121            116  ...            0   \n",
       "4            134             117            144  ...            0   \n",
       "\n",
       "   Soil_Type33  Soil_Type34  Soil_Type35  Soil_Type36  Soil_Type37  \\\n",
       "0            0            0            0            0            0   \n",
       "1            0            0            0            0            0   \n",
       "2            0            0            0            0            0   \n",
       "3            0            0            0            0            0   \n",
       "4            0            0            0            0            0   \n",
       "\n",
       "   Soil_Type38  Soil_Type39  Soil_Type40  class  \n",
       "0            0            0            0      4  \n",
       "1            0            0            0      4  \n",
       "2            0            0            0      1  \n",
       "3            0            0            0      1  \n",
       "4            0            0            0      4  \n",
       "\n",
       "[5 rows x 56 columns]"
      ]
     },
     "execution_count": 79,
     "metadata": {},
     "output_type": "execute_result"
    }
   ],
   "source": [
    "dataset = pd.read_csv('forest.csv')\n",
    "for column in dataset.columns:\n",
    "    le = LabelEncoder()\n",
    "    dataset[column] = le.fit_transform(dataset[column])\n",
    "dataset.head()"
   ]
  },
  {
   "cell_type": "code",
   "execution_count": 80,
   "id": "da142e33",
   "metadata": {},
   "outputs": [],
   "source": [
    "dataset.head()\n",
    "X = dataset.iloc[:, 1:-1].values\n",
    "y = dataset.iloc[:, -1].values\n",
    "X_train, X_test, y_train, y_test = train_test_split(X, y, test_size=0.3, random_state=0)"
   ]
  },
  {
   "cell_type": "code",
   "execution_count": 81,
   "id": "76fcd31b",
   "metadata": {},
   "outputs": [
    {
     "name": "stdout",
     "output_type": "stream",
     "text": [
      "Accuracy =  0.8130653266331658\n"
     ]
    }
   ],
   "source": [
    "KNN5=KNNMinkowski(5) #our model\n",
    "KNN5.fit(X_train,y_train)\n",
    "\n",
    "Y1_pred = KNN5.predict(X_test)\n",
    "print(\"Accuracy = \", accuracy_score(y_test, Y1_pred))"
   ]
  },
  {
   "cell_type": "code",
   "execution_count": 82,
   "id": "c3e73b49",
   "metadata": {},
   "outputs": [
    {
     "name": "stdout",
     "output_type": "stream",
     "text": [
      "5\n",
      "Accuracy =  0.2884422110552764\n"
     ]
    }
   ],
   "source": [
    "KNN4=KNNJaccard(5) #our model\n",
    "KNN4.fit(X_train,y_train)\n",
    "\n",
    "Y1_pred = KNN4.predict(X_test)\n",
    "print(\"Accuracy = \", accuracy_score(y_test, Y1_pred))"
   ]
  },
  {
   "cell_type": "code",
   "execution_count": 83,
   "id": "13913c0b",
   "metadata": {},
   "outputs": [
    {
     "name": "stdout",
     "output_type": "stream",
     "text": [
      "5\n",
      "Accuracy =  0.6105527638190955\n"
     ]
    }
   ],
   "source": [
    "KNN3=KNNHamming(5) #our model\n",
    "KNN3.fit(X_train,y_train)\n",
    "\n",
    "Y1_pred = KNN3.predict(X_test)\n",
    "print(\"Accuracy = \", accuracy_score(y_test, Y1_pred))"
   ]
  },
  {
   "cell_type": "code",
   "execution_count": 84,
   "id": "83a4bba4",
   "metadata": {},
   "outputs": [
    {
     "name": "stdout",
     "output_type": "stream",
     "text": [
      "5\n",
      "Accuracy =  0.8190954773869347\n"
     ]
    }
   ],
   "source": [
    "KNN2=KNNManhattan(5) #our model\n",
    "KNN2.fit(X_train,y_train)\n",
    "\n",
    "Y1_pred = KNN2.predict(X_test)\n",
    "print(\"Accuracy = \", accuracy_score(y_test, Y1_pred))"
   ]
  },
  {
   "cell_type": "code",
   "execution_count": 85,
   "id": "1f3fb8ca",
   "metadata": {},
   "outputs": [
    {
     "name": "stdout",
     "output_type": "stream",
     "text": [
      "5\n",
      "Accuracy =  0.8130653266331658\n"
     ]
    }
   ],
   "source": [
    "KNN1=KNNNormal(5) #our model\n",
    "KNN1.fit(X_train,y_train)\n",
    "\n",
    "Y1_pred = KNN1.predict(X_test)\n",
    "print(\"Accuracy = \", accuracy_score(y_test, Y1_pred))"
   ]
  },
  {
   "cell_type": "code",
   "execution_count": null,
   "id": "981c05d5",
   "metadata": {},
   "outputs": [],
   "source": []
  }
 ],
 "metadata": {
  "kernelspec": {
   "display_name": "Python 3 (ipykernel)",
   "language": "python",
   "name": "python3"
  },
  "language_info": {
   "codemirror_mode": {
    "name": "ipython",
    "version": 3
   },
   "file_extension": ".py",
   "mimetype": "text/x-python",
   "name": "python",
   "nbconvert_exporter": "python",
   "pygments_lexer": "ipython3",
   "version": "3.10.0"
  }
 },
 "nbformat": 4,
 "nbformat_minor": 5
}
