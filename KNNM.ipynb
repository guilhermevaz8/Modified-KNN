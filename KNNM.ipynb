{
 "cells": [
  {
   "cell_type": "code",
   "execution_count": 1,
   "id": "929297f1",
   "metadata": {},
   "outputs": [],
   "source": [
    "import pandas as pd\n",
    "import os\n",
    "import numpy as np\n",
    "from sklearn.model_selection import train_test_split\n",
    "import matplotlib.pyplot as plt\n",
    "from sklearn.preprocessing import LabelEncoder\n",
    "import seaborn as sns\n",
    "import matplotlib.pyplot as plt\n",
    "from sklearn.model_selection import cross_val_score\n",
    "from sklearn.metrics import accuracy_score\n",
    "from sklearn.preprocessing import MinMaxScaler\n",
    "from sklearn.neighbors import KNeighborsClassifier"
   ]
  },
  {
   "cell_type": "markdown",
   "id": "2d1d15e5",
   "metadata": {},
   "source": [
    "## Criação dos modelos com as diferentes distâncias:"
   ]
  },
  {
   "cell_type": "markdown",
   "id": "b61575c5",
   "metadata": {},
   "source": [
    "### Modelo implementado, sem alteração"
   ]
  },
  {
   "cell_type": "code",
   "execution_count": 25,
   "id": "6dd11874",
   "metadata": {},
   "outputs": [],
   "source": [
    "from math import sqrt\n",
    "import pandas as pd\n",
    "\n",
    "class KNNNormal():\n",
    "    def __init__(self, k):\n",
    "        self.k = k\n",
    "    \n",
    "    def fit(self, X_train, y_train):\n",
    "        self.x_train = X_train\n",
    "        self.y_train = y_train\n",
    "    \n",
    "    def calculate_euclidean(self, sample1, sample2):\n",
    "        distance = 0.0\n",
    "        for i in range(len(sample1)):\n",
    "            distance += (sample1[i] - sample2[i]) ** 2\n",
    "        return sqrt(distance)\n",
    "    \n",
    "    def nearest_neighbors(self, test_sample):\n",
    "        distances = []\n",
    "        for i in range(len(self.x_train)):\n",
    "            x_train_sample = self.x_train.iloc[i].values\n",
    "            distance = self.calculate_euclidean(x_train_sample, test_sample)\n",
    "            distances.append((self.y_train[i], distance))\n",
    "        distances.sort(key=lambda x: x[1])\n",
    "        neighbors = []\n",
    "        for i in range(self.k):\n",
    "            neighbors.append(distances[i][0])\n",
    "        return neighbors\n",
    "    \n",
    "    def predict(self, test_set):\n",
    "        predictions = []\n",
    "        for i in range(len(test_set)):\n",
    "            test_sample = test_set.iloc[i].values\n",
    "            neighbors = self.nearest_neighbors(test_sample)\n",
    "            labels = [sample for sample in neighbors]\n",
    "            prediction = max(labels, key=labels.count)\n",
    "            predictions.append(prediction)\n",
    "        return predictions\n"
   ]
  },
  {
   "cell_type": "markdown",
   "id": "7699750d",
   "metadata": {},
   "source": [
    "### Modelo com distância de Manhattan"
   ]
  },
  {
   "cell_type": "code",
   "execution_count": 26,
   "id": "f689c53a",
   "metadata": {},
   "outputs": [],
   "source": [
    "from math import sqrt\n",
    "class KNNManhattan():\n",
    "  \n",
    "    def calculate_manhattan(self, sample1, sample2):\n",
    "        distance = 0.0\n",
    "        for i in range(len(sample1)):\n",
    "            distance += abs(sample1[i] - sample2[i]) # Manhattan Distance = sum i to N |x1_i – x2_i|\n",
    "        return distance\n",
    "      \n",
    "    def __init__(self, k):\n",
    "        self.k = k\n",
    "    \n",
    "    def fit(self, X_train, y_train):\n",
    "        self.x_train = X_train\n",
    "        self.y_train = y_train\n",
    "    \n",
    "    \n",
    "    def nearest_neighbors(self, test_sample):\n",
    "        distances = []\n",
    "        for i in range(len(self.x_train)):\n",
    "            x_train_sample = self.x_train.iloc[i].values\n",
    "            distance = self.calculate_manhattan(x_train_sample, test_sample)\n",
    "            distances.append((self.y_train[i], distance))\n",
    "        distances.sort(key=lambda x: x[1])\n",
    "        neighbors = []\n",
    "        for i in range(self.k):\n",
    "            neighbors.append(distances[i][0])\n",
    "        return neighbors\n",
    "    \n",
    "    def predict(self, test_set):\n",
    "        predictions = []\n",
    "        for i in range(len(test_set)):\n",
    "            test_sample = test_set.iloc[i].values\n",
    "            neighbors = self.nearest_neighbors(test_sample)\n",
    "            labels = [sample for sample in neighbors]\n",
    "            prediction = max(labels, key=labels.count)\n",
    "            predictions.append(prediction)\n",
    "        return predictions"
   ]
  },
  {
   "cell_type": "markdown",
   "id": "36316947",
   "metadata": {},
   "source": [
    "### Modelo com distância de Hamming"
   ]
  },
  {
   "cell_type": "code",
   "execution_count": 27,
   "id": "4b865ad1",
   "metadata": {},
   "outputs": [],
   "source": [
    "from math import sqrt\n",
    "class KNNHamming():\n",
    "  \n",
    "    def calculate_hamming(self, sample1, sample2):\n",
    "        distance = sum(1 for i in range(len(sample1)) if sample1[i] != sample2[i])\n",
    "        return distance\n",
    "\n",
    "    def __init__(self, k):\n",
    "        self.k = k\n",
    "    \n",
    "    def fit(self, X_train, y_train):\n",
    "        self.x_train = X_train\n",
    "        self.y_train = y_train\n",
    "    \n",
    "    def nearest_neighbors(self, test_sample):\n",
    "        distances = []\n",
    "        for i in range(len(self.x_train)):\n",
    "            x_train_sample = self.x_train.iloc[i].values\n",
    "            distance = self.calculate_hamming(x_train_sample, test_sample)\n",
    "            distances.append((self.y_train[i], distance))\n",
    "        distances.sort(key=lambda x: x[1])\n",
    "        neighbors = []\n",
    "        for i in range(self.k):\n",
    "            neighbors.append(distances[i][0])\n",
    "        return neighbors\n",
    "    \n",
    "    def predict(self, test_set):\n",
    "        predictions = []\n",
    "        for i in range(len(test_set)):\n",
    "            test_sample = test_set.iloc[i].values\n",
    "            neighbors = self.nearest_neighbors(test_sample)\n",
    "            labels = [sample for sample in neighbors]\n",
    "            prediction = max(labels, key=labels.count)\n",
    "            predictions.append(prediction)\n",
    "        return predictions"
   ]
  },
  {
   "cell_type": "markdown",
   "id": "618f073a",
   "metadata": {},
   "source": [
    "### Modelo com distância de jaccard"
   ]
  },
  {
   "cell_type": "code",
   "execution_count": 28,
   "id": "3836c9b5",
   "metadata": {},
   "outputs": [],
   "source": [
    "from math import sqrt\n",
    "class KNNJaccard():\n",
    "  \n",
    "    def calculate_jaccard(self, sample1, sample2):\n",
    "        set1 = set(sample1)\n",
    "        set2 = set(sample2)\n",
    "        intersection = len(set1.intersection(set2))\n",
    "        union = len(set1.union(set2))\n",
    "        distance = 1 - (intersection / union)\n",
    "        return distance\n",
    "\n",
    "    def __init__(self, k):\n",
    "        self.k = k\n",
    "    \n",
    "    def fit(self, X_train, y_train):\n",
    "        self.x_train = X_train\n",
    "        self.y_train = y_train\n",
    "    \n",
    "    def nearest_neighbors(self, test_sample):\n",
    "        distances = []\n",
    "        for i in range(len(self.x_train)):\n",
    "            x_train_sample = self.x_train.iloc[i].values\n",
    "            distance = self.calculate_jaccard(x_train_sample, test_sample)\n",
    "            distances.append((self.y_train[i], distance))\n",
    "        distances.sort(key=lambda x: x[1])\n",
    "        neighbors = []\n",
    "        for i in range(self.k):\n",
    "            neighbors.append(distances[i][0])\n",
    "        return neighbors\n",
    "    \n",
    "    def predict(self, test_set):\n",
    "        predictions = []\n",
    "        for i in range(len(test_set)):\n",
    "            test_sample = test_set.iloc[i].values\n",
    "            neighbors = self.nearest_neighbors(test_sample)\n",
    "            labels = [sample for sample in neighbors]\n",
    "            prediction = max(labels, key=labels.count)\n",
    "            predictions.append(prediction)\n",
    "        return predictions"
   ]
  },
  {
   "cell_type": "markdown",
   "id": "f638d8ea",
   "metadata": {},
   "source": [
    "### Modelo com a distância de Chebyshev"
   ]
  },
  {
   "cell_type": "code",
   "execution_count": 29,
   "id": "c9cb5690",
   "metadata": {},
   "outputs": [],
   "source": [
    "from math import pow\n",
    "\n",
    "class KNNChebyshev():\n",
    "    \n",
    "\n",
    "    def calculate_distance(self, sample1, sample2):\n",
    "        distance = max(abs(x - y) for x, y in zip(sample1, sample2))\n",
    "        return distance\n",
    "    \n",
    "    def __init__(self, k):\n",
    "        self.k = k\n",
    "    \n",
    "    def fit(self, X_train, y_train):\n",
    "        self.x_train = X_train\n",
    "        self.y_train = y_train\n",
    "    \n",
    "    \n",
    "    def nearest_neighbors(self, test_sample):\n",
    "        distances = []\n",
    "        for i in range(len(self.x_train)):\n",
    "            x_train_sample = self.x_train.iloc[i].values\n",
    "            distance = self.calculate_distance(x_train_sample, test_sample)\n",
    "            distances.append((self.y_train[i], distance))\n",
    "        distances.sort(key=lambda x: x[1])\n",
    "        neighbors = []\n",
    "        for i in range(self.k):\n",
    "            neighbors.append(distances[i][0])\n",
    "        return neighbors\n",
    "    \n",
    "    def predict(self, test_set):\n",
    "        predictions = []\n",
    "        for i in range(len(test_set)):\n",
    "            test_sample = test_set.iloc[i].values\n",
    "            neighbors = self.nearest_neighbors(test_sample)\n",
    "            labels = [sample for sample in neighbors]\n",
    "            prediction = max(labels, key=labels.count)\n",
    "            predictions.append(prediction)\n",
    "        return predictions"
   ]
  },
  {
   "cell_type": "code",
   "execution_count": 30,
   "id": "61900661",
   "metadata": {},
   "outputs": [],
   "source": [
    "scaler = MinMaxScaler()"
   ]
  },
  {
   "cell_type": "markdown",
   "id": "aa2cb6a4",
   "metadata": {},
   "source": [
    "### Função para escolher o melhor valor de K em cada algoritmo"
   ]
  },
  {
   "cell_type": "code",
   "execution_count": 106,
   "id": "b4dde8cd",
   "metadata": {},
   "outputs": [],
   "source": [
    "def find_best_k(X_train, X_test, y_train, y_test,modelo):\n",
    "    # Testando diferentes valores de K\n",
    "    Ks = [1,2,3,4,5,6,7]\n",
    "    accs = []\n",
    "    for k in Ks:\n",
    "        if modelo==\"KNN\":\n",
    "            knn = KNeighborsClassifier(n_neighbors=k)\n",
    "            knn.fit(X_train, y_train)\n",
    "            acc = knn.score(X_test, y_test)\n",
    "            accs.append(acc)\n",
    "        elif modelo==KNNNormal:\n",
    "            knn = KNNNormal(k)\n",
    "            knn.fit(X_train, y_train)\n",
    "            Y_pred=knn.predict(X_test)\n",
    "            accs.append(accuracy_score(y_test,Y_pred))\n",
    "        elif modelo==KNNManhattan:\n",
    "            knn = KNNManhattan(k)\n",
    "            knn.fit(X_train, y_train)\n",
    "            Y_pred=knn.predict(X_test)\n",
    "            accs.append(accuracy_score(y_test,Y_pred))\n",
    "        elif modelo==KNNHamming:\n",
    "            knn = KNNHamming(k)\n",
    "            knn.fit(X_train, y_train)\n",
    "            Y_pred=knn.predict(X_test)\n",
    "            accs.append(accuracy_score(y_test,Y_pred))\n",
    "        elif modelo==KNNJaccard:\n",
    "            knn = KNNJaccard(k)\n",
    "            knn.fit(X_train, y_train)\n",
    "            Y_pred=knn.predict(X_test)\n",
    "            accs.append(accuracy_score(y_test,Y_pred))\n",
    "        elif modelo==KNNChebyshev:\n",
    "            knn = KNNChebyshev(k)\n",
    "            knn.fit(X_train, y_train)\n",
    "            Y_pred=knn.predict(X_test)\n",
    "            accs.append(accuracy_score(y_test,Y_pred))\n",
    "    # Encontrando o melhor valor de K\n",
    "    best_k = Ks[accs.index(max(accs))]\n",
    "    return best_k"
   ]
  },
  {
   "cell_type": "markdown",
   "id": "5d85e2f1",
   "metadata": {},
   "source": [
    "## Tratamento dos dados e teste dos modelos.\n",
    "### DATASET 1 - Letras - Dados numéricos"
   ]
  },
  {
   "cell_type": "code",
   "execution_count": 107,
   "id": "ba29c572",
   "metadata": {},
   "outputs": [],
   "source": [
    "dataset = pd.read_csv('letter.csv')"
   ]
  },
  {
   "cell_type": "code",
   "execution_count": 108,
   "id": "c05294b0",
   "metadata": {},
   "outputs": [
    {
     "data": {
      "text/html": [
       "<div>\n",
       "<style scoped>\n",
       "    .dataframe tbody tr th:only-of-type {\n",
       "        vertical-align: middle;\n",
       "    }\n",
       "\n",
       "    .dataframe tbody tr th {\n",
       "        vertical-align: top;\n",
       "    }\n",
       "\n",
       "    .dataframe thead th {\n",
       "        text-align: right;\n",
       "    }\n",
       "</style>\n",
       "<table border=\"1\" class=\"dataframe\">\n",
       "  <thead>\n",
       "    <tr style=\"text-align: right;\">\n",
       "      <th></th>\n",
       "      <th>id</th>\n",
       "      <th>'x-box'</th>\n",
       "      <th>'y-box'</th>\n",
       "      <th>'width'</th>\n",
       "      <th>'high'</th>\n",
       "      <th>'onpix'</th>\n",
       "      <th>'x-bar'</th>\n",
       "      <th>'y-bar'</th>\n",
       "      <th>'x2bar'</th>\n",
       "      <th>'y2bar'</th>\n",
       "      <th>'xybar'</th>\n",
       "      <th>'x2ybr'</th>\n",
       "      <th>'xy2br'</th>\n",
       "      <th>'x-ege'</th>\n",
       "      <th>'xegvy'</th>\n",
       "      <th>'y-ege'</th>\n",
       "      <th>'yegvx'</th>\n",
       "      <th>'class'</th>\n",
       "    </tr>\n",
       "  </thead>\n",
       "  <tbody>\n",
       "    <tr>\n",
       "      <th>0</th>\n",
       "      <td>1</td>\n",
       "      <td>2</td>\n",
       "      <td>4</td>\n",
       "      <td>4</td>\n",
       "      <td>3</td>\n",
       "      <td>2</td>\n",
       "      <td>7</td>\n",
       "      <td>8</td>\n",
       "      <td>2</td>\n",
       "      <td>9</td>\n",
       "      <td>11</td>\n",
       "      <td>7</td>\n",
       "      <td>7</td>\n",
       "      <td>1</td>\n",
       "      <td>8</td>\n",
       "      <td>5</td>\n",
       "      <td>6</td>\n",
       "      <td>Z</td>\n",
       "    </tr>\n",
       "    <tr>\n",
       "      <th>1</th>\n",
       "      <td>2</td>\n",
       "      <td>4</td>\n",
       "      <td>7</td>\n",
       "      <td>5</td>\n",
       "      <td>5</td>\n",
       "      <td>5</td>\n",
       "      <td>5</td>\n",
       "      <td>9</td>\n",
       "      <td>6</td>\n",
       "      <td>4</td>\n",
       "      <td>8</td>\n",
       "      <td>7</td>\n",
       "      <td>9</td>\n",
       "      <td>2</td>\n",
       "      <td>9</td>\n",
       "      <td>7</td>\n",
       "      <td>10</td>\n",
       "      <td>P</td>\n",
       "    </tr>\n",
       "    <tr>\n",
       "      <th>2</th>\n",
       "      <td>3</td>\n",
       "      <td>7</td>\n",
       "      <td>10</td>\n",
       "      <td>8</td>\n",
       "      <td>7</td>\n",
       "      <td>4</td>\n",
       "      <td>8</td>\n",
       "      <td>8</td>\n",
       "      <td>5</td>\n",
       "      <td>10</td>\n",
       "      <td>11</td>\n",
       "      <td>2</td>\n",
       "      <td>8</td>\n",
       "      <td>2</td>\n",
       "      <td>5</td>\n",
       "      <td>5</td>\n",
       "      <td>10</td>\n",
       "      <td>S</td>\n",
       "    </tr>\n",
       "    <tr>\n",
       "      <th>3</th>\n",
       "      <td>4</td>\n",
       "      <td>4</td>\n",
       "      <td>9</td>\n",
       "      <td>5</td>\n",
       "      <td>7</td>\n",
       "      <td>4</td>\n",
       "      <td>7</td>\n",
       "      <td>7</td>\n",
       "      <td>13</td>\n",
       "      <td>1</td>\n",
       "      <td>7</td>\n",
       "      <td>6</td>\n",
       "      <td>8</td>\n",
       "      <td>3</td>\n",
       "      <td>8</td>\n",
       "      <td>0</td>\n",
       "      <td>8</td>\n",
       "      <td>H</td>\n",
       "    </tr>\n",
       "    <tr>\n",
       "      <th>4</th>\n",
       "      <td>5</td>\n",
       "      <td>6</td>\n",
       "      <td>7</td>\n",
       "      <td>8</td>\n",
       "      <td>5</td>\n",
       "      <td>4</td>\n",
       "      <td>7</td>\n",
       "      <td>6</td>\n",
       "      <td>3</td>\n",
       "      <td>7</td>\n",
       "      <td>10</td>\n",
       "      <td>7</td>\n",
       "      <td>9</td>\n",
       "      <td>3</td>\n",
       "      <td>8</td>\n",
       "      <td>3</td>\n",
       "      <td>7</td>\n",
       "      <td>H</td>\n",
       "    </tr>\n",
       "  </tbody>\n",
       "</table>\n",
       "</div>"
      ],
      "text/plain": [
       "   id  'x-box'  'y-box'  'width'  'high'  'onpix'  'x-bar'  'y-bar'  'x2bar'  \\\n",
       "0   1        2        4        4       3        2        7        8        2   \n",
       "1   2        4        7        5       5        5        5        9        6   \n",
       "2   3        7       10        8       7        4        8        8        5   \n",
       "3   4        4        9        5       7        4        7        7       13   \n",
       "4   5        6        7        8       5        4        7        6        3   \n",
       "\n",
       "   'y2bar'  'xybar'  'x2ybr'  'xy2br'  'x-ege'  'xegvy'  'y-ege'  'yegvx'  \\\n",
       "0        9       11        7        7        1        8        5        6   \n",
       "1        4        8        7        9        2        9        7       10   \n",
       "2       10       11        2        8        2        5        5       10   \n",
       "3        1        7        6        8        3        8        0        8   \n",
       "4        7       10        7        9        3        8        3        7   \n",
       "\n",
       "  'class'  \n",
       "0       Z  \n",
       "1       P  \n",
       "2       S  \n",
       "3       H  \n",
       "4       H  "
      ]
     },
     "execution_count": 108,
     "metadata": {},
     "output_type": "execute_result"
    }
   ],
   "source": [
    "dataset.head()"
   ]
  },
  {
   "cell_type": "code",
   "execution_count": 109,
   "id": "25ba3b35",
   "metadata": {},
   "outputs": [],
   "source": [
    "X = dataset.iloc[1:1000, 1:-1]\n",
    "y = dataset.iloc[1:1000, -1].values\n"
   ]
  },
  {
   "cell_type": "code",
   "execution_count": 110,
   "id": "c88a932f",
   "metadata": {},
   "outputs": [],
   "source": [
    "X_train, X_test, y_train, y_test = train_test_split(X, y, test_size=0.3, random_state=0)\n"
   ]
  },
  {
   "cell_type": "code",
   "execution_count": 111,
   "id": "1e2c023a",
   "metadata": {},
   "outputs": [],
   "source": [
    "accuracy_list = []"
   ]
  },
  {
   "cell_type": "code",
   "execution_count": 112,
   "id": "97c1217d",
   "metadata": {},
   "outputs": [
    {
     "data": {
      "text/plain": [
       "[]"
      ]
     },
     "execution_count": 112,
     "metadata": {},
     "output_type": "execute_result"
    }
   ],
   "source": [
    "accuracy_list"
   ]
  },
  {
   "cell_type": "markdown",
   "id": "b16f4437",
   "metadata": {},
   "source": [
    "## Teste 1\n",
    "### Modelo que obtemos diretamente a partir do sklearn"
   ]
  },
  {
   "cell_type": "code",
   "execution_count": 113,
   "id": "d2c0d9e7",
   "metadata": {},
   "outputs": [
    {
     "data": {
      "text/plain": [
       "1"
      ]
     },
     "execution_count": 113,
     "metadata": {},
     "output_type": "execute_result"
    }
   ],
   "source": [
    "k=find_best_k(X_train, X_test, y_train, y_test,'KNN')"
   ]
  },
  {
   "cell_type": "code",
   "execution_count": 114,
   "id": "3fbfd3a1",
   "metadata": {},
   "outputs": [
    {
     "name": "stdout",
     "output_type": "stream",
     "text": [
      "Accuracy =  0.7466666666666667\n"
     ]
    }
   ],
   "source": [
    "KNN=KNeighborsClassifier(n_neighbors=k)\n",
    "KNN.fit(X_train,y_train)\n",
    "Y_pred=KNN.predict(X_test)\n",
    "print(\"Accuracy = \", accuracy_score(y_test,Y_pred))\n",
    "accuracy_list.append(accuracy_score(y_test,Y_pred))"
   ]
  },
  {
   "cell_type": "markdown",
   "id": "82f08b71",
   "metadata": {},
   "source": [
    "## Teste 2\n",
    "### Código do modelo, sem a alteração"
   ]
  },
  {
   "cell_type": "code",
   "execution_count": 115,
   "id": "3f02076e",
   "metadata": {},
   "outputs": [
    {
     "data": {
      "text/plain": [
       "1"
      ]
     },
     "execution_count": 115,
     "metadata": {},
     "output_type": "execute_result"
    }
   ],
   "source": [
    "k=find_best_k(X_train, X_test, y_train, y_test,KNNNormal)"
   ]
  },
  {
   "cell_type": "code",
   "execution_count": 116,
   "id": "3b8f52fa",
   "metadata": {},
   "outputs": [],
   "source": [
    "KNN2=KNNNormal(k) #our model\n",
    "KNN2.fit(X_train,y_train)"
   ]
  },
  {
   "cell_type": "code",
   "execution_count": 117,
   "id": "b988cbf9",
   "metadata": {},
   "outputs": [
    {
     "name": "stdout",
     "output_type": "stream",
     "text": [
      "Accuracy =  0.7466666666666667\n"
     ]
    }
   ],
   "source": [
    "Y_pred=KNN2.predict(X_test)\n",
    "print(\"Accuracy = \", accuracy_score(y_test,Y_pred))\n",
    "accuracy_list.append(accuracy_score(y_test,Y_pred))"
   ]
  },
  {
   "cell_type": "markdown",
   "id": "20190475",
   "metadata": {},
   "source": [
    "## Teste 3\n",
    "### Distância de Manhattan"
   ]
  },
  {
   "cell_type": "code",
   "execution_count": 118,
   "id": "7d8137ca",
   "metadata": {},
   "outputs": [
    {
     "data": {
      "text/plain": [
       "1"
      ]
     },
     "execution_count": 118,
     "metadata": {},
     "output_type": "execute_result"
    }
   ],
   "source": [
    "k=find_best_k(X_train, X_test, y_train, y_test,KNNManhattan)"
   ]
  },
  {
   "cell_type": "code",
   "execution_count": 119,
   "id": "fba6f017",
   "metadata": {},
   "outputs": [],
   "source": [
    "KNN3=KNNManhattan(k) #our model\n",
    "KNN3.fit(X_train,y_train)"
   ]
  },
  {
   "cell_type": "code",
   "execution_count": 120,
   "id": "1197b6a0",
   "metadata": {},
   "outputs": [
    {
     "name": "stdout",
     "output_type": "stream",
     "text": [
      "Accuracy =  0.7433333333333333\n"
     ]
    }
   ],
   "source": [
    "Y_pred=KNN3.predict(X_test)\n",
    "print(\"Accuracy = \", accuracy_score(y_test,Y_pred))\n",
    "accuracy_list.append(accuracy_score(y_test,Y_pred))"
   ]
  },
  {
   "cell_type": "markdown",
   "id": "62c7c33c",
   "metadata": {},
   "source": [
    "## Teste 4\n",
    "### Distância de Hamming "
   ]
  },
  {
   "cell_type": "code",
   "execution_count": 121,
   "id": "753110ea",
   "metadata": {},
   "outputs": [
    {
     "data": {
      "text/plain": [
       "5"
      ]
     },
     "execution_count": 121,
     "metadata": {},
     "output_type": "execute_result"
    }
   ],
   "source": [
    "k=find_best_k(X_train, X_test, y_train, y_test,KNNHamming)"
   ]
  },
  {
   "cell_type": "code",
   "execution_count": 122,
   "id": "9db702c9",
   "metadata": {},
   "outputs": [],
   "source": [
    "KNN4=KNNHamming(k) #our model\n",
    "KNN4.fit(X_train,y_train)"
   ]
  },
  {
   "cell_type": "code",
   "execution_count": 123,
   "id": "4f824780",
   "metadata": {},
   "outputs": [
    {
     "name": "stdout",
     "output_type": "stream",
     "text": [
      "Accuracy =  0.6033333333333334\n"
     ]
    }
   ],
   "source": [
    "Y_pred=KNN4.predict(X_test)\n",
    "print(\"Accuracy = \", accuracy_score(y_test,Y_pred))\n",
    "accuracy_list.append(accuracy_score(y_test,Y_pred))"
   ]
  },
  {
   "cell_type": "markdown",
   "id": "255403f6",
   "metadata": {},
   "source": [
    "## Teste 5\n",
    "### Distância de Jaccard "
   ]
  },
  {
   "cell_type": "code",
   "execution_count": 124,
   "id": "85bbd8aa",
   "metadata": {},
   "outputs": [
    {
     "data": {
      "text/plain": [
       "6"
      ]
     },
     "execution_count": 124,
     "metadata": {},
     "output_type": "execute_result"
    }
   ],
   "source": [
    "k=find_best_k(X_train, X_test, y_train, y_test,KNNJaccard)"
   ]
  },
  {
   "cell_type": "code",
   "execution_count": 125,
   "id": "0358abb4",
   "metadata": {},
   "outputs": [],
   "source": [
    "KNN5=KNNJaccard(k) #our model\n",
    "KNN5.fit(X_train,y_train)"
   ]
  },
  {
   "cell_type": "code",
   "execution_count": 126,
   "id": "594d827b",
   "metadata": {},
   "outputs": [
    {
     "name": "stdout",
     "output_type": "stream",
     "text": [
      "Accuracy =  0.23666666666666666\n"
     ]
    }
   ],
   "source": [
    "Y_pred=KNN5.predict(X_test)\n",
    "print(\"Accuracy = \", accuracy_score(y_test,Y_pred))\n",
    "accuracy_list.append(accuracy_score(y_test,Y_pred))"
   ]
  },
  {
   "cell_type": "markdown",
   "id": "7ba1e5f4",
   "metadata": {},
   "source": [
    "## Teste 6\n",
    "### Distância de Chebyshev"
   ]
  },
  {
   "cell_type": "code",
   "execution_count": 127,
   "id": "e794127f",
   "metadata": {},
   "outputs": [
    {
     "data": {
      "text/plain": [
       "1"
      ]
     },
     "execution_count": 127,
     "metadata": {},
     "output_type": "execute_result"
    }
   ],
   "source": [
    "k=find_best_k(X_train, X_test, y_train, y_test,KNNChebyshev)"
   ]
  },
  {
   "cell_type": "code",
   "execution_count": 128,
   "id": "ab274f6e",
   "metadata": {},
   "outputs": [],
   "source": [
    "KNN6=KNNChebyshev(k) #our model\n",
    "KNN6.fit(X_train,y_train)"
   ]
  },
  {
   "cell_type": "code",
   "execution_count": 129,
   "id": "48d88778",
   "metadata": {},
   "outputs": [
    {
     "name": "stdout",
     "output_type": "stream",
     "text": [
      "Accuracy =  0.6366666666666667\n"
     ]
    }
   ],
   "source": [
    "Y_pred=KNN6.predict(X_test)\n",
    "print(\"Accuracy = \", accuracy_score(y_test,Y_pred))\n",
    "accuracy_list.append(accuracy_score(y_test,Y_pred))"
   ]
  },
  {
   "cell_type": "markdown",
   "id": "8a042595",
   "metadata": {},
   "source": [
    "### Análise"
   ]
  },
  {
   "cell_type": "code",
   "execution_count": 130,
   "id": "4250f6ff",
   "metadata": {},
   "outputs": [
    {
     "data": {
      "image/png": "[encoded data removed]",
      "text/plain": [
       "<Figure size 432x288 with 1 Axes>"
      ]
     },
     "metadata": {
      "needs_background": "light"
     },
     "output_type": "display_data"
    }
   ],
   "source": [
    "plt.plot(accuracy_list)\n",
    "plt.xlabel(\"Model\")\n",
    "plt.ylabel(\"Accuracy\")\n",
    "plt.title(\"KNN Performance for k=5\")\n",
    "plt.xticks(range(6), ['KNN','KNNNormal','KNNManhattan','KNNHamming','KNNJaccard','KNNChebyshev'])\n",
    "plt.show()\n"
   ]
  },
  {
   "cell_type": "markdown",
   "id": "15a9e482",
   "metadata": {},
   "source": [
    "### A distância de Hamming é uma medida de distância usada para dados categóricos binários e a distância de Jaccard é usada para dados categóricos multivalor. Essas medidas de distância podem ser úteis para problemas de classificação que envolvem variáveis categóricas.\n",
    "\n",
    "### Como não é este o caso estas duas medidas obtiveram scores piores quando comparadas às outras."
   ]
  },
  {
   "cell_type": "markdown",
   "id": "5d81ec10",
   "metadata": {},
   "source": [
    "### Dataset 2 -  Prever letras - atributos todos numéricos e com medidas"
   ]
  },
  {
   "cell_type": "code",
   "execution_count": 131,
   "id": "6f892bf1",
   "metadata": {},
   "outputs": [],
   "source": [
    "dataset = pd.read_csv('tic-tac-toe.csv')"
   ]
  },
  {
   "cell_type": "code",
   "execution_count": 140,
   "id": "cb48dcd5",
   "metadata": {
    "scrolled": true
   },
   "outputs": [
    {
     "data": {
      "text/html": [
       "<div>\n",
       "<style scoped>\n",
       "    .dataframe tbody tr th:only-of-type {\n",
       "        vertical-align: middle;\n",
       "    }\n",
       "\n",
       "    .dataframe tbody tr th {\n",
       "        vertical-align: top;\n",
       "    }\n",
       "\n",
       "    .dataframe thead th {\n",
       "        text-align: right;\n",
       "    }\n",
       "</style>\n",
       "<table border=\"1\" class=\"dataframe\">\n",
       "  <thead>\n",
       "    <tr style=\"text-align: right;\">\n",
       "      <th></th>\n",
       "      <th>id</th>\n",
       "      <th>'top-left-square'</th>\n",
       "      <th>'top-middle-square'</th>\n",
       "      <th>'top-right-square'</th>\n",
       "      <th>'middle-left-square'</th>\n",
       "      <th>'middle-middle-square'</th>\n",
       "      <th>'middle-right-square'</th>\n",
       "      <th>'bottom-left-square'</th>\n",
       "      <th>'bottom-middle-square'</th>\n",
       "      <th>'bottom-right-square'</th>\n",
       "      <th>'Class'</th>\n",
       "    </tr>\n",
       "  </thead>\n",
       "  <tbody>\n",
       "    <tr>\n",
       "      <th>0</th>\n",
       "      <td>0</td>\n",
       "      <td>2</td>\n",
       "      <td>2</td>\n",
       "      <td>2</td>\n",
       "      <td>2</td>\n",
       "      <td>1</td>\n",
       "      <td>1</td>\n",
       "      <td>2</td>\n",
       "      <td>1</td>\n",
       "      <td>1</td>\n",
       "      <td>positive</td>\n",
       "    </tr>\n",
       "    <tr>\n",
       "      <th>1</th>\n",
       "      <td>1</td>\n",
       "      <td>2</td>\n",
       "      <td>2</td>\n",
       "      <td>2</td>\n",
       "      <td>2</td>\n",
       "      <td>1</td>\n",
       "      <td>1</td>\n",
       "      <td>1</td>\n",
       "      <td>2</td>\n",
       "      <td>1</td>\n",
       "      <td>positive</td>\n",
       "    </tr>\n",
       "    <tr>\n",
       "      <th>2</th>\n",
       "      <td>2</td>\n",
       "      <td>2</td>\n",
       "      <td>2</td>\n",
       "      <td>2</td>\n",
       "      <td>2</td>\n",
       "      <td>1</td>\n",
       "      <td>1</td>\n",
       "      <td>1</td>\n",
       "      <td>1</td>\n",
       "      <td>2</td>\n",
       "      <td>positive</td>\n",
       "    </tr>\n",
       "    <tr>\n",
       "      <th>3</th>\n",
       "      <td>3</td>\n",
       "      <td>2</td>\n",
       "      <td>2</td>\n",
       "      <td>2</td>\n",
       "      <td>2</td>\n",
       "      <td>1</td>\n",
       "      <td>1</td>\n",
       "      <td>1</td>\n",
       "      <td>0</td>\n",
       "      <td>0</td>\n",
       "      <td>positive</td>\n",
       "    </tr>\n",
       "    <tr>\n",
       "      <th>4</th>\n",
       "      <td>4</td>\n",
       "      <td>2</td>\n",
       "      <td>2</td>\n",
       "      <td>2</td>\n",
       "      <td>2</td>\n",
       "      <td>1</td>\n",
       "      <td>1</td>\n",
       "      <td>0</td>\n",
       "      <td>1</td>\n",
       "      <td>0</td>\n",
       "      <td>positive</td>\n",
       "    </tr>\n",
       "  </tbody>\n",
       "</table>\n",
       "</div>"
      ],
      "text/plain": [
       "   id  'top-left-square'  'top-middle-square'  'top-right-square'  \\\n",
       "0   0                  2                    2                   2   \n",
       "1   1                  2                    2                   2   \n",
       "2   2                  2                    2                   2   \n",
       "3   3                  2                    2                   2   \n",
       "4   4                  2                    2                   2   \n",
       "\n",
       "   'middle-left-square'  'middle-middle-square'  'middle-right-square'  \\\n",
       "0                     2                       1                      1   \n",
       "1                     2                       1                      1   \n",
       "2                     2                       1                      1   \n",
       "3                     2                       1                      1   \n",
       "4                     2                       1                      1   \n",
       "\n",
       "   'bottom-left-square'  'bottom-middle-square'  'bottom-right-square'  \\\n",
       "0                     2                       1                      1   \n",
       "1                     1                       2                      1   \n",
       "2                     1                       1                      2   \n",
       "3                     1                       0                      0   \n",
       "4                     0                       1                      0   \n",
       "\n",
       "    'Class'  \n",
       "0  positive  \n",
       "1  positive  \n",
       "2  positive  \n",
       "3  positive  \n",
       "4  positive  "
      ]
     },
     "execution_count": 140,
     "metadata": {},
     "output_type": "execute_result"
    }
   ],
   "source": [
    "dataset.head()"
   ]
  },
  {
   "cell_type": "code",
   "execution_count": 133,
   "id": "14622bd1",
   "metadata": {},
   "outputs": [],
   "source": [
    "X = dataset.iloc[:, 1:-1]\n",
    "y = dataset.iloc[:, -1].values"
   ]
  },
  {
   "cell_type": "code",
   "execution_count": 134,
   "id": "d87b281f",
   "metadata": {},
   "outputs": [],
   "source": [
    "X_train, X_test, y_train, y_test = train_test_split(X, y, test_size=0.3, random_state=0)\n",
    "accuracy=[]"
   ]
  },
  {
   "cell_type": "markdown",
   "id": "758286a5",
   "metadata": {},
   "source": [
    "## Teste 1\n",
    "### Distância de Hamming (sem label encoder)"
   ]
  },
  {
   "cell_type": "code",
   "execution_count": 135,
   "id": "99c18966",
   "metadata": {},
   "outputs": [
    {
     "data": {
      "text/plain": [
       "6"
      ]
     },
     "execution_count": 135,
     "metadata": {},
     "output_type": "execute_result"
    }
   ],
   "source": [
    "k=find_best_k(X_train, X_test, y_train, y_test,KNNHamming)"
   ]
  },
  {
   "cell_type": "code",
   "execution_count": 136,
   "id": "188ae2dd",
   "metadata": {},
   "outputs": [
    {
     "name": "stdout",
     "output_type": "stream",
     "text": [
      "Accuracy =  0.9305555555555556\n"
     ]
    }
   ],
   "source": [
    "KNN4=KNNHamming(k) #our model\n",
    "KNN4.fit(X_train,y_train)\n",
    "Y1_pred = KNN4.predict(X_test)\n",
    "print(\"Accuracy = \", accuracy_score(y_test, Y1_pred))\n",
    "accuracy.append(accuracy_score(y_test,Y1_pred))"
   ]
  },
  {
   "cell_type": "markdown",
   "id": "bade4ecd",
   "metadata": {},
   "source": [
    "## Teste 2\n",
    "### Distância de Jaccard (sem label encoder)"
   ]
  },
  {
   "cell_type": "code",
   "execution_count": 137,
   "id": "b5a3b9dd",
   "metadata": {},
   "outputs": [
    {
     "data": {
      "text/plain": [
       "1"
      ]
     },
     "execution_count": 137,
     "metadata": {},
     "output_type": "execute_result"
    }
   ],
   "source": [
    "k=find_best_k(X_train, X_test, y_train, y_test,KNNJaccard)"
   ]
  },
  {
   "cell_type": "code",
   "execution_count": 138,
   "id": "a8a0a949",
   "metadata": {},
   "outputs": [
    {
     "name": "stdout",
     "output_type": "stream",
     "text": [
      "Accuracy =  0.6527777777777778\n"
     ]
    }
   ],
   "source": [
    "KNN5=KNNJaccard(k) #our model\n",
    "KNN5.fit(X_train,y_train)\n",
    "Y1_pred = KNN5.predict(X_test)\n",
    "print(\"Accuracy = \", accuracy_score(y_test, Y1_pred))\n",
    "accuracy.append(accuracy_score(y_test,Y1_pred))"
   ]
  },
  {
   "cell_type": "markdown",
   "id": "ab877faa",
   "metadata": {},
   "source": [
    "### Fazer Label Encoder para as outras distâncias"
   ]
  },
  {
   "cell_type": "code",
   "execution_count": 139,
   "id": "14b56b2f",
   "metadata": {},
   "outputs": [],
   "source": [
    "for column in dataset.columns:\n",
    "    if not column in[\n",
    "       \"'Class'\"]:\n",
    "        le = LabelEncoder()\n",
    "        dataset[column] = le.fit_transform(dataset[column])\n",
    "X = dataset.iloc[:, 1:-1]\n",
    "y = dataset.iloc[:, -1].values\n",
    "X_train, X_test, y_train, y_test = train_test_split(X, y, test_size=0.3, random_state=0)"
   ]
  },
  {
   "cell_type": "markdown",
   "id": "a4b144a0",
   "metadata": {},
   "source": [
    "## Teste 3\n",
    "### Modelo que obtemos diretamente a partir do sklearn"
   ]
  },
  {
   "cell_type": "code",
   "execution_count": 148,
   "id": "2d95435e",
   "metadata": {},
   "outputs": [],
   "source": [
    "k=find_best_k(X_train, X_test, y_train, y_test,'KNN')"
   ]
  },
  {
   "cell_type": "code",
   "execution_count": 149,
   "id": "a5d9a0a4",
   "metadata": {},
   "outputs": [
    {
     "name": "stdout",
     "output_type": "stream",
     "text": [
      "Accuracy =  0.84375\n"
     ]
    }
   ],
   "source": [
    "KNN=KNeighborsClassifier(n_neighbors=6)\n",
    "KNN.fit(X_train,y_train)\n",
    "Y_pred=KNN.predict(X_test)\n",
    "print(\"Accuracy = \", accuracy_score(y_test,Y_pred))\n",
    "accuracy.append(accuracy_score(y_test,Y_pred))"
   ]
  },
  {
   "cell_type": "markdown",
   "id": "bd70af6c",
   "metadata": {},
   "source": [
    "\n",
    "## Teste 4\n",
    "### Código do modelo, sem a alteração"
   ]
  },
  {
   "cell_type": "code",
   "execution_count": 150,
   "id": "03389a59",
   "metadata": {},
   "outputs": [],
   "source": [
    "k=find_best_k(X_train, X_test,y_train, y_test,KNNNormal)"
   ]
  },
  {
   "cell_type": "code",
   "execution_count": 151,
   "id": "96ed510f",
   "metadata": {},
   "outputs": [],
   "source": [
    "KNN2=KNNNormal(k) #our model\n",
    "KNN2.fit(X_train,y_train)"
   ]
  },
  {
   "cell_type": "code",
   "execution_count": 153,
   "id": "5d58911e",
   "metadata": {},
   "outputs": [
    {
     "name": "stdout",
     "output_type": "stream",
     "text": [
      "Accuracy =  0.8541666666666666\n"
     ]
    }
   ],
   "source": [
    "Y1_pred = KNN2.predict(X_test)\n",
    "print(\"Accuracy = \", accuracy_score(y_test, Y1_pred))\n",
    "accuracy.append(accuracy_score(y_test,Y1_pred))"
   ]
  },
  {
   "cell_type": "markdown",
   "id": "0c0287a4",
   "metadata": {},
   "source": [
    "## Teste 5\n",
    "### Distância de Manhattan "
   ]
  },
  {
   "cell_type": "code",
   "execution_count": 154,
   "id": "0aef55f6",
   "metadata": {},
   "outputs": [],
   "source": [
    "k=find_best_k(X_train, X_test, y_train, y_test,KNNManhattan)"
   ]
  },
  {
   "cell_type": "code",
   "execution_count": 155,
   "id": "cfa147e5",
   "metadata": {},
   "outputs": [],
   "source": [
    "KNN3=KNNManhattan(k) #our model\n",
    "KNN3.fit(X_train,y_train)"
   ]
  },
  {
   "cell_type": "code",
   "execution_count": 156,
   "id": "0ee7f75d",
   "metadata": {},
   "outputs": [
    {
     "name": "stdout",
     "output_type": "stream",
     "text": [
      "Accuracy =  0.8645833333333334\n"
     ]
    }
   ],
   "source": [
    "Y1_pred = KNN3.predict(X_test)\n",
    "print(\"Accuracy = \", accuracy_score(y_test, Y1_pred))\n",
    "accuracy.append(accuracy_score(y_test,Y1_pred))"
   ]
  },
  {
   "cell_type": "markdown",
   "id": "6a1b1417",
   "metadata": {},
   "source": [
    "## Teste 6\n",
    "### Distância de Chebyshev"
   ]
  },
  {
   "cell_type": "code",
   "execution_count": 157,
   "id": "1798625e",
   "metadata": {},
   "outputs": [],
   "source": [
    "k=find_best_k(X_train, X_test, y_train, y_test,KNNChebyshev)"
   ]
  },
  {
   "cell_type": "code",
   "execution_count": 158,
   "id": "40f721f3",
   "metadata": {},
   "outputs": [],
   "source": [
    "KNN6=KNNChebyshev(k) #our model\n",
    "KNN6.fit(X_train,y_train)"
   ]
  },
  {
   "cell_type": "code",
   "execution_count": 159,
   "id": "e66670ac",
   "metadata": {},
   "outputs": [
    {
     "name": "stdout",
     "output_type": "stream",
     "text": [
      "Accuracy =  0.6145833333333334\n"
     ]
    }
   ],
   "source": [
    "Y1_pred = KNN6.predict(X_test)\n",
    "print(\"Accuracy = \", accuracy_score(y_test, Y1_pred))\n",
    "accuracy.append(accuracy_score(y_test,Y1_pred))"
   ]
  },
  {
   "cell_type": "markdown",
   "id": "723154df",
   "metadata": {},
   "source": [
    "### Análise"
   ]
  },
  {
   "cell_type": "code",
   "execution_count": 160,
   "id": "5d7a0965",
   "metadata": {},
   "outputs": [
    {
     "data": {
      "image/png": "[encoded data removed]",
      "text/plain": [
       "<Figure size 432x288 with 1 Axes>"
      ]
     },
     "metadata": {
      "needs_background": "light"
     },
     "output_type": "display_data"
    }
   ],
   "source": [
    "plt.plot(accuracy)\n",
    "plt.xlabel(\"Model\")\n",
    "plt.ylabel(\"Accuracy\")\n",
    "plt.title(\"KNN Performance para o melhor k de 1 a 7\")\n",
    "plt.xticks(range(6), ['Hamming','Jaccard','KNN','KNNNormal','KNNManhattan','KNNChebyshev'])\n",
    "plt.show()"
   ]
  },
  {
   "cell_type": "markdown",
   "id": "a0ded565",
   "metadata": {},
   "source": [
    "### Como se tratam de variáveis categóricas binárias, o Hamming é a melhor métrica para este caso."
   ]
  },
  {
   "cell_type": "markdown",
   "id": "78658024",
   "metadata": {},
   "source": [
    "### Dataset 3 -  risco de créditos  "
   ]
  },
  {
   "cell_type": "code",
   "execution_count": 161,
   "id": "f63ce0eb",
   "metadata": {},
   "outputs": [
    {
     "data": {
      "text/html": [
       "<div>\n",
       "<style scoped>\n",
       "    .dataframe tbody tr th:only-of-type {\n",
       "        vertical-align: middle;\n",
       "    }\n",
       "\n",
       "    .dataframe tbody tr th {\n",
       "        vertical-align: top;\n",
       "    }\n",
       "\n",
       "    .dataframe thead th {\n",
       "        text-align: right;\n",
       "    }\n",
       "</style>\n",
       "<table border=\"1\" class=\"dataframe\">\n",
       "  <thead>\n",
       "    <tr style=\"text-align: right;\">\n",
       "      <th></th>\n",
       "      <th>id</th>\n",
       "      <th>'checking_status'</th>\n",
       "      <th>'duration'</th>\n",
       "      <th>'credit_history'</th>\n",
       "      <th>'purpose'</th>\n",
       "      <th>'credit_amount'</th>\n",
       "      <th>'savings_status'</th>\n",
       "      <th>'employment'</th>\n",
       "      <th>'installment_commitment'</th>\n",
       "      <th>'personal_status'</th>\n",
       "      <th>...</th>\n",
       "      <th>'property_magnitude'</th>\n",
       "      <th>'age'</th>\n",
       "      <th>'other_payment_plans'</th>\n",
       "      <th>'housing'</th>\n",
       "      <th>'existing_credits'</th>\n",
       "      <th>'job'</th>\n",
       "      <th>'num_dependents'</th>\n",
       "      <th>'own_telephone'</th>\n",
       "      <th>'foreign_worker'</th>\n",
       "      <th>'class'</th>\n",
       "    </tr>\n",
       "  </thead>\n",
       "  <tbody>\n",
       "    <tr>\n",
       "      <th>995</th>\n",
       "      <td>996</td>\n",
       "      <td>no checking</td>\n",
       "      <td>12</td>\n",
       "      <td>existing paid</td>\n",
       "      <td>furniture/equipment</td>\n",
       "      <td>1736</td>\n",
       "      <td>&lt;100</td>\n",
       "      <td>4&lt;=X&lt;7</td>\n",
       "      <td>3</td>\n",
       "      <td>female div/dep/mar</td>\n",
       "      <td>...</td>\n",
       "      <td>real estate</td>\n",
       "      <td>31</td>\n",
       "      <td>none</td>\n",
       "      <td>own</td>\n",
       "      <td>1</td>\n",
       "      <td>unskilled resident</td>\n",
       "      <td>1</td>\n",
       "      <td>none</td>\n",
       "      <td>yes</td>\n",
       "      <td>good</td>\n",
       "    </tr>\n",
       "    <tr>\n",
       "      <th>996</th>\n",
       "      <td>997</td>\n",
       "      <td>&lt;0</td>\n",
       "      <td>30</td>\n",
       "      <td>existing paid</td>\n",
       "      <td>used car</td>\n",
       "      <td>3857</td>\n",
       "      <td>&lt;100</td>\n",
       "      <td>1&lt;=X&lt;4</td>\n",
       "      <td>4</td>\n",
       "      <td>male div/sep</td>\n",
       "      <td>...</td>\n",
       "      <td>life insurance</td>\n",
       "      <td>40</td>\n",
       "      <td>none</td>\n",
       "      <td>own</td>\n",
       "      <td>1</td>\n",
       "      <td>high qualif/self emp/mgmt</td>\n",
       "      <td>1</td>\n",
       "      <td>yes</td>\n",
       "      <td>yes</td>\n",
       "      <td>good</td>\n",
       "    </tr>\n",
       "    <tr>\n",
       "      <th>997</th>\n",
       "      <td>998</td>\n",
       "      <td>no checking</td>\n",
       "      <td>12</td>\n",
       "      <td>existing paid</td>\n",
       "      <td>radio/tv</td>\n",
       "      <td>804</td>\n",
       "      <td>&lt;100</td>\n",
       "      <td>&gt;=7</td>\n",
       "      <td>4</td>\n",
       "      <td>male single</td>\n",
       "      <td>...</td>\n",
       "      <td>car</td>\n",
       "      <td>38</td>\n",
       "      <td>none</td>\n",
       "      <td>own</td>\n",
       "      <td>1</td>\n",
       "      <td>skilled</td>\n",
       "      <td>1</td>\n",
       "      <td>none</td>\n",
       "      <td>yes</td>\n",
       "      <td>good</td>\n",
       "    </tr>\n",
       "    <tr>\n",
       "      <th>998</th>\n",
       "      <td>999</td>\n",
       "      <td>&lt;0</td>\n",
       "      <td>45</td>\n",
       "      <td>existing paid</td>\n",
       "      <td>radio/tv</td>\n",
       "      <td>1845</td>\n",
       "      <td>&lt;100</td>\n",
       "      <td>1&lt;=X&lt;4</td>\n",
       "      <td>4</td>\n",
       "      <td>male single</td>\n",
       "      <td>...</td>\n",
       "      <td>no known property</td>\n",
       "      <td>23</td>\n",
       "      <td>none</td>\n",
       "      <td>for free</td>\n",
       "      <td>1</td>\n",
       "      <td>skilled</td>\n",
       "      <td>1</td>\n",
       "      <td>yes</td>\n",
       "      <td>yes</td>\n",
       "      <td>bad</td>\n",
       "    </tr>\n",
       "    <tr>\n",
       "      <th>999</th>\n",
       "      <td>1000</td>\n",
       "      <td>0&lt;=X&lt;200</td>\n",
       "      <td>45</td>\n",
       "      <td>critical/other existing credit</td>\n",
       "      <td>used car</td>\n",
       "      <td>4576</td>\n",
       "      <td>100&lt;=X&lt;500</td>\n",
       "      <td>unemployed</td>\n",
       "      <td>3</td>\n",
       "      <td>male single</td>\n",
       "      <td>...</td>\n",
       "      <td>car</td>\n",
       "      <td>27</td>\n",
       "      <td>none</td>\n",
       "      <td>own</td>\n",
       "      <td>1</td>\n",
       "      <td>skilled</td>\n",
       "      <td>1</td>\n",
       "      <td>none</td>\n",
       "      <td>yes</td>\n",
       "      <td>good</td>\n",
       "    </tr>\n",
       "  </tbody>\n",
       "</table>\n",
       "<p>5 rows × 22 columns</p>\n",
       "</div>"
      ],
      "text/plain": [
       "       id 'checking_status'  'duration'                'credit_history'  \\\n",
       "995   996       no checking          12                   existing paid   \n",
       "996   997                <0          30                   existing paid   \n",
       "997   998       no checking          12                   existing paid   \n",
       "998   999                <0          45                   existing paid   \n",
       "999  1000          0<=X<200          45  critical/other existing credit   \n",
       "\n",
       "               'purpose'  'credit_amount' 'savings_status' 'employment'  \\\n",
       "995  furniture/equipment             1736             <100       4<=X<7   \n",
       "996             used car             3857             <100       1<=X<4   \n",
       "997             radio/tv              804             <100          >=7   \n",
       "998             radio/tv             1845             <100       1<=X<4   \n",
       "999             used car             4576       100<=X<500   unemployed   \n",
       "\n",
       "     'installment_commitment'   'personal_status'  ... 'property_magnitude'  \\\n",
       "995                         3  female div/dep/mar  ...          real estate   \n",
       "996                         4        male div/sep  ...       life insurance   \n",
       "997                         4         male single  ...                  car   \n",
       "998                         4         male single  ...    no known property   \n",
       "999                         3         male single  ...                  car   \n",
       "\n",
       "     'age' 'other_payment_plans'  'housing' 'existing_credits'  \\\n",
       "995     31                  none        own                  1   \n",
       "996     40                  none        own                  1   \n",
       "997     38                  none        own                  1   \n",
       "998     23                  none   for free                  1   \n",
       "999     27                  none        own                  1   \n",
       "\n",
       "                         'job'  'num_dependents' 'own_telephone'  \\\n",
       "995         unskilled resident                 1            none   \n",
       "996  high qualif/self emp/mgmt                 1             yes   \n",
       "997                    skilled                 1            none   \n",
       "998                    skilled                 1             yes   \n",
       "999                    skilled                 1            none   \n",
       "\n",
       "     'foreign_worker' 'class'  \n",
       "995               yes    good  \n",
       "996               yes    good  \n",
       "997               yes    good  \n",
       "998               yes     bad  \n",
       "999               yes    good  \n",
       "\n",
       "[5 rows x 22 columns]"
      ]
     },
     "execution_count": 161,
     "metadata": {},
     "output_type": "execute_result"
    }
   ],
   "source": [
    "dataset = pd.read_csv('csv_result-dataset_31_credit-g.csv')\n",
    "dataset.tail()"
   ]
  },
  {
   "cell_type": "code",
   "execution_count": 162,
   "id": "ef28b332",
   "metadata": {},
   "outputs": [],
   "source": [
    "dataset.head()\n",
    "X = dataset.iloc[:, 1:-1]\n",
    "y = dataset.iloc[:, -1].values\n",
    "X_train, X_test, y_train, y_test = train_test_split(X, y, test_size=0.3, random_state=0)"
   ]
  },
  {
   "cell_type": "code",
   "execution_count": 163,
   "id": "e250877d",
   "metadata": {},
   "outputs": [],
   "source": [
    "# Fazer uma cópia do X_train\n",
    "X_train_scaled = X_train.copy()\n",
    "X_test_scaled=X_test.copy()\n",
    "\n",
    "selected_columns = []\n",
    "for column in dataset.columns:\n",
    "    if not column in ['id',\"'checking_status'\", \"'credit_history'\",\n",
    "       \"'purpose'\",  \"'savings_status'\", \"'employment'\",\n",
    "        \"'personal_status'\", \"'other_parties'\",\n",
    "        \"'property_magnitude'\", \n",
    "       \"'other_payment_plans'\", \"'housing'\",  \"'job'\",\n",
    "        \"'own_telephone'\", \"'foreign_worker'\", \"'class'\"]:\n",
    "        selected_columns.append(column)\n",
    "\n",
    "\n",
    "# Aplicar o MinMaxScaler apenas às colunas selecionadas na cópia do X_train\n",
    "X_train_scaled[selected_columns] = scaler.fit_transform(X_train[selected_columns])\n",
    "\n",
    "# Aplicar o mesmo scaler aos dados de teste selecionados\n",
    "X_test_scaled[selected_columns] = scaler.transform(X_test[selected_columns])\n"
   ]
  },
  {
   "cell_type": "code",
   "execution_count": 164,
   "id": "a1b23379",
   "metadata": {},
   "outputs": [],
   "source": [
    "accuracy=[]"
   ]
  },
  {
   "cell_type": "markdown",
   "id": "bc51559b",
   "metadata": {},
   "source": [
    "## Teste 1\n",
    "### Distância de Hamming (sem label encoding)\n"
   ]
  },
  {
   "cell_type": "code",
   "execution_count": 165,
   "id": "fe064989",
   "metadata": {},
   "outputs": [],
   "source": [
    "k=find_best_k(X_train_scaled, X_test_scaled, y_train, y_test,KNNHamming)"
   ]
  },
  {
   "cell_type": "code",
   "execution_count": 166,
   "id": "c472c5c5",
   "metadata": {},
   "outputs": [
    {
     "name": "stdout",
     "output_type": "stream",
     "text": [
      "Accuracy =  0.7433333333333333\n"
     ]
    }
   ],
   "source": [
    "KNN4=KNNHamming(k) #our model\n",
    "KNN4.fit(X_train_scaled,y_train)\n",
    "Y1_pred = KNN4.predict(X_test_scaled)\n",
    "print(\"Accuracy = \", accuracy_score(y_test, Y1_pred))\n",
    "accuracy.append(accuracy_score(y_test,Y1_pred))"
   ]
  },
  {
   "cell_type": "markdown",
   "id": "a6fef911",
   "metadata": {},
   "source": [
    "## Teste 2\n",
    "### Distância de Jaccard (sem label encoding)"
   ]
  },
  {
   "cell_type": "code",
   "execution_count": 167,
   "id": "ba303bbb",
   "metadata": {},
   "outputs": [],
   "source": [
    "k=find_best_k(X_train_scaled, X_test_scaled, y_train, y_test,KNNJaccard)"
   ]
  },
  {
   "cell_type": "code",
   "execution_count": 168,
   "id": "161e235a",
   "metadata": {},
   "outputs": [
    {
     "name": "stdout",
     "output_type": "stream",
     "text": [
      "Accuracy =  0.74\n"
     ]
    }
   ],
   "source": [
    "KNN5=KNNJaccard(k) #our model\n",
    "KNN5.fit(X_train_scaled,y_train)\n",
    "Y1_pred = KNN5.predict(X_test_scaled)\n",
    "print(\"Accuracy = \", accuracy_score(y_test, Y1_pred))\n",
    "accuracy.append(accuracy_score(y_test,Y1_pred))"
   ]
  },
  {
   "cell_type": "markdown",
   "id": "e0d01e45",
   "metadata": {},
   "source": [
    "### Fazer Label Encoder para as outras distâncias"
   ]
  },
  {
   "cell_type": "code",
   "execution_count": 174,
   "id": "f1ab41cb",
   "metadata": {},
   "outputs": [],
   "source": [
    "X = dataset.iloc[:, 1:-1]\n",
    "y = dataset.iloc[:, -1].values\n",
    "X_train, X_test, y_train, y_test = train_test_split(X, y, test_size=0.3, random_state=0)\n",
    "\n",
    "for column in [\"'checking_status'\", \"'credit_history'\",\n",
    "       \"'purpose'\",  \"'savings_status'\", \"'employment'\",\n",
    "        \"'personal_status'\", \"'other_parties'\",\n",
    "        \"'property_magnitude'\", \n",
    "       \"'other_payment_plans'\", \"'housing'\",  \"'job'\",\n",
    "        \"'own_telephone'\", \"'foreign_worker'\"]:\n",
    "    le = LabelEncoder()\n",
    "    dataset[column] = le.fit_transform(dataset[column])\n",
    "\n",
    "# Fazer uma cópia do X_train\n",
    "X_train_scaled = X_train.copy()\n",
    "X_test_scaled=X_test.copy()\n",
    "\n",
    "selected_columns = []\n",
    "for column in dataset.columns:\n",
    "    if not column in ['id',\"'checking_status'\", \"'credit_history'\",\n",
    "       \"'purpose'\",  \"'savings_status'\", \"'employment'\",\n",
    "        \"'personal_status'\", \"'other_parties'\",\n",
    "        \"'property_magnitude'\", \n",
    "       \"'other_payment_plans'\", \"'housing'\",  \"'job'\",\n",
    "        \"'own_telephone'\", \"'foreign_worker'\", \"'class'\"]:\n",
    "        selected_columns.append(column)\n",
    "\n",
    "\n",
    "# Aplicar o MinMaxScaler apenas às colunas selecionadas na cópia do X_train\n",
    "X_train_scaled[selected_columns] = scaler.fit_transform(X_train[selected_columns])\n",
    "\n",
    "# Aplicar o mesmo scaler aos dados de teste selecionados\n",
    "X_test_scaled[selected_columns] = scaler.transform(X_test[selected_columns])"
   ]
  },
  {
   "cell_type": "markdown",
   "id": "b59693b6",
   "metadata": {},
   "source": [
    "## Teste 3\n",
    "### Modelo que obtemos diretamente a partir do sklearn"
   ]
  },
  {
   "cell_type": "code",
   "execution_count": 175,
   "id": "d44770ee",
   "metadata": {},
   "outputs": [],
   "source": [
    "k=find_best_k(X_train_scaled, X_test_scaled, y_train, y_test,'KNN')"
   ]
  },
  {
   "cell_type": "code",
   "execution_count": 176,
   "id": "a9b80223",
   "metadata": {},
   "outputs": [
    {
     "name": "stdout",
     "output_type": "stream",
     "text": [
      "Accuracy =  0.6966666666666667\n"
     ]
    }
   ],
   "source": [
    "KNN=KNeighborsClassifier(n_neighbors=k)\n",
    "KNN.fit(X_train_scaled,y_train)\n",
    "Y_pred=KNN.predict(X_test_scaled)\n",
    "print(\"Accuracy = \", accuracy_score(y_test,Y_pred))\n",
    "accuracy.append(accuracy_score(y_test,Y_pred))"
   ]
  },
  {
   "cell_type": "markdown",
   "id": "4273f7a4",
   "metadata": {},
   "source": [
    "## Teste 4\n",
    "### Código do modelo sem alteração"
   ]
  },
  {
   "cell_type": "code",
   "execution_count": 177,
   "id": "0316e7f6",
   "metadata": {},
   "outputs": [],
   "source": [
    "k=find_best_k(X_train_scaled, X_test_scaled, y_train, y_test,KNNNormal)"
   ]
  },
  {
   "cell_type": "code",
   "execution_count": 178,
   "id": "ed3fa2ca",
   "metadata": {},
   "outputs": [],
   "source": [
    "KNN2=KNNNormal(k) #our model\n",
    "KNN2.fit(X_train_scaled,y_train)"
   ]
  },
  {
   "cell_type": "code",
   "execution_count": 179,
   "id": "0542824d",
   "metadata": {},
   "outputs": [
    {
     "name": "stdout",
     "output_type": "stream",
     "text": [
      "Accuracy =  0.6966666666666667\n"
     ]
    }
   ],
   "source": [
    "Y1_pred = KNN2.predict(X_test_scaled)\n",
    "print(\"Accuracy = \", accuracy_score(y_test, Y1_pred))\n",
    "accuracy.append(accuracy_score(y_test,Y1_pred))"
   ]
  },
  {
   "cell_type": "markdown",
   "id": "4f817b85",
   "metadata": {},
   "source": [
    "## Teste 5\n",
    "### Distância de Manhattan"
   ]
  },
  {
   "cell_type": "code",
   "execution_count": 180,
   "id": "c7483e0a",
   "metadata": {},
   "outputs": [],
   "source": [
    "k=find_best_k(X_train_scaled, X_test_scaled, y_train, y_test,KNNManhattan)"
   ]
  },
  {
   "cell_type": "code",
   "execution_count": 181,
   "id": "e6263fdd",
   "metadata": {},
   "outputs": [],
   "source": [
    "KNN3=KNNManhattan(k) #our model\n",
    "KNN3.fit(X_train_scaled,y_train)"
   ]
  },
  {
   "cell_type": "code",
   "execution_count": 182,
   "id": "7eab235f",
   "metadata": {},
   "outputs": [
    {
     "name": "stdout",
     "output_type": "stream",
     "text": [
      "Accuracy =  0.72\n"
     ]
    }
   ],
   "source": [
    "Y1_pred = KNN3.predict(X_test_scaled)\n",
    "print(\"Accuracy = \", accuracy_score(y_test, Y1_pred))\n",
    "accuracy.append(accuracy_score(y_test,Y1_pred))"
   ]
  },
  {
   "cell_type": "markdown",
   "id": "576ba717",
   "metadata": {},
   "source": [
    "## Teste 6\n",
    "### Distância de Chebyshev"
   ]
  },
  {
   "cell_type": "code",
   "execution_count": 183,
   "id": "1a0dd164",
   "metadata": {},
   "outputs": [],
   "source": [
    "k=find_best_k(X_train_scaled, X_test_scaled, y_train, y_test,KNNChebyshev)"
   ]
  },
  {
   "cell_type": "code",
   "execution_count": 184,
   "id": "115d8e85",
   "metadata": {},
   "outputs": [],
   "source": [
    "KNN6=KNNChebyshev(k) #our model\n",
    "KNN6.fit(X_train_scaled,y_train)"
   ]
  },
  {
   "cell_type": "code",
   "execution_count": 185,
   "id": "9766dfa1",
   "metadata": {},
   "outputs": [
    {
     "name": "stdout",
     "output_type": "stream",
     "text": [
      "Accuracy =  0.6733333333333333\n"
     ]
    }
   ],
   "source": [
    "Y1_pred = KNN6.predict(X_test_scaled)\n",
    "print(\"Accuracy = \", accuracy_score(y_test, Y1_pred))\n",
    "accuracy.append(accuracy_score(y_test,Y1_pred))"
   ]
  },
  {
   "cell_type": "markdown",
   "id": "4c3896fd",
   "metadata": {},
   "source": [
    "### Análise"
   ]
  },
  {
   "cell_type": "code",
   "execution_count": 186,
   "id": "637a6494",
   "metadata": {},
   "outputs": [
    {
     "data": {
      "image/png": "[encoded data removed]",
      "text/plain": [
       "<Figure size 432x288 with 1 Axes>"
      ]
     },
     "metadata": {
      "needs_background": "light"
     },
     "output_type": "display_data"
    }
   ],
   "source": [
    "plt.plot(accuracy)\n",
    "plt.xlabel(\"Model\")\n",
    "plt.ylabel(\"Accuracy\")\n",
    "plt.title(\"KNN Performance for k=5\")\n",
    "plt.xticks(range(6), ['Hamming','Jaccard','KNN','KNNNormal','KNNManhattan','KNNChebyshev'])\n",
    "plt.show()\n"
   ]
  },
  {
   "cell_type": "markdown",
   "id": "4afed5d1",
   "metadata": {},
   "source": [
    "### Neste caso o dataset tem uma mistura de dados categóricos e numéricos sendo a maioria categóricos multivalor, o que leva a que a métrica de Jaccard seja uma das superiores."
   ]
  }
 ],
 "metadata": {
  "kernelspec": {
   "display_name": "Python 3 (ipykernel)",
   "language": "python",
   "name": "python3"
  },
  "language_info": {
   "codemirror_mode": {
    "name": "ipython",
    "version": 3
   },
   "file_extension": ".py",
   "mimetype": "text/x-python",
   "name": "python",
   "nbconvert_exporter": "python",
   "pygments_lexer": "ipython3",
   "version": "3.10.0"
  }
 },
 "nbformat": 4,
 "nbformat_minor": 5
}
