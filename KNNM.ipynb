{
 "cells": [
  {
   "cell_type": "code",
   "execution_count": 1,
   "id": "929297f1",
   "metadata": {},
   "outputs": [],
   "source": [
    "import pandas as pd\n",
    "import os\n",
    "import numpy as np\n",
    "from sklearn.model_selection import train_test_split\n",
    "import matplotlib.pyplot as plt\n",
    "from sklearn.preprocessing import LabelEncoder\n",
    "from sklearn.metrics import accuracy_score\n",
    "from sklearn.preprocessing import MinMaxScaler\n",
    "import re"
   ]
  },
  {
   "attachments": {},
   "cell_type": "markdown",
   "id": "2d1d15e5",
   "metadata": {},
   "source": [
    "## Criação dos modelos:"
   ]
  },
  {
   "attachments": {},
   "cell_type": "markdown",
   "id": "b61575c5",
   "metadata": {},
   "source": [
    "### Modelo implementado com 5 tipos de distância. A distância padrão, de Hamming, de Jaccard, de Manhattan e de Chebyshev. O algoritmo obtem o resultado de todas as distâncias e retorna o melhor valor obtido. Existem duas distâncias que funcionam mesmo quando os dados contêm strings, Hamming e Jaccard, então, por isso, nós decidimos implementar dentro do algoritmo um Label Encoder para que conseguissemos dar os dados com strings, realizar os testes para essas distâncias e depois usar o Label encoder para colocar tudo em números, podendo assim realizar os testes com as restantes distâncias"
   ]
  },
  {
   "cell_type": "code",
   "execution_count": 2,
   "id": "6dd11874",
   "metadata": {},
   "outputs": [],
   "source": [
    "from math import sqrt\n",
    "import pandas as pd\n",
    "modelos = [\"KNNHamming\",\"KNNJaccard\",\"KNN\",\"KNNManhattan\",\"KNNChebyshev\"]\n",
    "resultado={}\n",
    "\n",
    "\n",
    "class KNN():\n",
    "    def __init__(self, k):\n",
    "        self.k = k\n",
    "    \n",
    "    def fit(self, X_train, y_train):\n",
    "        self.x_train = X_train\n",
    "        self.y_train = y_train\n",
    "        \n",
    "    def distance(self, sample1, sample2,modelo):\n",
    "        if modelo==\"KNN\":\n",
    "            distance = 0.0\n",
    "            for i in range(len(sample1)):\n",
    "                distance += (sample1[i] - sample2[i]) ** 2\n",
    "            return sqrt(distance)\n",
    "        elif modelo==\"KNNManhattan\":\n",
    "            distance = 0.0\n",
    "            for i in range(len(sample1)):\n",
    "                distance += abs(sample1[i] - sample2[i]) \n",
    "            return distance\n",
    "        elif modelo==\"KNNHamming\":\n",
    "            distance = sum(1 for i in range(len(sample1)) if sample1[i] != sample2[i])\n",
    "            return distance\n",
    "        elif modelo==\"KNNJaccard\":\n",
    "            set1 = set(sample1)\n",
    "            set2 = set(sample2)\n",
    "            intersection = len(set1.intersection(set2))\n",
    "            union = len(set1.union(set2))\n",
    "            distance = 1 - (intersection / union)\n",
    "            return distance\n",
    "        elif modelo==\"KNNChebyshev\":\n",
    "            distance = max(abs(x - y) for x, y in zip(sample1, sample2))\n",
    "            return distance\n",
    "        \n",
    "    \n",
    "    def nearest_neighbors(self, test_sample,  modelo):\n",
    "        distances = []\n",
    "        for i in range(len(self.x_train)):\n",
    "            x_train_sample = self.x_train.iloc[i].values\n",
    "            distance = self.distance(x_train_sample, test_sample,modelo)\n",
    "            distances.append((self.y_train[i], distance))\n",
    "        distances.sort(key=lambda x: x[1])\n",
    "        neighbors = []\n",
    "        for i in range(self.k):\n",
    "            neighbors.append(distances[i][0])\n",
    "        return neighbors\n",
    "    \n",
    "    def predict(self, test_set,y_test):\n",
    "        count=0\n",
    "        flag=0\n",
    "        selected_columns=[]\n",
    "        for modelo in modelos:\n",
    "            predictions = []\n",
    "            if count==2:\n",
    "                # Concatenar X_train e X_test\n",
    "                X_combined = pd.concat([self.x_train, test_set], axis=0)\n",
    "                for column in X_combined.columns:\n",
    "                    if X.dtypes[column].name==\"object\":\n",
    "                        flag=1\n",
    "                        selected_columns.append(column)\n",
    "                if flag==1:\n",
    "                    for column in selected_columns:\n",
    "                        le = LabelEncoder()\n",
    "                        X_combined[column] = le.fit_transform(X_combined[column])\n",
    "                    X_train_encoded = X_combined[:len(self.x_train)]\n",
    "                    X_test_encoded = X_combined[len(self.x_train):]\n",
    "                    self.fit(X_train_encoded,self.y_train)\n",
    "                    test_set=X_test_encoded\n",
    "            count+=1\n",
    "            for i in range(len(test_set)):\n",
    "                test_sample = test_set.iloc[i].values\n",
    "                neighbors = self.nearest_neighbors(test_sample,modelo)\n",
    "                labels = [sample for sample in neighbors]\n",
    "                prediction = max(labels, key=labels.count)\n",
    "                predictions.append(prediction)\n",
    "            score=accuracy_score(y_test,predictions)\n",
    "            resultado[modelo]=score\n",
    "        maior_resultado = max(resultado.items(), key=lambda x: x[1])\n",
    "        return maior_resultado[1]"
   ]
  },
  {
   "attachments": {},
   "cell_type": "markdown",
   "id": "2405b25e",
   "metadata": {},
   "source": [
    "### Inciar o MINMAXScaler que vai ser usado no ultimo dataset para colocar todos os valores numéricos com a mesma escala."
   ]
  },
  {
   "cell_type": "code",
   "execution_count": 3,
   "id": "61900661",
   "metadata": {},
   "outputs": [],
   "source": [
    "scaler = MinMaxScaler()"
   ]
  },
  {
   "attachments": {},
   "cell_type": "markdown",
   "id": "aa2cb6a4",
   "metadata": {},
   "source": [
    "### Função para escolher o melhor valor de K em cada algoritmo\n",
    "#### Função que executa o algoritmo várias vezes com valores de k diferentes e adiciona os resultados a uma lista devolvendo no final o k que obteve melhor prestação. K esse que nós vamos usar quando corrermos o algoritmo garantindo assim que para além de usarmos a melhor distância para os dados em questão vamos tambem usar o melhor k dentro do range de K'as que definirmos para testar"
   ]
  },
  {
   "cell_type": "code",
   "execution_count": 4,
   "id": "b4dde8cd",
   "metadata": {},
   "outputs": [],
   "source": [
    "def find_best_k(X_train, X_test, y_train, y_test):\n",
    "    # Testando diferentes valores de K\n",
    "    Ks = [1,2,3,4,5,6,7]\n",
    "    accs = []\n",
    "    for k in Ks:\n",
    "        KNNteste=KNN(k)\n",
    "        KNNteste.fit(X_train,y_train)\n",
    "        a=KNNteste.predict(X_test,y_test)\n",
    "        accs.append(a)\n",
    "    # Encontrando o melhor valor de K\n",
    "    best_k = Ks[accs.index(max(accs))]\n",
    "    return best_k"
   ]
  },
  {
   "attachments": {},
   "cell_type": "markdown",
   "id": "5d85e2f1",
   "metadata": {},
   "source": [
    "## Tratamento dos dados e teste dos modelos.\n",
    "### DATASET 1 - Letras - Dados numéricos "
   ]
  },
  {
   "cell_type": "code",
   "execution_count": 5,
   "id": "ba29c572",
   "metadata": {},
   "outputs": [],
   "source": [
    "dataset = pd.read_csv('letter.csv')"
   ]
  },
  {
   "cell_type": "code",
   "execution_count": 6,
   "id": "c05294b0",
   "metadata": {},
   "outputs": [
    {
     "data": {
      "text/html": [
       "<div>\n",
       "<style scoped>\n",
       "    .dataframe tbody tr th:only-of-type {\n",
       "        vertical-align: middle;\n",
       "    }\n",
       "\n",
       "    .dataframe tbody tr th {\n",
       "        vertical-align: top;\n",
       "    }\n",
       "\n",
       "    .dataframe thead th {\n",
       "        text-align: right;\n",
       "    }\n",
       "</style>\n",
       "<table border=\"1\" class=\"dataframe\">\n",
       "  <thead>\n",
       "    <tr style=\"text-align: right;\">\n",
       "      <th></th>\n",
       "      <th>id</th>\n",
       "      <th>'x-box'</th>\n",
       "      <th>'y-box'</th>\n",
       "      <th>'width'</th>\n",
       "      <th>'high'</th>\n",
       "      <th>'onpix'</th>\n",
       "      <th>'x-bar'</th>\n",
       "      <th>'y-bar'</th>\n",
       "      <th>'x2bar'</th>\n",
       "      <th>'y2bar'</th>\n",
       "      <th>'xybar'</th>\n",
       "      <th>'x2ybr'</th>\n",
       "      <th>'xy2br'</th>\n",
       "      <th>'x-ege'</th>\n",
       "      <th>'xegvy'</th>\n",
       "      <th>'y-ege'</th>\n",
       "      <th>'yegvx'</th>\n",
       "      <th>'class'</th>\n",
       "    </tr>\n",
       "  </thead>\n",
       "  <tbody>\n",
       "    <tr>\n",
       "      <th>0</th>\n",
       "      <td>1</td>\n",
       "      <td>2</td>\n",
       "      <td>4</td>\n",
       "      <td>4</td>\n",
       "      <td>3</td>\n",
       "      <td>2</td>\n",
       "      <td>7</td>\n",
       "      <td>8</td>\n",
       "      <td>2</td>\n",
       "      <td>9</td>\n",
       "      <td>11</td>\n",
       "      <td>7</td>\n",
       "      <td>7</td>\n",
       "      <td>1</td>\n",
       "      <td>8</td>\n",
       "      <td>5</td>\n",
       "      <td>6</td>\n",
       "      <td>Z</td>\n",
       "    </tr>\n",
       "    <tr>\n",
       "      <th>1</th>\n",
       "      <td>2</td>\n",
       "      <td>4</td>\n",
       "      <td>7</td>\n",
       "      <td>5</td>\n",
       "      <td>5</td>\n",
       "      <td>5</td>\n",
       "      <td>5</td>\n",
       "      <td>9</td>\n",
       "      <td>6</td>\n",
       "      <td>4</td>\n",
       "      <td>8</td>\n",
       "      <td>7</td>\n",
       "      <td>9</td>\n",
       "      <td>2</td>\n",
       "      <td>9</td>\n",
       "      <td>7</td>\n",
       "      <td>10</td>\n",
       "      <td>P</td>\n",
       "    </tr>\n",
       "    <tr>\n",
       "      <th>2</th>\n",
       "      <td>3</td>\n",
       "      <td>7</td>\n",
       "      <td>10</td>\n",
       "      <td>8</td>\n",
       "      <td>7</td>\n",
       "      <td>4</td>\n",
       "      <td>8</td>\n",
       "      <td>8</td>\n",
       "      <td>5</td>\n",
       "      <td>10</td>\n",
       "      <td>11</td>\n",
       "      <td>2</td>\n",
       "      <td>8</td>\n",
       "      <td>2</td>\n",
       "      <td>5</td>\n",
       "      <td>5</td>\n",
       "      <td>10</td>\n",
       "      <td>S</td>\n",
       "    </tr>\n",
       "    <tr>\n",
       "      <th>3</th>\n",
       "      <td>4</td>\n",
       "      <td>4</td>\n",
       "      <td>9</td>\n",
       "      <td>5</td>\n",
       "      <td>7</td>\n",
       "      <td>4</td>\n",
       "      <td>7</td>\n",
       "      <td>7</td>\n",
       "      <td>13</td>\n",
       "      <td>1</td>\n",
       "      <td>7</td>\n",
       "      <td>6</td>\n",
       "      <td>8</td>\n",
       "      <td>3</td>\n",
       "      <td>8</td>\n",
       "      <td>0</td>\n",
       "      <td>8</td>\n",
       "      <td>H</td>\n",
       "    </tr>\n",
       "    <tr>\n",
       "      <th>4</th>\n",
       "      <td>5</td>\n",
       "      <td>6</td>\n",
       "      <td>7</td>\n",
       "      <td>8</td>\n",
       "      <td>5</td>\n",
       "      <td>4</td>\n",
       "      <td>7</td>\n",
       "      <td>6</td>\n",
       "      <td>3</td>\n",
       "      <td>7</td>\n",
       "      <td>10</td>\n",
       "      <td>7</td>\n",
       "      <td>9</td>\n",
       "      <td>3</td>\n",
       "      <td>8</td>\n",
       "      <td>3</td>\n",
       "      <td>7</td>\n",
       "      <td>H</td>\n",
       "    </tr>\n",
       "  </tbody>\n",
       "</table>\n",
       "</div>"
      ],
      "text/plain": [
       "   id  'x-box'  'y-box'  'width'  'high'  'onpix'  'x-bar'  'y-bar'  'x2bar'  \\\n",
       "0   1        2        4        4       3        2        7        8        2   \n",
       "1   2        4        7        5       5        5        5        9        6   \n",
       "2   3        7       10        8       7        4        8        8        5   \n",
       "3   4        4        9        5       7        4        7        7       13   \n",
       "4   5        6        7        8       5        4        7        6        3   \n",
       "\n",
       "   'y2bar'  'xybar'  'x2ybr'  'xy2br'  'x-ege'  'xegvy'  'y-ege'  'yegvx'  \\\n",
       "0        9       11        7        7        1        8        5        6   \n",
       "1        4        8        7        9        2        9        7       10   \n",
       "2       10       11        2        8        2        5        5       10   \n",
       "3        1        7        6        8        3        8        0        8   \n",
       "4        7       10        7        9        3        8        3        7   \n",
       "\n",
       "  'class'  \n",
       "0       Z  \n",
       "1       P  \n",
       "2       S  \n",
       "3       H  \n",
       "4       H  "
      ]
     },
     "execution_count": 6,
     "metadata": {},
     "output_type": "execute_result"
    }
   ],
   "source": [
    "dataset.head()"
   ]
  },
  {
   "attachments": {},
   "cell_type": "markdown",
   "id": "183e186d",
   "metadata": {},
   "source": [
    "### Limitamos as entradas a 1000 colunas para diminuir o tempo de execução, podendo isso ser alterado."
   ]
  },
  {
   "cell_type": "code",
   "execution_count": 7,
   "id": "25ba3b35",
   "metadata": {},
   "outputs": [],
   "source": [
    "X = dataset.iloc[1:1000, 1:-1]\n",
    "y = dataset.iloc[1:1000, -1].values\n"
   ]
  },
  {
   "cell_type": "code",
   "execution_count": 8,
   "id": "c88a932f",
   "metadata": {},
   "outputs": [],
   "source": [
    "X_train, X_test, y_train, y_test = train_test_split(X, y, test_size=0.3, random_state=0)\n"
   ]
  },
  {
   "cell_type": "markdown",
   "id": "f259769e",
   "metadata": {},
   "source": [
    "### MODELO"
   ]
  },
  {
   "cell_type": "code",
   "execution_count": 9,
   "id": "e2685980",
   "metadata": {},
   "outputs": [],
   "source": [
    "k=find_best_k(X_train, X_test, y_train, y_test)"
   ]
  },
  {
   "cell_type": "code",
   "execution_count": 10,
   "id": "3b8f52fa",
   "metadata": {},
   "outputs": [
    {
     "data": {
      "text/plain": [
       "0.7466666666666667"
      ]
     },
     "execution_count": 10,
     "metadata": {},
     "output_type": "execute_result"
    }
   ],
   "source": [
    "KNN1=KNN(k) #our model\n",
    "KNN1.fit(X_train,y_train)\n",
    "Score=KNN1.predict(X_test,y_test)\n",
    "Score"
   ]
  },
  {
   "cell_type": "code",
   "execution_count": 11,
   "id": "6b6dbc66",
   "metadata": {},
   "outputs": [
    {
     "data": {
      "image/png": "[encoded data removed]",
      "text/plain": [
       "<Figure size 432x288 with 1 Axes>"
      ]
     },
     "metadata": {
      "needs_background": "light"
     },
     "output_type": "display_data"
    }
   ],
   "source": [
    "resultados_lista = list(resultado.values())\n",
    "plt.plot(resultados_lista)\n",
    "plt.xlabel(\"Modelos\")\n",
    "plt.ylabel(\"Accuracy\")\n",
    "plt.title(\"Comparação dos resultados das diferentes distâncias dentro do KNN\")\n",
    "plt.xticks(range(len(resultados_lista)), modelos, rotation='horizontal')\n",
    "plt.show()"
   ]
  },
  {
   "cell_type": "markdown",
   "id": "15a9e482",
   "metadata": {},
   "source": [
    "### A distância de Hamming é uma medida de distância usada para dados categóricos binários e a distância de Jaccard é usada para dados categóricos multivalor. Essas medidas de distância podem ser úteis para problemas de classificação que envolvem variáveis categóricas.\n",
    "\n",
    "### Como não é este o caso estas duas medidas obtiveram scores piores quando comparadas às outras.\n",
    "\n",
    "### Por outro lado as outras três distâncias consideram as diferenças entre os valores das variáveis em diferentes dimensões, permitindo que o algoritmo KNN identifique vizinhos mais próximos com base nas características numéricas."
   ]
  },
  {
   "cell_type": "markdown",
   "id": "5d81ec10",
   "metadata": {},
   "source": [
    "### Dataset 2 -  Tic Tac Toe - atributos categóricos binomiais"
   ]
  },
  {
   "cell_type": "code",
   "execution_count": 12,
   "id": "6f892bf1",
   "metadata": {},
   "outputs": [],
   "source": [
    "dataset = pd.read_csv('tic-tac-toe.csv')"
   ]
  },
  {
   "cell_type": "code",
   "execution_count": 13,
   "id": "cb48dcd5",
   "metadata": {
    "scrolled": true
   },
   "outputs": [
    {
     "data": {
      "text/html": [
       "<div>\n",
       "<style scoped>\n",
       "    .dataframe tbody tr th:only-of-type {\n",
       "        vertical-align: middle;\n",
       "    }\n",
       "\n",
       "    .dataframe tbody tr th {\n",
       "        vertical-align: top;\n",
       "    }\n",
       "\n",
       "    .dataframe thead th {\n",
       "        text-align: right;\n",
       "    }\n",
       "</style>\n",
       "<table border=\"1\" class=\"dataframe\">\n",
       "  <thead>\n",
       "    <tr style=\"text-align: right;\">\n",
       "      <th></th>\n",
       "      <th>id</th>\n",
       "      <th>'top-left-square'</th>\n",
       "      <th>'top-middle-square'</th>\n",
       "      <th>'top-right-square'</th>\n",
       "      <th>'middle-left-square'</th>\n",
       "      <th>'middle-middle-square'</th>\n",
       "      <th>'middle-right-square'</th>\n",
       "      <th>'bottom-left-square'</th>\n",
       "      <th>'bottom-middle-square'</th>\n",
       "      <th>'bottom-right-square'</th>\n",
       "      <th>'Class'</th>\n",
       "    </tr>\n",
       "  </thead>\n",
       "  <tbody>\n",
       "    <tr>\n",
       "      <th>0</th>\n",
       "      <td>1</td>\n",
       "      <td>x</td>\n",
       "      <td>x</td>\n",
       "      <td>x</td>\n",
       "      <td>x</td>\n",
       "      <td>o</td>\n",
       "      <td>o</td>\n",
       "      <td>x</td>\n",
       "      <td>o</td>\n",
       "      <td>o</td>\n",
       "      <td>positive</td>\n",
       "    </tr>\n",
       "    <tr>\n",
       "      <th>1</th>\n",
       "      <td>2</td>\n",
       "      <td>x</td>\n",
       "      <td>x</td>\n",
       "      <td>x</td>\n",
       "      <td>x</td>\n",
       "      <td>o</td>\n",
       "      <td>o</td>\n",
       "      <td>o</td>\n",
       "      <td>x</td>\n",
       "      <td>o</td>\n",
       "      <td>positive</td>\n",
       "    </tr>\n",
       "    <tr>\n",
       "      <th>2</th>\n",
       "      <td>3</td>\n",
       "      <td>x</td>\n",
       "      <td>x</td>\n",
       "      <td>x</td>\n",
       "      <td>x</td>\n",
       "      <td>o</td>\n",
       "      <td>o</td>\n",
       "      <td>o</td>\n",
       "      <td>o</td>\n",
       "      <td>x</td>\n",
       "      <td>positive</td>\n",
       "    </tr>\n",
       "    <tr>\n",
       "      <th>3</th>\n",
       "      <td>4</td>\n",
       "      <td>x</td>\n",
       "      <td>x</td>\n",
       "      <td>x</td>\n",
       "      <td>x</td>\n",
       "      <td>o</td>\n",
       "      <td>o</td>\n",
       "      <td>o</td>\n",
       "      <td>b</td>\n",
       "      <td>b</td>\n",
       "      <td>positive</td>\n",
       "    </tr>\n",
       "    <tr>\n",
       "      <th>4</th>\n",
       "      <td>5</td>\n",
       "      <td>x</td>\n",
       "      <td>x</td>\n",
       "      <td>x</td>\n",
       "      <td>x</td>\n",
       "      <td>o</td>\n",
       "      <td>o</td>\n",
       "      <td>b</td>\n",
       "      <td>o</td>\n",
       "      <td>b</td>\n",
       "      <td>positive</td>\n",
       "    </tr>\n",
       "  </tbody>\n",
       "</table>\n",
       "</div>"
      ],
      "text/plain": [
       "   id 'top-left-square' 'top-middle-square' 'top-right-square'  \\\n",
       "0   1                 x                   x                  x   \n",
       "1   2                 x                   x                  x   \n",
       "2   3                 x                   x                  x   \n",
       "3   4                 x                   x                  x   \n",
       "4   5                 x                   x                  x   \n",
       "\n",
       "  'middle-left-square' 'middle-middle-square' 'middle-right-square'  \\\n",
       "0                    x                      o                     o   \n",
       "1                    x                      o                     o   \n",
       "2                    x                      o                     o   \n",
       "3                    x                      o                     o   \n",
       "4                    x                      o                     o   \n",
       "\n",
       "  'bottom-left-square' 'bottom-middle-square' 'bottom-right-square'   'Class'  \n",
       "0                    x                      o                     o  positive  \n",
       "1                    o                      x                     o  positive  \n",
       "2                    o                      o                     x  positive  \n",
       "3                    o                      b                     b  positive  \n",
       "4                    b                      o                     b  positive  "
      ]
     },
     "execution_count": 13,
     "metadata": {},
     "output_type": "execute_result"
    }
   ],
   "source": [
    "dataset.head()"
   ]
  },
  {
   "cell_type": "code",
   "execution_count": 14,
   "id": "14622bd1",
   "metadata": {},
   "outputs": [],
   "source": [
    "X = dataset.iloc[:, 1:-1]\n",
    "y = dataset.iloc[:, -1].values"
   ]
  },
  {
   "cell_type": "code",
   "execution_count": 15,
   "id": "d87b281f",
   "metadata": {},
   "outputs": [],
   "source": [
    "X_train, X_test, y_train, y_test = train_test_split(X, y, test_size=0.3, random_state=0)"
   ]
  },
  {
   "cell_type": "markdown",
   "id": "bd70af6c",
   "metadata": {},
   "source": [
    "\n",
    "## Modelo\n"
   ]
  },
  {
   "cell_type": "code",
   "execution_count": 16,
   "id": "03389a59",
   "metadata": {},
   "outputs": [],
   "source": [
    "k=find_best_k(X_train, X_test,y_train, y_test)"
   ]
  },
  {
   "cell_type": "code",
   "execution_count": 17,
   "id": "96ed510f",
   "metadata": {},
   "outputs": [
    {
     "data": {
      "text/plain": [
       "0.9305555555555556"
      ]
     },
     "execution_count": 17,
     "metadata": {},
     "output_type": "execute_result"
    }
   ],
   "source": [
    "KNN2=KNN(k) #our model\n",
    "KNN2.fit(X_train,y_train)\n",
    "Score2=KNN2.predict(X_test,y_test)\n",
    "Score2"
   ]
  },
  {
   "cell_type": "code",
   "execution_count": 18,
   "id": "5f0bfcca",
   "metadata": {},
   "outputs": [
    {
     "data": {
      "image/png": "[encoded data removed]",
      "text/plain": [
       "<Figure size 432x288 with 1 Axes>"
      ]
     },
     "metadata": {
      "needs_background": "light"
     },
     "output_type": "display_data"
    }
   ],
   "source": [
    "resultados_lista = list(resultado.values())\n",
    "plt.plot(resultados_lista)\n",
    "plt.xlabel(\"Modelos\")\n",
    "plt.ylabel(\"Accuracy\")\n",
    "plt.title(\"Comparação dos resultados das diferentes distâncias dentro do KNN\")\n",
    "plt.xticks(range(len(resultados_lista)), modelos, rotation='horizontal')\n",
    "plt.show()"
   ]
  },
  {
   "attachments": {},
   "cell_type": "markdown",
   "id": "a0ded565",
   "metadata": {},
   "source": [
    "### Como se tratam de variáveis categóricas binárias, o Hamming é a melhor métrica para este caso.\n",
    "\n",
    "### Por outro lado a distância de Chebyshev e a de Jaccard obtiveram maus resultados,a primeira porque mede a maior diferença entre os valores correspondentes das variáveis, pressupõe que as variáveis são contínuas e podem variar numa escala numérica. Isso não se aplica a dados categóricos binários, onde os valores estão limitados a duas categorias (0 ou 1). A segunda porque não leva em consideração a frequência relativa dos elementos em cada conjunto. Em dados categóricos binários, onde a frequência dos elementos é importante, a distância de Jaccard pode não capturar as diferenças entre os conjuntos de forma adequada.\n"
   ]
  },
  {
   "cell_type": "markdown",
   "id": "78658024",
   "metadata": {},
   "source": [
    "### Dataset 3 -  risco de créditos  - vários tipos de dados"
   ]
  },
  {
   "cell_type": "code",
   "execution_count": 19,
   "id": "f63ce0eb",
   "metadata": {},
   "outputs": [
    {
     "data": {
      "text/html": [
       "<div>\n",
       "<style scoped>\n",
       "    .dataframe tbody tr th:only-of-type {\n",
       "        vertical-align: middle;\n",
       "    }\n",
       "\n",
       "    .dataframe tbody tr th {\n",
       "        vertical-align: top;\n",
       "    }\n",
       "\n",
       "    .dataframe thead th {\n",
       "        text-align: right;\n",
       "    }\n",
       "</style>\n",
       "<table border=\"1\" class=\"dataframe\">\n",
       "  <thead>\n",
       "    <tr style=\"text-align: right;\">\n",
       "      <th></th>\n",
       "      <th>id</th>\n",
       "      <th>'checking_status'</th>\n",
       "      <th>'duration'</th>\n",
       "      <th>'credit_history'</th>\n",
       "      <th>'purpose'</th>\n",
       "      <th>'credit_amount'</th>\n",
       "      <th>'savings_status'</th>\n",
       "      <th>'employment'</th>\n",
       "      <th>'installment_commitment'</th>\n",
       "      <th>'personal_status'</th>\n",
       "      <th>...</th>\n",
       "      <th>'property_magnitude'</th>\n",
       "      <th>'age'</th>\n",
       "      <th>'other_payment_plans'</th>\n",
       "      <th>'housing'</th>\n",
       "      <th>'existing_credits'</th>\n",
       "      <th>'job'</th>\n",
       "      <th>'num_dependents'</th>\n",
       "      <th>'own_telephone'</th>\n",
       "      <th>'foreign_worker'</th>\n",
       "      <th>'class'</th>\n",
       "    </tr>\n",
       "  </thead>\n",
       "  <tbody>\n",
       "    <tr>\n",
       "      <th>0</th>\n",
       "      <td>1</td>\n",
       "      <td>&lt;0</td>\n",
       "      <td>6</td>\n",
       "      <td>critical/other existing credit</td>\n",
       "      <td>radio/tv</td>\n",
       "      <td>1169</td>\n",
       "      <td>no known savings</td>\n",
       "      <td>&gt;=7</td>\n",
       "      <td>4</td>\n",
       "      <td>male single</td>\n",
       "      <td>...</td>\n",
       "      <td>real estate</td>\n",
       "      <td>67</td>\n",
       "      <td>none</td>\n",
       "      <td>own</td>\n",
       "      <td>2</td>\n",
       "      <td>skilled</td>\n",
       "      <td>1</td>\n",
       "      <td>yes</td>\n",
       "      <td>yes</td>\n",
       "      <td>good</td>\n",
       "    </tr>\n",
       "    <tr>\n",
       "      <th>1</th>\n",
       "      <td>2</td>\n",
       "      <td>0&lt;=X&lt;200</td>\n",
       "      <td>48</td>\n",
       "      <td>existing paid</td>\n",
       "      <td>radio/tv</td>\n",
       "      <td>5951</td>\n",
       "      <td>&lt;100</td>\n",
       "      <td>1&lt;=X&lt;4</td>\n",
       "      <td>2</td>\n",
       "      <td>female div/dep/mar</td>\n",
       "      <td>...</td>\n",
       "      <td>real estate</td>\n",
       "      <td>22</td>\n",
       "      <td>none</td>\n",
       "      <td>own</td>\n",
       "      <td>1</td>\n",
       "      <td>skilled</td>\n",
       "      <td>1</td>\n",
       "      <td>none</td>\n",
       "      <td>yes</td>\n",
       "      <td>bad</td>\n",
       "    </tr>\n",
       "    <tr>\n",
       "      <th>2</th>\n",
       "      <td>3</td>\n",
       "      <td>no checking</td>\n",
       "      <td>12</td>\n",
       "      <td>critical/other existing credit</td>\n",
       "      <td>education</td>\n",
       "      <td>2096</td>\n",
       "      <td>&lt;100</td>\n",
       "      <td>4&lt;=X&lt;7</td>\n",
       "      <td>2</td>\n",
       "      <td>male single</td>\n",
       "      <td>...</td>\n",
       "      <td>real estate</td>\n",
       "      <td>49</td>\n",
       "      <td>none</td>\n",
       "      <td>own</td>\n",
       "      <td>1</td>\n",
       "      <td>unskilled resident</td>\n",
       "      <td>2</td>\n",
       "      <td>none</td>\n",
       "      <td>yes</td>\n",
       "      <td>good</td>\n",
       "    </tr>\n",
       "    <tr>\n",
       "      <th>3</th>\n",
       "      <td>4</td>\n",
       "      <td>&lt;0</td>\n",
       "      <td>42</td>\n",
       "      <td>existing paid</td>\n",
       "      <td>furniture/equipment</td>\n",
       "      <td>7882</td>\n",
       "      <td>&lt;100</td>\n",
       "      <td>4&lt;=X&lt;7</td>\n",
       "      <td>2</td>\n",
       "      <td>male single</td>\n",
       "      <td>...</td>\n",
       "      <td>life insurance</td>\n",
       "      <td>45</td>\n",
       "      <td>none</td>\n",
       "      <td>for free</td>\n",
       "      <td>1</td>\n",
       "      <td>skilled</td>\n",
       "      <td>2</td>\n",
       "      <td>none</td>\n",
       "      <td>yes</td>\n",
       "      <td>good</td>\n",
       "    </tr>\n",
       "    <tr>\n",
       "      <th>4</th>\n",
       "      <td>5</td>\n",
       "      <td>&lt;0</td>\n",
       "      <td>24</td>\n",
       "      <td>delayed previously</td>\n",
       "      <td>new car</td>\n",
       "      <td>4870</td>\n",
       "      <td>&lt;100</td>\n",
       "      <td>1&lt;=X&lt;4</td>\n",
       "      <td>3</td>\n",
       "      <td>male single</td>\n",
       "      <td>...</td>\n",
       "      <td>no known property</td>\n",
       "      <td>53</td>\n",
       "      <td>none</td>\n",
       "      <td>for free</td>\n",
       "      <td>2</td>\n",
       "      <td>skilled</td>\n",
       "      <td>2</td>\n",
       "      <td>none</td>\n",
       "      <td>yes</td>\n",
       "      <td>bad</td>\n",
       "    </tr>\n",
       "  </tbody>\n",
       "</table>\n",
       "<p>5 rows × 22 columns</p>\n",
       "</div>"
      ],
      "text/plain": [
       "   id 'checking_status'  'duration'                'credit_history'  \\\n",
       "0   1                <0           6  critical/other existing credit   \n",
       "1   2          0<=X<200          48                   existing paid   \n",
       "2   3       no checking          12  critical/other existing credit   \n",
       "3   4                <0          42                   existing paid   \n",
       "4   5                <0          24              delayed previously   \n",
       "\n",
       "             'purpose'  'credit_amount'  'savings_status' 'employment'  \\\n",
       "0             radio/tv             1169  no known savings          >=7   \n",
       "1             radio/tv             5951              <100       1<=X<4   \n",
       "2            education             2096              <100       4<=X<7   \n",
       "3  furniture/equipment             7882              <100       4<=X<7   \n",
       "4              new car             4870              <100       1<=X<4   \n",
       "\n",
       "   'installment_commitment'   'personal_status'  ... 'property_magnitude'  \\\n",
       "0                         4         male single  ...          real estate   \n",
       "1                         2  female div/dep/mar  ...          real estate   \n",
       "2                         2         male single  ...          real estate   \n",
       "3                         2         male single  ...       life insurance   \n",
       "4                         3         male single  ...    no known property   \n",
       "\n",
       "   'age' 'other_payment_plans'  'housing' 'existing_credits'  \\\n",
       "0     67                  none        own                  2   \n",
       "1     22                  none        own                  1   \n",
       "2     49                  none        own                  1   \n",
       "3     45                  none   for free                  1   \n",
       "4     53                  none   for free                  2   \n",
       "\n",
       "                'job'  'num_dependents' 'own_telephone'  'foreign_worker'  \\\n",
       "0             skilled                 1             yes               yes   \n",
       "1             skilled                 1            none               yes   \n",
       "2  unskilled resident                 2            none               yes   \n",
       "3             skilled                 2            none               yes   \n",
       "4             skilled                 2            none               yes   \n",
       "\n",
       "  'class'  \n",
       "0    good  \n",
       "1     bad  \n",
       "2    good  \n",
       "3    good  \n",
       "4     bad  \n",
       "\n",
       "[5 rows x 22 columns]"
      ]
     },
     "execution_count": 19,
     "metadata": {},
     "output_type": "execute_result"
    }
   ],
   "source": [
    "dataset = pd.read_csv('csv_result-dataset_31_credit-g.csv')\n",
    "dataset.head()"
   ]
  },
  {
   "cell_type": "code",
   "execution_count": 20,
   "id": "ef28b332",
   "metadata": {},
   "outputs": [],
   "source": [
    "X = dataset.iloc[:, 1:-1]\n",
    "y = dataset.iloc[:, -1].values\n",
    "X_train, X_test, y_train, y_test = train_test_split(X, y, test_size=0.3, random_state=0)"
   ]
  },
  {
   "cell_type": "markdown",
   "id": "ad3af4c1",
   "metadata": {},
   "source": [
    "### MINMAX Scaler para os valores numéricos ficarem todos na mesma escala "
   ]
  },
  {
   "cell_type": "code",
   "execution_count": 21,
   "id": "e250877d",
   "metadata": {},
   "outputs": [],
   "source": [
    "X_train_scaled = X_train.copy()\n",
    "X_test_scaled=X_test.copy()\n",
    "\n",
    "selected_columns = []\n",
    "for column in dataset.columns:\n",
    "    if not column in ['id',\"'checking_status'\", \"'credit_history'\",\n",
    "       \"'purpose'\",  \"'savings_status'\", \"'employment'\",\n",
    "        \"'personal_status'\", \"'other_parties'\",\n",
    "        \"'property_magnitude'\", \n",
    "       \"'other_payment_plans'\", \"'housing'\",  \"'job'\",\n",
    "        \"'own_telephone'\", \"'foreign_worker'\", \"'class'\"]:\n",
    "        selected_columns.append(column)\n",
    "\n",
    "\n",
    "X_train_scaled[selected_columns] = scaler.fit_transform(X_train[selected_columns])\n",
    "\n",
    "X_test_scaled[selected_columns] = scaler.transform(X_test[selected_columns])"
   ]
  },
  {
   "cell_type": "markdown",
   "id": "4273f7a4",
   "metadata": {},
   "source": [
    "## Modelo"
   ]
  },
  {
   "cell_type": "code",
   "execution_count": 22,
   "id": "0316e7f6",
   "metadata": {},
   "outputs": [],
   "source": [
    "k=find_best_k(X_train_scaled, X_test_scaled, y_train, y_test)"
   ]
  },
  {
   "cell_type": "code",
   "execution_count": 23,
   "id": "ed3fa2ca",
   "metadata": {},
   "outputs": [
    {
     "data": {
      "text/plain": [
       "0.7433333333333333"
      ]
     },
     "execution_count": 23,
     "metadata": {},
     "output_type": "execute_result"
    }
   ],
   "source": [
    "KNN2=KNN(k) #our model\n",
    "KNN2.fit(X_train_scaled,y_train)\n",
    "Score3=KNN2.predict(X_test_scaled,y_test)\n",
    "Score3"
   ]
  },
  {
   "cell_type": "code",
   "execution_count": 24,
   "id": "0542824d",
   "metadata": {},
   "outputs": [
    {
     "data": {
      "image/png": "[encoded data removed]",
      "text/plain": [
       "<Figure size 432x288 with 1 Axes>"
      ]
     },
     "metadata": {
      "needs_background": "light"
     },
     "output_type": "display_data"
    }
   ],
   "source": [
    "resultados_lista = list(resultado.values())\n",
    "plt.plot(resultados_lista)\n",
    "plt.xlabel(\"Modelos\")\n",
    "plt.ylabel(\"Accuracy\")\n",
    "plt.title(\"Comparação dos resultados das diferentes distâncias dentro do KNN\")\n",
    "plt.xticks(range(len(resultados_lista)), modelos, rotation='horizontal')\n",
    "plt.show()"
   ]
  },
  {
   "attachments": {},
   "cell_type": "markdown",
   "id": "4afed5d1",
   "metadata": {},
   "source": [
    "### Neste caso o dataset tem uma mistura de dados categóricos e numéricos sendo a maioria categóricos e multivalor, o que leva a que a métrica de Jaccard seja uma das superiores.\n",
    "\n",
    "### Por outro lado a distância euclideana, de Manhattan e de Chebyshev obtiveram maus resultados porque não levam em consideração a estrutura específica dos dados categóricos, como a presença ou ausência de determinadas categorias. Elas são sensíveis apenas às diferenças numéricas entre as variáveis."
   ]
  },
  {
   "attachments": {},
   "cell_type": "markdown",
   "id": "539c9668",
   "metadata": {},
   "source": [
    "## Conclusões"
   ]
  },
  {
   "attachments": {},
   "cell_type": "markdown",
   "id": "2ba5c76c",
   "metadata": {},
   "source": [
    "### Após implementar o algoritmo com as alterações propostas em três conjuntos de dados bastante distintos, verificamos que o método euclidiano de calcular   distâncias (método padrão) teve um bom desempenho não só em dados numéricos, como também em dados categóricos.\n",
    " \n",
    "### Porém, em dois dos três casos, verificamos que o maior valor de precisão não surgiu do método padrão, mas sim de um dos métodos implementados. \n",
    "\n",
    "### Assim, provamos que é uma vantagem utilizar o algoritmo KNN com vários métodos de distância implementados, uma vez que nos permite obter um melhor desempenho.\n",
    "\n"
   ]
  }
 ],
 "metadata": {
  "kernelspec": {
   "display_name": "Python 3 (ipykernel)",
   "language": "python",
   "name": "python3"
  },
  "language_info": {
   "codemirror_mode": {
    "name": "ipython",
    "version": 3
   },
   "file_extension": ".py",
   "mimetype": "text/x-python",
   "name": "python",
   "nbconvert_exporter": "python",
   "pygments_lexer": "ipython3",
   "version": "3.10.11"
  }
 },
 "nbformat": 4,
 "nbformat_minor": 5
}
