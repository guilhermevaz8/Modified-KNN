{
 "cells": [
  {
   "cell_type": "code",
   "execution_count": 2,
   "id": "929297f1",
   "metadata": {},
   "outputs": [],
   "source": [
    "import pandas as pd\n",
    "import os\n",
    "import numpy as np\n",
    "from sklearn.model_selection import train_test_split\n",
    "import matplotlib.pyplot as plt\n",
    "from sklearn.preprocessing import LabelEncoder\n",
    "import seaborn as sns\n",
    "import matplotlib.pyplot as plt\n",
    "from sklearn.model_selection import cross_val_score\n",
    "from sklearn.metrics import accuracy_score\n",
    "from sklearn.preprocessing import MinMaxScaler\n",
    "from sklearn.neighbors import KNeighborsClassifier"
   ]
  },
  {
   "cell_type": "markdown",
   "id": "2d1d15e5",
   "metadata": {},
   "source": [
    "## Criação dos modelos com as diferentes distâncias:"
   ]
  },
  {
   "cell_type": "markdown",
   "id": "b61575c5",
   "metadata": {},
   "source": [
    "### Modelo implementado, sem alteração"
   ]
  },
  {
   "cell_type": "code",
   "execution_count": 3,
   "id": "6dd11874",
   "metadata": {},
   "outputs": [],
   "source": [
    "from math import sqrt\n",
    "import pandas as pd\n",
    "\n",
    "class KNNNormal():\n",
    "    def __init__(self, k):\n",
    "        self.k = k\n",
    "    \n",
    "    def fit(self, X_train, y_train):\n",
    "        self.x_train = X_train\n",
    "        self.y_train = y_train\n",
    "    \n",
    "    def calculate_euclidean(self, sample1, sample2):\n",
    "        distance = 0.0\n",
    "        for i in range(len(sample1)):\n",
    "            distance += (sample1[i] - sample2[i]) ** 2\n",
    "        return sqrt(distance)\n",
    "    \n",
    "    def nearest_neighbors(self, test_sample):\n",
    "        distances = []\n",
    "        for i in range(len(self.x_train)):\n",
    "            x_train_sample = self.x_train.iloc[i].values\n",
    "            distance = self.calculate_euclidean(x_train_sample, test_sample)\n",
    "            distances.append((self.y_train[i], distance))\n",
    "        distances.sort(key=lambda x: x[1])\n",
    "        neighbors = []\n",
    "        for i in range(self.k):\n",
    "            neighbors.append(distances[i][0])\n",
    "        return neighbors\n",
    "    \n",
    "    def predict(self, test_set):\n",
    "        predictions = []\n",
    "        for i in range(len(test_set)):\n",
    "            test_sample = test_set.iloc[i].values\n",
    "            neighbors = self.nearest_neighbors(test_sample)\n",
    "            labels = [sample for sample in neighbors]\n",
    "            prediction = max(labels, key=labels.count)\n",
    "            predictions.append(prediction)\n",
    "        return predictions\n"
   ]
  },
  {
   "cell_type": "markdown",
   "id": "7699750d",
   "metadata": {},
   "source": [
    "### Modelo com distância de Manhattan"
   ]
  },
  {
   "cell_type": "code",
   "execution_count": 4,
   "id": "f689c53a",
   "metadata": {},
   "outputs": [],
   "source": [
    "from math import sqrt\n",
    "class KNNManhattan():\n",
    "  \n",
    "    def calculate_manhattan(self, sample1, sample2):\n",
    "        distance = 0.0\n",
    "        for i in range(len(sample1)):\n",
    "            distance += abs(sample1[i] - sample2[i]) # Manhattan Distance = sum i to N |x1_i – x2_i|\n",
    "        return distance\n",
    "      \n",
    "    def __init__(self, k):\n",
    "        self.k = k\n",
    "    \n",
    "    def fit(self, X_train, y_train):\n",
    "        self.x_train = X_train\n",
    "        self.y_train = y_train\n",
    "    \n",
    "    \n",
    "    def nearest_neighbors(self, test_sample):\n",
    "        distances = []\n",
    "        for i in range(len(self.x_train)):\n",
    "            x_train_sample = self.x_train.iloc[i].values\n",
    "            distance = self.calculate_manhattan(x_train_sample, test_sample)\n",
    "            distances.append((self.y_train[i], distance))\n",
    "        distances.sort(key=lambda x: x[1])\n",
    "        neighbors = []\n",
    "        for i in range(self.k):\n",
    "            neighbors.append(distances[i][0])\n",
    "        return neighbors\n",
    "    \n",
    "    def predict(self, test_set):\n",
    "        predictions = []\n",
    "        for i in range(len(test_set)):\n",
    "            test_sample = test_set.iloc[i].values\n",
    "            neighbors = self.nearest_neighbors(test_sample)\n",
    "            labels = [sample for sample in neighbors]\n",
    "            prediction = max(labels, key=labels.count)\n",
    "            predictions.append(prediction)\n",
    "        return predictions"
   ]
  },
  {
   "cell_type": "markdown",
   "id": "36316947",
   "metadata": {},
   "source": [
    "### Modelo com distância de Hamming"
   ]
  },
  {
   "cell_type": "code",
   "execution_count": 5,
   "id": "4b865ad1",
   "metadata": {},
   "outputs": [],
   "source": [
    "from math import sqrt\n",
    "class KNNHamming():\n",
    "  \n",
    "    def calculate_hamming(self, sample1, sample2):\n",
    "        distance = sum(1 for i in range(len(sample1)) if sample1[i] != sample2[i])\n",
    "        return distance\n",
    "\n",
    "    def __init__(self, k):\n",
    "        self.k = k\n",
    "    \n",
    "    def fit(self, X_train, y_train):\n",
    "        self.x_train = X_train\n",
    "        self.y_train = y_train\n",
    "    \n",
    "    def nearest_neighbors(self, test_sample):\n",
    "        distances = []\n",
    "        for i in range(len(self.x_train)):\n",
    "            x_train_sample = self.x_train.iloc[i].values\n",
    "            distance = self.calculate_hamming(x_train_sample, test_sample)\n",
    "            distances.append((self.y_train[i], distance))\n",
    "        distances.sort(key=lambda x: x[1])\n",
    "        neighbors = []\n",
    "        for i in range(self.k):\n",
    "            neighbors.append(distances[i][0])\n",
    "        return neighbors\n",
    "    \n",
    "    def predict(self, test_set):\n",
    "        predictions = []\n",
    "        for i in range(len(test_set)):\n",
    "            test_sample = test_set.iloc[i].values\n",
    "            neighbors = self.nearest_neighbors(test_sample)\n",
    "            labels = [sample for sample in neighbors]\n",
    "            prediction = max(labels, key=labels.count)\n",
    "            predictions.append(prediction)\n",
    "        return predictions"
   ]
  },
  {
   "cell_type": "markdown",
   "id": "618f073a",
   "metadata": {},
   "source": [
    "### Modelo com distância de jaccard"
   ]
  },
  {
   "cell_type": "code",
   "execution_count": 6,
   "id": "3836c9b5",
   "metadata": {},
   "outputs": [],
   "source": [
    "from math import sqrt\n",
    "class KNNJaccard():\n",
    "  \n",
    "    def calculate_jaccard(self, sample1, sample2):\n",
    "        set1 = set(sample1)\n",
    "        set2 = set(sample2)\n",
    "        intersection = len(set1.intersection(set2))\n",
    "        union = len(set1.union(set2))\n",
    "        distance = 1 - (intersection / union)\n",
    "        return distance\n",
    "\n",
    "    def __init__(self, k):\n",
    "        self.k = k\n",
    "    \n",
    "    def fit(self, X_train, y_train):\n",
    "        self.x_train = X_train\n",
    "        self.y_train = y_train\n",
    "    \n",
    "    def nearest_neighbors(self, test_sample):\n",
    "        distances = []\n",
    "        for i in range(len(self.x_train)):\n",
    "            x_train_sample = self.x_train.iloc[i].values\n",
    "            distance = self.calculate_jaccard(x_train_sample, test_sample)\n",
    "            distances.append((self.y_train[i], distance))\n",
    "        distances.sort(key=lambda x: x[1])\n",
    "        neighbors = []\n",
    "        for i in range(self.k):\n",
    "            neighbors.append(distances[i][0])\n",
    "        return neighbors\n",
    "    \n",
    "    def predict(self, test_set):\n",
    "        predictions = []\n",
    "        for i in range(len(test_set)):\n",
    "            test_sample = test_set.iloc[i].values\n",
    "            neighbors = self.nearest_neighbors(test_sample)\n",
    "            labels = [sample for sample in neighbors]\n",
    "            prediction = max(labels, key=labels.count)\n",
    "            predictions.append(prediction)\n",
    "        return predictions"
   ]
  },
  {
   "cell_type": "markdown",
   "id": "f638d8ea",
   "metadata": {},
   "source": [
    "### Modelo com a distância de Chebyshev"
   ]
  },
  {
   "cell_type": "code",
   "execution_count": 7,
   "id": "c9cb5690",
   "metadata": {},
   "outputs": [],
   "source": [
    "from math import pow\n",
    "\n",
    "class KNNChebyshev():\n",
    "    \n",
    "\n",
    "    def calculate_distance(self, sample1, sample2):\n",
    "        distance = max(abs(x - y) for x, y in zip(sample1, sample2))\n",
    "        return distance\n",
    "    \n",
    "    def __init__(self, k):\n",
    "        self.k = k\n",
    "    \n",
    "    def fit(self, X_train, y_train):\n",
    "        self.x_train = X_train\n",
    "        self.y_train = y_train\n",
    "    \n",
    "    \n",
    "    def nearest_neighbors(self, test_sample):\n",
    "        distances = []\n",
    "        for i in range(len(self.x_train)):\n",
    "            x_train_sample = self.x_train.iloc[i].values\n",
    "            distance = self.calculate_distance(x_train_sample, test_sample)\n",
    "            distances.append((self.y_train[i], distance))\n",
    "        distances.sort(key=lambda x: x[1])\n",
    "        neighbors = []\n",
    "        for i in range(self.k):\n",
    "            neighbors.append(distances[i][0])\n",
    "        return neighbors\n",
    "    \n",
    "    def predict(self, test_set):\n",
    "        predictions = []\n",
    "        for i in range(len(test_set)):\n",
    "            test_sample = test_set.iloc[i].values\n",
    "            neighbors = self.nearest_neighbors(test_sample)\n",
    "            labels = [sample for sample in neighbors]\n",
    "            prediction = max(labels, key=labels.count)\n",
    "            predictions.append(prediction)\n",
    "        return predictions"
   ]
  },
  {
   "cell_type": "code",
   "execution_count": 8,
   "id": "61900661",
   "metadata": {},
   "outputs": [],
   "source": [
    "scaler = MinMaxScaler()"
   ]
  },
  {
   "cell_type": "markdown",
   "id": "aa2cb6a4",
   "metadata": {},
   "source": [
    "### Função para escolher o melhor valor de K em cada algoritmo"
   ]
  },
  {
   "cell_type": "code",
   "execution_count": 9,
   "id": "b4dde8cd",
   "metadata": {},
   "outputs": [],
   "source": [
    "def find_best_k(X_train, X_test, y_train, y_test,modelo):\n",
    "    # Testando diferentes valores de K\n",
    "    Ks = [1,2,3,4,5,6,7]\n",
    "    accs = []\n",
    "    for k in Ks:\n",
    "        if modelo==KNN:\n",
    "            knn = KNeighborsClassifier(n_neighbors=k)\n",
    "            knn.fit(X_train, y_train)\n",
    "            acc = knn.score(X_test, y_test)\n",
    "            accs.append(acc)\n",
    "        elif modelo==KNNNormal:\n",
    "            knn = KNNNormal(k)\n",
    "            knn.fit(X_train, y_train)\n",
    "            Y_pred=knn.predict(X_test)\n",
    "            accs.append(accuracy_score(y_test,Y_pred))\n",
    "        elif modelo==KNNManhattan:\n",
    "            knn = KNNManhattan(k)\n",
    "            knn.fit(X_train, y_train)\n",
    "            Y_pred=knn.predict(X_test)\n",
    "            accs.append(accuracy_score(y_test,Y_pred))\n",
    "        elif modelo==KNNHamming:\n",
    "            knn = KNNHamming(k)\n",
    "            knn.fit(X_train, y_train)\n",
    "            Y_pred=knn.predict(X_test)\n",
    "            accs.append(accuracy_score(y_test,Y_pred))\n",
    "        elif modelo==KNNJaccard:\n",
    "            knn = KNNJaccard(k)\n",
    "            knn.fit(X_train, y_train)\n",
    "            Y_pred=knn.predict(X_test)\n",
    "            accs.append(accuracy_score(y_test,Y_pred))\n",
    "        elif modelo==KNNChebyshev:\n",
    "            knn = KNNChebyshev(k)\n",
    "            knn.fit(X_train, y_train)\n",
    "            Y_pred=knn.predict(X_test)\n",
    "            accs.append(accuracy_score(y_test,Y_pred))\n",
    "    # Encontrando o melhor valor de K\n",
    "    best_k = Ks[accs.index(max(accs))]\n",
    "    return best_k"
   ]
  },
  {
   "cell_type": "markdown",
   "id": "5d85e2f1",
   "metadata": {},
   "source": [
    "## Tratamento dos dados e teste dos modelos.\n",
    "### DATASET 1 - Animais - Dados categóricos em grande maioria"
   ]
  },
  {
   "cell_type": "code",
   "execution_count": 73,
   "id": "ba29c572",
   "metadata": {},
   "outputs": [],
   "source": [
    "dataset = pd.read_csv('adulto.csv')"
   ]
  },
  {
   "cell_type": "code",
   "execution_count": 75,
   "id": "c05294b0",
   "metadata": {},
   "outputs": [
    {
     "data": {
      "text/html": [
       "<div>\n",
       "<style scoped>\n",
       "    .dataframe tbody tr th:only-of-type {\n",
       "        vertical-align: middle;\n",
       "    }\n",
       "\n",
       "    .dataframe tbody tr th {\n",
       "        vertical-align: top;\n",
       "    }\n",
       "\n",
       "    .dataframe thead th {\n",
       "        text-align: right;\n",
       "    }\n",
       "</style>\n",
       "<table border=\"1\" class=\"dataframe\">\n",
       "  <thead>\n",
       "    <tr style=\"text-align: right;\">\n",
       "      <th></th>\n",
       "      <th>id</th>\n",
       "      <th>age</th>\n",
       "      <th>workclass</th>\n",
       "      <th>fnlwgt</th>\n",
       "      <th>education</th>\n",
       "      <th>education-num</th>\n",
       "      <th>marital-status</th>\n",
       "      <th>occupation</th>\n",
       "      <th>relationship</th>\n",
       "      <th>race</th>\n",
       "      <th>sex</th>\n",
       "      <th>capital-gain</th>\n",
       "      <th>capital-loss</th>\n",
       "      <th>hours-per-week</th>\n",
       "      <th>native-country</th>\n",
       "      <th>class</th>\n",
       "    </tr>\n",
       "  </thead>\n",
       "  <tbody>\n",
       "    <tr>\n",
       "      <th>0</th>\n",
       "      <td>1</td>\n",
       "      <td>25</td>\n",
       "      <td>Private</td>\n",
       "      <td>226802</td>\n",
       "      <td>11th</td>\n",
       "      <td>7</td>\n",
       "      <td>Never-married</td>\n",
       "      <td>Machine-op-inspct</td>\n",
       "      <td>Own-child</td>\n",
       "      <td>Black</td>\n",
       "      <td>Male</td>\n",
       "      <td>0</td>\n",
       "      <td>0</td>\n",
       "      <td>40</td>\n",
       "      <td>United-States</td>\n",
       "      <td>&lt;=50K</td>\n",
       "    </tr>\n",
       "    <tr>\n",
       "      <th>1</th>\n",
       "      <td>2</td>\n",
       "      <td>38</td>\n",
       "      <td>Private</td>\n",
       "      <td>89814</td>\n",
       "      <td>HS-grad</td>\n",
       "      <td>9</td>\n",
       "      <td>Married-civ-spouse</td>\n",
       "      <td>Farming-fishing</td>\n",
       "      <td>Husband</td>\n",
       "      <td>White</td>\n",
       "      <td>Male</td>\n",
       "      <td>0</td>\n",
       "      <td>0</td>\n",
       "      <td>50</td>\n",
       "      <td>United-States</td>\n",
       "      <td>&lt;=50K</td>\n",
       "    </tr>\n",
       "    <tr>\n",
       "      <th>2</th>\n",
       "      <td>3</td>\n",
       "      <td>28</td>\n",
       "      <td>Local-gov</td>\n",
       "      <td>336951</td>\n",
       "      <td>Assoc-acdm</td>\n",
       "      <td>12</td>\n",
       "      <td>Married-civ-spouse</td>\n",
       "      <td>Protective-serv</td>\n",
       "      <td>Husband</td>\n",
       "      <td>White</td>\n",
       "      <td>Male</td>\n",
       "      <td>0</td>\n",
       "      <td>0</td>\n",
       "      <td>40</td>\n",
       "      <td>United-States</td>\n",
       "      <td>&gt;50K</td>\n",
       "    </tr>\n",
       "    <tr>\n",
       "      <th>3</th>\n",
       "      <td>4</td>\n",
       "      <td>44</td>\n",
       "      <td>Private</td>\n",
       "      <td>160323</td>\n",
       "      <td>Some-college</td>\n",
       "      <td>10</td>\n",
       "      <td>Married-civ-spouse</td>\n",
       "      <td>Machine-op-inspct</td>\n",
       "      <td>Husband</td>\n",
       "      <td>Black</td>\n",
       "      <td>Male</td>\n",
       "      <td>7688</td>\n",
       "      <td>0</td>\n",
       "      <td>40</td>\n",
       "      <td>United-States</td>\n",
       "      <td>&gt;50K</td>\n",
       "    </tr>\n",
       "    <tr>\n",
       "      <th>4</th>\n",
       "      <td>5</td>\n",
       "      <td>18</td>\n",
       "      <td>?</td>\n",
       "      <td>103497</td>\n",
       "      <td>Some-college</td>\n",
       "      <td>10</td>\n",
       "      <td>Never-married</td>\n",
       "      <td>?</td>\n",
       "      <td>Own-child</td>\n",
       "      <td>White</td>\n",
       "      <td>Female</td>\n",
       "      <td>0</td>\n",
       "      <td>0</td>\n",
       "      <td>30</td>\n",
       "      <td>United-States</td>\n",
       "      <td>&lt;=50K</td>\n",
       "    </tr>\n",
       "  </tbody>\n",
       "</table>\n",
       "</div>"
      ],
      "text/plain": [
       "   id  age  workclass  fnlwgt     education  education-num  \\\n",
       "0   1   25    Private  226802          11th              7   \n",
       "1   2   38    Private   89814       HS-grad              9   \n",
       "2   3   28  Local-gov  336951    Assoc-acdm             12   \n",
       "3   4   44    Private  160323  Some-college             10   \n",
       "4   5   18          ?  103497  Some-college             10   \n",
       "\n",
       "       marital-status         occupation relationship   race     sex  \\\n",
       "0       Never-married  Machine-op-inspct    Own-child  Black    Male   \n",
       "1  Married-civ-spouse    Farming-fishing      Husband  White    Male   \n",
       "2  Married-civ-spouse    Protective-serv      Husband  White    Male   \n",
       "3  Married-civ-spouse  Machine-op-inspct      Husband  Black    Male   \n",
       "4       Never-married                  ?    Own-child  White  Female   \n",
       "\n",
       "   capital-gain  capital-loss  hours-per-week native-country  class  \n",
       "0             0             0              40  United-States  <=50K  \n",
       "1             0             0              50  United-States  <=50K  \n",
       "2             0             0              40  United-States   >50K  \n",
       "3          7688             0              40  United-States   >50K  \n",
       "4             0             0              30  United-States  <=50K  "
      ]
     },
     "execution_count": 75,
     "metadata": {},
     "output_type": "execute_result"
    }
   ],
   "source": [
    "dataset.head()"
   ]
  },
  {
   "cell_type": "code",
   "execution_count": 76,
   "id": "6b9c80da",
   "metadata": {},
   "outputs": [],
   "source": [
    "for column in dataset.columns:\n",
    "    if column in ['workclass',  'education',\n",
    "       'marital-status', 'occupation', 'relationship', 'race', 'sex', 'native-country',\n",
    "       'class']:\n",
    "        le = LabelEncoder()\n",
    "        dataset[column] = le.fit_transform(dataset[column])"
   ]
  },
  {
   "cell_type": "code",
   "execution_count": 77,
   "id": "80a4a82a",
   "metadata": {},
   "outputs": [
    {
     "data": {
      "text/html": [
       "<div>\n",
       "<style scoped>\n",
       "    .dataframe tbody tr th:only-of-type {\n",
       "        vertical-align: middle;\n",
       "    }\n",
       "\n",
       "    .dataframe tbody tr th {\n",
       "        vertical-align: top;\n",
       "    }\n",
       "\n",
       "    .dataframe thead th {\n",
       "        text-align: right;\n",
       "    }\n",
       "</style>\n",
       "<table border=\"1\" class=\"dataframe\">\n",
       "  <thead>\n",
       "    <tr style=\"text-align: right;\">\n",
       "      <th></th>\n",
       "      <th>id</th>\n",
       "      <th>age</th>\n",
       "      <th>workclass</th>\n",
       "      <th>fnlwgt</th>\n",
       "      <th>education</th>\n",
       "      <th>education-num</th>\n",
       "      <th>marital-status</th>\n",
       "      <th>occupation</th>\n",
       "      <th>relationship</th>\n",
       "      <th>race</th>\n",
       "      <th>sex</th>\n",
       "      <th>capital-gain</th>\n",
       "      <th>capital-loss</th>\n",
       "      <th>hours-per-week</th>\n",
       "      <th>native-country</th>\n",
       "      <th>class</th>\n",
       "    </tr>\n",
       "  </thead>\n",
       "  <tbody>\n",
       "    <tr>\n",
       "      <th>0</th>\n",
       "      <td>1</td>\n",
       "      <td>25</td>\n",
       "      <td>3</td>\n",
       "      <td>226802</td>\n",
       "      <td>1</td>\n",
       "      <td>7</td>\n",
       "      <td>4</td>\n",
       "      <td>7</td>\n",
       "      <td>3</td>\n",
       "      <td>2</td>\n",
       "      <td>1</td>\n",
       "      <td>0</td>\n",
       "      <td>0</td>\n",
       "      <td>40</td>\n",
       "      <td>26</td>\n",
       "      <td>0</td>\n",
       "    </tr>\n",
       "    <tr>\n",
       "      <th>1</th>\n",
       "      <td>2</td>\n",
       "      <td>38</td>\n",
       "      <td>3</td>\n",
       "      <td>89814</td>\n",
       "      <td>11</td>\n",
       "      <td>9</td>\n",
       "      <td>2</td>\n",
       "      <td>5</td>\n",
       "      <td>0</td>\n",
       "      <td>4</td>\n",
       "      <td>1</td>\n",
       "      <td>0</td>\n",
       "      <td>0</td>\n",
       "      <td>50</td>\n",
       "      <td>26</td>\n",
       "      <td>0</td>\n",
       "    </tr>\n",
       "    <tr>\n",
       "      <th>2</th>\n",
       "      <td>3</td>\n",
       "      <td>28</td>\n",
       "      <td>2</td>\n",
       "      <td>336951</td>\n",
       "      <td>7</td>\n",
       "      <td>12</td>\n",
       "      <td>2</td>\n",
       "      <td>11</td>\n",
       "      <td>0</td>\n",
       "      <td>4</td>\n",
       "      <td>1</td>\n",
       "      <td>0</td>\n",
       "      <td>0</td>\n",
       "      <td>40</td>\n",
       "      <td>26</td>\n",
       "      <td>1</td>\n",
       "    </tr>\n",
       "    <tr>\n",
       "      <th>3</th>\n",
       "      <td>4</td>\n",
       "      <td>44</td>\n",
       "      <td>3</td>\n",
       "      <td>160323</td>\n",
       "      <td>15</td>\n",
       "      <td>10</td>\n",
       "      <td>2</td>\n",
       "      <td>7</td>\n",
       "      <td>0</td>\n",
       "      <td>2</td>\n",
       "      <td>1</td>\n",
       "      <td>7688</td>\n",
       "      <td>0</td>\n",
       "      <td>40</td>\n",
       "      <td>26</td>\n",
       "      <td>1</td>\n",
       "    </tr>\n",
       "    <tr>\n",
       "      <th>4</th>\n",
       "      <td>5</td>\n",
       "      <td>18</td>\n",
       "      <td>0</td>\n",
       "      <td>103497</td>\n",
       "      <td>15</td>\n",
       "      <td>10</td>\n",
       "      <td>4</td>\n",
       "      <td>0</td>\n",
       "      <td>3</td>\n",
       "      <td>4</td>\n",
       "      <td>0</td>\n",
       "      <td>0</td>\n",
       "      <td>0</td>\n",
       "      <td>30</td>\n",
       "      <td>26</td>\n",
       "      <td>0</td>\n",
       "    </tr>\n",
       "  </tbody>\n",
       "</table>\n",
       "</div>"
      ],
      "text/plain": [
       "   id  age  workclass  fnlwgt  education  education-num  marital-status  \\\n",
       "0   1   25          3  226802          1              7               4   \n",
       "1   2   38          3   89814         11              9               2   \n",
       "2   3   28          2  336951          7             12               2   \n",
       "3   4   44          3  160323         15             10               2   \n",
       "4   5   18          0  103497         15             10               4   \n",
       "\n",
       "   occupation  relationship  race  sex  capital-gain  capital-loss  \\\n",
       "0           7             3     2    1             0             0   \n",
       "1           5             0     4    1             0             0   \n",
       "2          11             0     4    1             0             0   \n",
       "3           7             0     2    1          7688             0   \n",
       "4           0             3     4    0             0             0   \n",
       "\n",
       "   hours-per-week  native-country  class  \n",
       "0              40              26      0  \n",
       "1              50              26      0  \n",
       "2              40              26      1  \n",
       "3              40              26      1  \n",
       "4              30              26      0  "
      ]
     },
     "execution_count": 77,
     "metadata": {},
     "output_type": "execute_result"
    }
   ],
   "source": [
    "dataset.head()"
   ]
  },
  {
   "cell_type": "code",
   "execution_count": 78,
   "id": "25ba3b35",
   "metadata": {},
   "outputs": [],
   "source": [
    "X = dataset.iloc[:, 1:-1]\n",
    "y = dataset.iloc[:, -1].values\n"
   ]
  },
  {
   "cell_type": "code",
   "execution_count": 79,
   "id": "c88a932f",
   "metadata": {},
   "outputs": [],
   "source": [
    "X_train, X_test, y_train, y_test = train_test_split(X, y, test_size=0.3, random_state=0)\n"
   ]
  },
  {
   "cell_type": "code",
   "execution_count": 80,
   "id": "ed907795",
   "metadata": {},
   "outputs": [],
   "source": [
    "\n",
    "# Fazer uma cópia do X_train\n",
    "X_train_scaled = X_train.copy()\n",
    "X_test_scaled=X_test.copy()\n",
    "\n",
    "# Selecionar apenas as colunas desejadas para o MinMaxScaler\n",
    "selected_columns = []\n",
    "for column in dataset.columns:\n",
    "    if not column in ['id','workclass',  'education',\n",
    "       'marital-status', 'occupation', 'relationship', 'race', 'sex', 'native-country',\n",
    "       'class']:\n",
    "        selected_columns.append(column)\n",
    "\n",
    "\n",
    "# Aplicar o MinMaxScaler apenas às colunas selecionadas na cópia do X_train\n",
    "X_train_scaled[selected_columns] = scaler.fit_transform(X_train[selected_columns])\n",
    "\n",
    "# Aplicar o mesmo scaler aos dados de teste selecionados\n",
    "X_test_scaled[selected_columns] = scaler.transform(X_test[selected_columns])\n"
   ]
  },
  {
   "cell_type": "code",
   "execution_count": 81,
   "id": "1e2c023a",
   "metadata": {},
   "outputs": [],
   "source": [
    "accuracy_list = []"
   ]
  },
  {
   "cell_type": "code",
   "execution_count": 82,
   "id": "97c1217d",
   "metadata": {},
   "outputs": [
    {
     "data": {
      "text/plain": [
       "[]"
      ]
     },
     "execution_count": 82,
     "metadata": {},
     "output_type": "execute_result"
    }
   ],
   "source": [
    "accuracy_list"
   ]
  },
  {
   "cell_type": "markdown",
   "id": "b16f4437",
   "metadata": {},
   "source": [
    "## Teste 1\n",
    "### Modelo que obtemos diretamente a partir do sklearn"
   ]
  },
  {
   "cell_type": "code",
   "execution_count": 83,
   "id": "d2c0d9e7",
   "metadata": {},
   "outputs": [],
   "source": [
    "#find_best_k(X_train_scaled, X_test_scaled, y_train, y_test,KNN)"
   ]
  },
  {
   "cell_type": "code",
   "execution_count": 84,
   "id": "3fbfd3a1",
   "metadata": {},
   "outputs": [
    {
     "name": "stdout",
     "output_type": "stream",
     "text": [
      "Accuracy =  0.7933333333333333\n"
     ]
    }
   ],
   "source": [
    "KNN=KNeighborsClassifier(n_neighbors=7)\n",
    "KNN.fit(X_train_scaled,y_train)\n",
    "Y_pred=KNN.predict(X_test_scaled)\n",
    "print(\"Accuracy = \", accuracy_score(y_test,Y_pred))\n",
    "accuracy_list.append(accuracy_score(y_test,Y_pred))"
   ]
  },
  {
   "cell_type": "markdown",
   "id": "82f08b71",
   "metadata": {},
   "source": [
    "## Teste 2\n",
    "### Código do modelo, sem a alteração"
   ]
  },
  {
   "cell_type": "code",
   "execution_count": 85,
   "id": "3f02076e",
   "metadata": {},
   "outputs": [
    {
     "ename": "KeyboardInterrupt",
     "evalue": "",
     "output_type": "error",
     "traceback": [
      "\u001b[1;31m---------------------------------------------------------------------------\u001b[0m",
      "\u001b[1;31mKeyboardInterrupt\u001b[0m                         Traceback (most recent call last)",
      "Input \u001b[1;32mIn [85]\u001b[0m, in \u001b[0;36m<cell line: 1>\u001b[1;34m()\u001b[0m\n\u001b[1;32m----> 1\u001b[0m \u001b[43mfind_best_k\u001b[49m\u001b[43m(\u001b[49m\u001b[43mX_train_scaled\u001b[49m\u001b[43m,\u001b[49m\u001b[43m \u001b[49m\u001b[43mX_test_scaled\u001b[49m\u001b[43m,\u001b[49m\u001b[43m \u001b[49m\u001b[43my_train\u001b[49m\u001b[43m,\u001b[49m\u001b[43m \u001b[49m\u001b[43my_test\u001b[49m\u001b[43m,\u001b[49m\u001b[43mKNNNormal\u001b[49m\u001b[43m)\u001b[49m\n",
      "Input \u001b[1;32mIn [8]\u001b[0m, in \u001b[0;36mfind_best_k\u001b[1;34m(X_train, X_test, y_train, y_test, modelo)\u001b[0m\n\u001b[0;32m     12\u001b[0m     knn \u001b[38;5;241m=\u001b[39m KNNNormal(k)\n\u001b[0;32m     13\u001b[0m     knn\u001b[38;5;241m.\u001b[39mfit(X_train, y_train)\n\u001b[1;32m---> 14\u001b[0m     Y_pred\u001b[38;5;241m=\u001b[39m\u001b[43mknn\u001b[49m\u001b[38;5;241;43m.\u001b[39;49m\u001b[43mpredict\u001b[49m\u001b[43m(\u001b[49m\u001b[43mX_test\u001b[49m\u001b[43m)\u001b[49m\n\u001b[0;32m     15\u001b[0m     accs\u001b[38;5;241m.\u001b[39mappend(accuracy_score(y_test,Y_pred))\n\u001b[0;32m     16\u001b[0m \u001b[38;5;28;01melif\u001b[39;00m modelo\u001b[38;5;241m==\u001b[39mKNNManhattan:\n",
      "Input \u001b[1;32mIn [2]\u001b[0m, in \u001b[0;36mKNNNormal.predict\u001b[1;34m(self, test_set)\u001b[0m\n\u001b[0;32m     32\u001b[0m \u001b[38;5;28;01mfor\u001b[39;00m i \u001b[38;5;129;01min\u001b[39;00m \u001b[38;5;28mrange\u001b[39m(\u001b[38;5;28mlen\u001b[39m(test_set)):\n\u001b[0;32m     33\u001b[0m     test_sample \u001b[38;5;241m=\u001b[39m test_set\u001b[38;5;241m.\u001b[39miloc[i]\u001b[38;5;241m.\u001b[39mvalues\n\u001b[1;32m---> 34\u001b[0m     neighbors \u001b[38;5;241m=\u001b[39m \u001b[38;5;28;43mself\u001b[39;49m\u001b[38;5;241;43m.\u001b[39;49m\u001b[43mnearest_neighbors\u001b[49m\u001b[43m(\u001b[49m\u001b[43mtest_sample\u001b[49m\u001b[43m)\u001b[49m\n\u001b[0;32m     35\u001b[0m     labels \u001b[38;5;241m=\u001b[39m [sample \u001b[38;5;28;01mfor\u001b[39;00m sample \u001b[38;5;129;01min\u001b[39;00m neighbors]\n\u001b[0;32m     36\u001b[0m     prediction \u001b[38;5;241m=\u001b[39m \u001b[38;5;28mmax\u001b[39m(labels, key\u001b[38;5;241m=\u001b[39mlabels\u001b[38;5;241m.\u001b[39mcount)\n",
      "Input \u001b[1;32mIn [2]\u001b[0m, in \u001b[0;36mKNNNormal.nearest_neighbors\u001b[1;34m(self, test_sample)\u001b[0m\n\u001b[0;32m     19\u001b[0m distances \u001b[38;5;241m=\u001b[39m []\n\u001b[0;32m     20\u001b[0m \u001b[38;5;28;01mfor\u001b[39;00m i \u001b[38;5;129;01min\u001b[39;00m \u001b[38;5;28mrange\u001b[39m(\u001b[38;5;28mlen\u001b[39m(\u001b[38;5;28mself\u001b[39m\u001b[38;5;241m.\u001b[39mx_train)):\n\u001b[1;32m---> 21\u001b[0m     x_train_sample \u001b[38;5;241m=\u001b[39m \u001b[38;5;28;43mself\u001b[39;49m\u001b[38;5;241;43m.\u001b[39;49m\u001b[43mx_train\u001b[49m\u001b[38;5;241;43m.\u001b[39;49m\u001b[43miloc\u001b[49m\u001b[43m[\u001b[49m\u001b[43mi\u001b[49m\u001b[43m]\u001b[49m\u001b[38;5;241m.\u001b[39mvalues\n\u001b[0;32m     22\u001b[0m     distance \u001b[38;5;241m=\u001b[39m \u001b[38;5;28mself\u001b[39m\u001b[38;5;241m.\u001b[39mcalculate_euclidean(x_train_sample, test_sample)\n\u001b[0;32m     23\u001b[0m     distances\u001b[38;5;241m.\u001b[39mappend((\u001b[38;5;28mself\u001b[39m\u001b[38;5;241m.\u001b[39my_train[i], distance))\n",
      "File \u001b[1;32m~\\AppData\\Local\\Programs\\Python\\Python310\\lib\\site-packages\\pandas\\core\\indexing.py:967\u001b[0m, in \u001b[0;36m_LocationIndexer.__getitem__\u001b[1;34m(self, key)\u001b[0m\n\u001b[0;32m    964\u001b[0m axis \u001b[38;5;241m=\u001b[39m \u001b[38;5;28mself\u001b[39m\u001b[38;5;241m.\u001b[39maxis \u001b[38;5;129;01mor\u001b[39;00m \u001b[38;5;241m0\u001b[39m\n\u001b[0;32m    966\u001b[0m maybe_callable \u001b[38;5;241m=\u001b[39m com\u001b[38;5;241m.\u001b[39mapply_if_callable(key, \u001b[38;5;28mself\u001b[39m\u001b[38;5;241m.\u001b[39mobj)\n\u001b[1;32m--> 967\u001b[0m \u001b[38;5;28;01mreturn\u001b[39;00m \u001b[38;5;28;43mself\u001b[39;49m\u001b[38;5;241;43m.\u001b[39;49m\u001b[43m_getitem_axis\u001b[49m\u001b[43m(\u001b[49m\u001b[43mmaybe_callable\u001b[49m\u001b[43m,\u001b[49m\u001b[43m \u001b[49m\u001b[43maxis\u001b[49m\u001b[38;5;241;43m=\u001b[39;49m\u001b[43maxis\u001b[49m\u001b[43m)\u001b[49m\n",
      "File \u001b[1;32m~\\AppData\\Local\\Programs\\Python\\Python310\\lib\\site-packages\\pandas\\core\\indexing.py:1522\u001b[0m, in \u001b[0;36m_iLocIndexer._getitem_axis\u001b[1;34m(self, key, axis)\u001b[0m\n\u001b[0;32m   1519\u001b[0m \u001b[38;5;66;03m# validate the location\u001b[39;00m\n\u001b[0;32m   1520\u001b[0m \u001b[38;5;28mself\u001b[39m\u001b[38;5;241m.\u001b[39m_validate_integer(key, axis)\n\u001b[1;32m-> 1522\u001b[0m \u001b[38;5;28;01mreturn\u001b[39;00m \u001b[38;5;28;43mself\u001b[39;49m\u001b[38;5;241;43m.\u001b[39;49m\u001b[43mobj\u001b[49m\u001b[38;5;241;43m.\u001b[39;49m\u001b[43m_ixs\u001b[49m\u001b[43m(\u001b[49m\u001b[43mkey\u001b[49m\u001b[43m,\u001b[49m\u001b[43m \u001b[49m\u001b[43maxis\u001b[49m\u001b[38;5;241;43m=\u001b[39;49m\u001b[43maxis\u001b[49m\u001b[43m)\u001b[49m\n",
      "File \u001b[1;32m~\\AppData\\Local\\Programs\\Python\\Python310\\lib\\site-packages\\pandas\\core\\frame.py:3424\u001b[0m, in \u001b[0;36mDataFrame._ixs\u001b[1;34m(self, i, axis)\u001b[0m\n\u001b[0;32m   3422\u001b[0m \u001b[38;5;66;03m# irow\u001b[39;00m\n\u001b[0;32m   3423\u001b[0m \u001b[38;5;28;01mif\u001b[39;00m axis \u001b[38;5;241m==\u001b[39m \u001b[38;5;241m0\u001b[39m:\n\u001b[1;32m-> 3424\u001b[0m     new_values \u001b[38;5;241m=\u001b[39m \u001b[38;5;28;43mself\u001b[39;49m\u001b[38;5;241;43m.\u001b[39;49m\u001b[43m_mgr\u001b[49m\u001b[38;5;241;43m.\u001b[39;49m\u001b[43mfast_xs\u001b[49m\u001b[43m(\u001b[49m\u001b[43mi\u001b[49m\u001b[43m)\u001b[49m\n\u001b[0;32m   3426\u001b[0m     \u001b[38;5;66;03m# if we are a copy, mark as such\u001b[39;00m\n\u001b[0;32m   3427\u001b[0m     copy \u001b[38;5;241m=\u001b[39m \u001b[38;5;28misinstance\u001b[39m(new_values, np\u001b[38;5;241m.\u001b[39mndarray) \u001b[38;5;129;01mand\u001b[39;00m new_values\u001b[38;5;241m.\u001b[39mbase \u001b[38;5;129;01mis\u001b[39;00m \u001b[38;5;28;01mNone\u001b[39;00m\n",
      "File \u001b[1;32m~\\AppData\\Local\\Programs\\Python\\Python310\\lib\\site-packages\\pandas\\core\\internals\\managers.py:998\u001b[0m, in \u001b[0;36mBlockManager.fast_xs\u001b[1;34m(self, loc)\u001b[0m\n\u001b[0;32m    995\u001b[0m \u001b[38;5;28;01mif\u001b[39;00m \u001b[38;5;28mlen\u001b[39m(\u001b[38;5;28mself\u001b[39m\u001b[38;5;241m.\u001b[39mblocks) \u001b[38;5;241m==\u001b[39m \u001b[38;5;241m1\u001b[39m:\n\u001b[0;32m    996\u001b[0m     \u001b[38;5;28;01mreturn\u001b[39;00m \u001b[38;5;28mself\u001b[39m\u001b[38;5;241m.\u001b[39mblocks[\u001b[38;5;241m0\u001b[39m]\u001b[38;5;241m.\u001b[39miget((\u001b[38;5;28mslice\u001b[39m(\u001b[38;5;28;01mNone\u001b[39;00m), loc))\n\u001b[1;32m--> 998\u001b[0m dtype \u001b[38;5;241m=\u001b[39m \u001b[43minterleaved_dtype\u001b[49m\u001b[43m(\u001b[49m\u001b[43m[\u001b[49m\u001b[43mblk\u001b[49m\u001b[38;5;241;43m.\u001b[39;49m\u001b[43mdtype\u001b[49m\u001b[43m \u001b[49m\u001b[38;5;28;43;01mfor\u001b[39;49;00m\u001b[43m \u001b[49m\u001b[43mblk\u001b[49m\u001b[43m \u001b[49m\u001b[38;5;129;43;01min\u001b[39;49;00m\u001b[43m \u001b[49m\u001b[38;5;28;43mself\u001b[39;49m\u001b[38;5;241;43m.\u001b[39;49m\u001b[43mblocks\u001b[49m\u001b[43m]\u001b[49m\u001b[43m)\u001b[49m\n\u001b[0;32m   1000\u001b[0m n \u001b[38;5;241m=\u001b[39m \u001b[38;5;28mlen\u001b[39m(\u001b[38;5;28mself\u001b[39m)\n\u001b[0;32m   1001\u001b[0m \u001b[38;5;28;01mif\u001b[39;00m \u001b[38;5;28misinstance\u001b[39m(dtype, ExtensionDtype):\n",
      "File \u001b[1;32m~\\AppData\\Local\\Programs\\Python\\Python310\\lib\\site-packages\\pandas\\core\\internals\\base.py:226\u001b[0m, in \u001b[0;36minterleaved_dtype\u001b[1;34m(dtypes)\u001b[0m\n\u001b[0;32m    223\u001b[0m \u001b[38;5;28;01mif\u001b[39;00m \u001b[38;5;129;01mnot\u001b[39;00m \u001b[38;5;28mlen\u001b[39m(dtypes):\n\u001b[0;32m    224\u001b[0m     \u001b[38;5;28;01mreturn\u001b[39;00m \u001b[38;5;28;01mNone\u001b[39;00m\n\u001b[1;32m--> 226\u001b[0m \u001b[38;5;28;01mreturn\u001b[39;00m \u001b[43mfind_common_type\u001b[49m\u001b[43m(\u001b[49m\u001b[43mdtypes\u001b[49m\u001b[43m)\u001b[49m\n",
      "File \u001b[1;32m~\\AppData\\Local\\Programs\\Python\\Python310\\lib\\site-packages\\pandas\\core\\dtypes\\cast.py:1841\u001b[0m, in \u001b[0;36mfind_common_type\u001b[1;34m(types)\u001b[0m\n\u001b[0;32m   1838\u001b[0m         \u001b[38;5;28;01mif\u001b[39;00m is_integer_dtype(t) \u001b[38;5;129;01mor\u001b[39;00m is_float_dtype(t) \u001b[38;5;129;01mor\u001b[39;00m is_complex_dtype(t):\n\u001b[0;32m   1839\u001b[0m             \u001b[38;5;28;01mreturn\u001b[39;00m np\u001b[38;5;241m.\u001b[39mdtype(\u001b[38;5;124m\"\u001b[39m\u001b[38;5;124mobject\u001b[39m\u001b[38;5;124m\"\u001b[39m)\n\u001b[1;32m-> 1841\u001b[0m \u001b[38;5;28;01mreturn\u001b[39;00m \u001b[43mnp\u001b[49m\u001b[38;5;241;43m.\u001b[39;49m\u001b[43mfind_common_type\u001b[49m\u001b[43m(\u001b[49m\u001b[43mtypes\u001b[49m\u001b[43m,\u001b[49m\u001b[43m \u001b[49m\u001b[43m[\u001b[49m\u001b[43m]\u001b[49m\u001b[43m)\u001b[49m\n",
      "File \u001b[1;32m~\\AppData\\Local\\Programs\\Python\\Python310\\lib\\site-packages\\numpy\\core\\numerictypes.py:650\u001b[0m, in \u001b[0;36mfind_common_type\u001b[1;34m(array_types, scalar_types)\u001b[0m\n\u001b[0;32m    599\u001b[0m \u001b[38;5;124;03m\"\"\"\u001b[39;00m\n\u001b[0;32m    600\u001b[0m \u001b[38;5;124;03mDetermine common type following standard coercion rules.\u001b[39;00m\n\u001b[0;32m    601\u001b[0m \n\u001b[1;32m   (...)\u001b[0m\n\u001b[0;32m    647\u001b[0m \n\u001b[0;32m    648\u001b[0m \u001b[38;5;124;03m\"\"\"\u001b[39;00m\n\u001b[0;32m    649\u001b[0m array_types \u001b[38;5;241m=\u001b[39m [dtype(x) \u001b[38;5;28;01mfor\u001b[39;00m x \u001b[38;5;129;01min\u001b[39;00m array_types]\n\u001b[1;32m--> 650\u001b[0m scalar_types \u001b[38;5;241m=\u001b[39m [dtype(x) \u001b[38;5;28;01mfor\u001b[39;00m x \u001b[38;5;129;01min\u001b[39;00m scalar_types]\n\u001b[0;32m    652\u001b[0m maxa \u001b[38;5;241m=\u001b[39m _can_coerce_all(array_types)\n\u001b[0;32m    653\u001b[0m maxsc \u001b[38;5;241m=\u001b[39m _can_coerce_all(scalar_types)\n",
      "File \u001b[1;32m~\\AppData\\Local\\Programs\\Python\\Python310\\lib\\site-packages\\numpy\\core\\numerictypes.py:650\u001b[0m, in \u001b[0;36m<listcomp>\u001b[1;34m(.0)\u001b[0m\n\u001b[0;32m    599\u001b[0m \u001b[38;5;124;03m\"\"\"\u001b[39;00m\n\u001b[0;32m    600\u001b[0m \u001b[38;5;124;03mDetermine common type following standard coercion rules.\u001b[39;00m\n\u001b[0;32m    601\u001b[0m \n\u001b[1;32m   (...)\u001b[0m\n\u001b[0;32m    647\u001b[0m \n\u001b[0;32m    648\u001b[0m \u001b[38;5;124;03m\"\"\"\u001b[39;00m\n\u001b[0;32m    649\u001b[0m array_types \u001b[38;5;241m=\u001b[39m [dtype(x) \u001b[38;5;28;01mfor\u001b[39;00m x \u001b[38;5;129;01min\u001b[39;00m array_types]\n\u001b[1;32m--> 650\u001b[0m scalar_types \u001b[38;5;241m=\u001b[39m [dtype(x) \u001b[38;5;28;01mfor\u001b[39;00m x \u001b[38;5;129;01min\u001b[39;00m scalar_types]\n\u001b[0;32m    652\u001b[0m maxa \u001b[38;5;241m=\u001b[39m _can_coerce_all(array_types)\n\u001b[0;32m    653\u001b[0m maxsc \u001b[38;5;241m=\u001b[39m _can_coerce_all(scalar_types)\n",
      "\u001b[1;31mKeyboardInterrupt\u001b[0m: "
     ]
    }
   ],
   "source": [
    "#find_best_k(X_train_scaled, X_test_scaled, y_train, y_test,KNNNormal)"
   ]
  },
  {
   "cell_type": "code",
   "execution_count": 21,
   "id": "3b8f52fa",
   "metadata": {},
   "outputs": [],
   "source": [
    "KNN2=KNNNormal(7) #our model\n",
    "KNN2.fit(X_train_scaled,y_train)"
   ]
  },
  {
   "cell_type": "code",
   "execution_count": 22,
   "id": "b988cbf9",
   "metadata": {},
   "outputs": [
    {
     "name": "stdout",
     "output_type": "stream",
     "text": [
      "Accuracy =  0.7933333333333333\n"
     ]
    }
   ],
   "source": [
    "KNN2.fit(X_train_scaled,y_train)\n",
    "Y_pred=KNN2.predict(X_test_scaled)\n",
    "print(\"Accuracy = \", accuracy_score(y_test,Y_pred))\n",
    "accuracy_list.append(accuracy_score(y_test,Y_pred))"
   ]
  },
  {
   "cell_type": "markdown",
   "id": "20190475",
   "metadata": {},
   "source": [
    "## Teste 3\n",
    "### Distância de Manhattan"
   ]
  },
  {
   "cell_type": "code",
   "execution_count": 23,
   "id": "7d8137ca",
   "metadata": {},
   "outputs": [],
   "source": [
    "#find_best_k(X_train_scaled, X_test_scaled, y_train, y_test,KNNManhattan)"
   ]
  },
  {
   "cell_type": "code",
   "execution_count": 24,
   "id": "fba6f017",
   "metadata": {},
   "outputs": [],
   "source": [
    "KNN3=KNNManhattan(7) #our model\n",
    "KNN3.fit(X_train_scaled,y_train)"
   ]
  },
  {
   "cell_type": "code",
   "execution_count": 25,
   "id": "1197b6a0",
   "metadata": {},
   "outputs": [
    {
     "name": "stdout",
     "output_type": "stream",
     "text": [
      "Accuracy =  0.8033333333333333\n"
     ]
    }
   ],
   "source": [
    "KNN3.fit(X_train_scaled,y_train)\n",
    "Y_pred=KNN3.predict(X_test_scaled)\n",
    "print(\"Accuracy = \", accuracy_score(y_test,Y_pred))\n",
    "accuracy_list.append(accuracy_score(y_test,Y_pred))"
   ]
  },
  {
   "cell_type": "markdown",
   "id": "62c7c33c",
   "metadata": {},
   "source": [
    "## Teste 4\n",
    "### Distância de Hamming - Neste teste foi a melhor porque se tratam de dados categóricos e esta distância tem em conta esses dados ao medir a quantidade o numero de caracteristicas categóricas em que os pontos diferem."
   ]
  },
  {
   "cell_type": "code",
   "execution_count": 26,
   "id": "753110ea",
   "metadata": {},
   "outputs": [],
   "source": [
    "#find_best_k(X_train_scaled, X_test_scaled, y_train, y_test,KNNHamming)"
   ]
  },
  {
   "cell_type": "code",
   "execution_count": 27,
   "id": "9db702c9",
   "metadata": {},
   "outputs": [],
   "source": [
    "KNN4=KNNHamming(4) #our model\n",
    "KNN4.fit(X_train_scaled,y_train)"
   ]
  },
  {
   "cell_type": "code",
   "execution_count": 28,
   "id": "4f824780",
   "metadata": {},
   "outputs": [
    {
     "name": "stdout",
     "output_type": "stream",
     "text": [
      "Accuracy =  0.8133333333333334\n"
     ]
    }
   ],
   "source": [
    "KNN4.fit(X_train_scaled,y_train)\n",
    "Y_pred=KNN4.predict(X_test_scaled)\n",
    "print(\"Accuracy = \", accuracy_score(y_test,Y_pred))\n",
    "accuracy_list.append(accuracy_score(y_test,Y_pred))"
   ]
  },
  {
   "cell_type": "markdown",
   "id": "255403f6",
   "metadata": {},
   "source": [
    "## Teste 5\n",
    "### Distância de Jaccard "
   ]
  },
  {
   "cell_type": "code",
   "execution_count": 29,
   "id": "85bbd8aa",
   "metadata": {},
   "outputs": [],
   "source": [
    "#find_best_k(X_train_scaled, X_test_scaled, y_train, y_test,KNNJaccard)"
   ]
  },
  {
   "cell_type": "code",
   "execution_count": 30,
   "id": "0358abb4",
   "metadata": {},
   "outputs": [],
   "source": [
    "KNN5=KNNJaccard(7) #our model\n",
    "KNN5.fit(X_train_scaled,y_train)"
   ]
  },
  {
   "cell_type": "code",
   "execution_count": 31,
   "id": "594d827b",
   "metadata": {},
   "outputs": [
    {
     "name": "stdout",
     "output_type": "stream",
     "text": [
      "Accuracy =  0.7833333333333333\n"
     ]
    }
   ],
   "source": [
    "KNN5.fit(X_train_scaled,y_train)\n",
    "Y_pred=KNN5.predict(X_test_scaled)\n",
    "print(\"Accuracy = \", accuracy_score(y_test,Y_pred))\n",
    "accuracy_list.append(accuracy_score(y_test,Y_pred))"
   ]
  },
  {
   "cell_type": "markdown",
   "id": "7ba1e5f4",
   "metadata": {},
   "source": [
    "## Teste 6\n",
    "### Distância de Chebyshev"
   ]
  },
  {
   "cell_type": "code",
   "execution_count": 32,
   "id": "e794127f",
   "metadata": {},
   "outputs": [],
   "source": [
    "#find_best_k(X_train_scaled, X_test_scaled, y_train, y_test,KNNChebyshev)"
   ]
  },
  {
   "cell_type": "code",
   "execution_count": 33,
   "id": "ab274f6e",
   "metadata": {},
   "outputs": [],
   "source": [
    "KNN6=KNNChebyshev(3) #our model\n",
    "KNN6.fit(X_train_scaled,y_train)"
   ]
  },
  {
   "cell_type": "code",
   "execution_count": 34,
   "id": "48d88778",
   "metadata": {},
   "outputs": [
    {
     "name": "stdout",
     "output_type": "stream",
     "text": [
      "Accuracy =  0.7666666666666667\n"
     ]
    }
   ],
   "source": [
    "KNN6.fit(X_train_scaled,y_train)\n",
    "Y_pred=KNN6.predict(X_test_scaled)\n",
    "print(\"Accuracy = \", accuracy_score(y_test,Y_pred))\n",
    "accuracy_list.append(accuracy_score(y_test,Y_pred))"
   ]
  },
  {
   "cell_type": "markdown",
   "id": "8a042595",
   "metadata": {},
   "source": [
    "### Análise"
   ]
  },
  {
   "cell_type": "code",
   "execution_count": 35,
   "id": "4250f6ff",
   "metadata": {},
   "outputs": [
    {
     "data": {
      "image/png": "[encoded data removed]",
      "text/plain": [
       "<Figure size 432x288 with 1 Axes>"
      ]
     },
     "metadata": {
      "needs_background": "light"
     },
     "output_type": "display_data"
    }
   ],
   "source": [
    "plt.plot(accuracy_list)\n",
    "plt.xlabel(\"Model\")\n",
    "plt.ylabel(\"Accuracy\")\n",
    "plt.title(\"KNN Performance for k=5\")\n",
    "plt.xticks(range(6), ['KNN','KNNNormal','KNNManhattan','KNNHamming','KNNJaccard','KNNChebyshev'])\n",
    "plt.show()\n"
   ]
  },
  {
   "cell_type": "markdown",
   "id": "15a9e482",
   "metadata": {},
   "source": [
    "### Neste dataset, todos as medidas tiveram scores similares, com exceção para Hamming que se destacou. Uma possivel justificação para isso é o facto de esta distância transformar as strings de texto em vetores binários, onde cada bit representa a presença ou ausência de uma determinada categoria.\n",
    "\n",
    "### O KNN com Hamming distance é capaz de lidar com recursos categóricos de forma mais eficiente do que outras medidas de distância, que são baseadas em valores numéricos. Isso ocorre porque as medidas de distância baseadas em valores numéricos podem levar a resultados imprecisos ou irrelevantes quando aplicadas a dados categóricos. Além disso a medida de Hamming  também é capaz de lidar com dados categóricos pouco equilibrados, onde algumas categorias podem ter uma frequência muito baixa, porque considera apenas a presença ou ausência de uma categoria, em vez de seu valor numérico, sendo menos afetado pelo desequilíbrio na frequência das categorias."
   ]
  },
  {
   "cell_type": "markdown",
   "id": "5d81ec10",
   "metadata": {},
   "source": [
    "### Dataset 2 -  Prever letras - atributos todos numéricos e com medidas"
   ]
  },
  {
   "cell_type": "code",
   "execution_count": 86,
   "id": "6f892bf1",
   "metadata": {},
   "outputs": [],
   "source": [
    "dataset = pd.read_csv('letter.csv')"
   ]
  },
  {
   "cell_type": "code",
   "execution_count": 87,
   "id": "cb48dcd5",
   "metadata": {},
   "outputs": [
    {
     "data": {
      "text/html": [
       "<div>\n",
       "<style scoped>\n",
       "    .dataframe tbody tr th:only-of-type {\n",
       "        vertical-align: middle;\n",
       "    }\n",
       "\n",
       "    .dataframe tbody tr th {\n",
       "        vertical-align: top;\n",
       "    }\n",
       "\n",
       "    .dataframe thead th {\n",
       "        text-align: right;\n",
       "    }\n",
       "</style>\n",
       "<table border=\"1\" class=\"dataframe\">\n",
       "  <thead>\n",
       "    <tr style=\"text-align: right;\">\n",
       "      <th></th>\n",
       "      <th>id</th>\n",
       "      <th>'x-box'</th>\n",
       "      <th>'y-box'</th>\n",
       "      <th>'width'</th>\n",
       "      <th>'high'</th>\n",
       "      <th>'onpix'</th>\n",
       "      <th>'x-bar'</th>\n",
       "      <th>'y-bar'</th>\n",
       "      <th>'x2bar'</th>\n",
       "      <th>'y2bar'</th>\n",
       "      <th>'xybar'</th>\n",
       "      <th>'x2ybr'</th>\n",
       "      <th>'xy2br'</th>\n",
       "      <th>'x-ege'</th>\n",
       "      <th>'xegvy'</th>\n",
       "      <th>'y-ege'</th>\n",
       "      <th>'yegvx'</th>\n",
       "      <th>'class'</th>\n",
       "    </tr>\n",
       "  </thead>\n",
       "  <tbody>\n",
       "    <tr>\n",
       "      <th>0</th>\n",
       "      <td>1</td>\n",
       "      <td>2</td>\n",
       "      <td>4</td>\n",
       "      <td>4</td>\n",
       "      <td>3</td>\n",
       "      <td>2</td>\n",
       "      <td>7</td>\n",
       "      <td>8</td>\n",
       "      <td>2</td>\n",
       "      <td>9</td>\n",
       "      <td>11</td>\n",
       "      <td>7</td>\n",
       "      <td>7</td>\n",
       "      <td>1</td>\n",
       "      <td>8</td>\n",
       "      <td>5</td>\n",
       "      <td>6</td>\n",
       "      <td>Z</td>\n",
       "    </tr>\n",
       "    <tr>\n",
       "      <th>1</th>\n",
       "      <td>2</td>\n",
       "      <td>4</td>\n",
       "      <td>7</td>\n",
       "      <td>5</td>\n",
       "      <td>5</td>\n",
       "      <td>5</td>\n",
       "      <td>5</td>\n",
       "      <td>9</td>\n",
       "      <td>6</td>\n",
       "      <td>4</td>\n",
       "      <td>8</td>\n",
       "      <td>7</td>\n",
       "      <td>9</td>\n",
       "      <td>2</td>\n",
       "      <td>9</td>\n",
       "      <td>7</td>\n",
       "      <td>10</td>\n",
       "      <td>P</td>\n",
       "    </tr>\n",
       "    <tr>\n",
       "      <th>2</th>\n",
       "      <td>3</td>\n",
       "      <td>7</td>\n",
       "      <td>10</td>\n",
       "      <td>8</td>\n",
       "      <td>7</td>\n",
       "      <td>4</td>\n",
       "      <td>8</td>\n",
       "      <td>8</td>\n",
       "      <td>5</td>\n",
       "      <td>10</td>\n",
       "      <td>11</td>\n",
       "      <td>2</td>\n",
       "      <td>8</td>\n",
       "      <td>2</td>\n",
       "      <td>5</td>\n",
       "      <td>5</td>\n",
       "      <td>10</td>\n",
       "      <td>S</td>\n",
       "    </tr>\n",
       "    <tr>\n",
       "      <th>3</th>\n",
       "      <td>4</td>\n",
       "      <td>4</td>\n",
       "      <td>9</td>\n",
       "      <td>5</td>\n",
       "      <td>7</td>\n",
       "      <td>4</td>\n",
       "      <td>7</td>\n",
       "      <td>7</td>\n",
       "      <td>13</td>\n",
       "      <td>1</td>\n",
       "      <td>7</td>\n",
       "      <td>6</td>\n",
       "      <td>8</td>\n",
       "      <td>3</td>\n",
       "      <td>8</td>\n",
       "      <td>0</td>\n",
       "      <td>8</td>\n",
       "      <td>H</td>\n",
       "    </tr>\n",
       "    <tr>\n",
       "      <th>4</th>\n",
       "      <td>5</td>\n",
       "      <td>6</td>\n",
       "      <td>7</td>\n",
       "      <td>8</td>\n",
       "      <td>5</td>\n",
       "      <td>4</td>\n",
       "      <td>7</td>\n",
       "      <td>6</td>\n",
       "      <td>3</td>\n",
       "      <td>7</td>\n",
       "      <td>10</td>\n",
       "      <td>7</td>\n",
       "      <td>9</td>\n",
       "      <td>3</td>\n",
       "      <td>8</td>\n",
       "      <td>3</td>\n",
       "      <td>7</td>\n",
       "      <td>H</td>\n",
       "    </tr>\n",
       "  </tbody>\n",
       "</table>\n",
       "</div>"
      ],
      "text/plain": [
       "   id  'x-box'  'y-box'  'width'  'high'  'onpix'  'x-bar'  'y-bar'  'x2bar'  \\\n",
       "0   1        2        4        4       3        2        7        8        2   \n",
       "1   2        4        7        5       5        5        5        9        6   \n",
       "2   3        7       10        8       7        4        8        8        5   \n",
       "3   4        4        9        5       7        4        7        7       13   \n",
       "4   5        6        7        8       5        4        7        6        3   \n",
       "\n",
       "   'y2bar'  'xybar'  'x2ybr'  'xy2br'  'x-ege'  'xegvy'  'y-ege'  'yegvx'  \\\n",
       "0        9       11        7        7        1        8        5        6   \n",
       "1        4        8        7        9        2        9        7       10   \n",
       "2       10       11        2        8        2        5        5       10   \n",
       "3        1        7        6        8        3        8        0        8   \n",
       "4        7       10        7        9        3        8        3        7   \n",
       "\n",
       "  'class'  \n",
       "0       Z  \n",
       "1       P  \n",
       "2       S  \n",
       "3       H  \n",
       "4       H  "
      ]
     },
     "execution_count": 87,
     "metadata": {},
     "output_type": "execute_result"
    }
   ],
   "source": [
    "dataset.head()"
   ]
  },
  {
   "cell_type": "code",
   "execution_count": 88,
   "id": "d081beeb",
   "metadata": {},
   "outputs": [],
   "source": [
    "for column in [\n",
    "       \"'class'\"]:\n",
    "    le = LabelEncoder()\n",
    "    dataset[column] = le.fit_transform(dataset[column])"
   ]
  },
  {
   "cell_type": "code",
   "execution_count": 89,
   "id": "3ac8078c",
   "metadata": {},
   "outputs": [
    {
     "data": {
      "text/html": [
       "<div>\n",
       "<style scoped>\n",
       "    .dataframe tbody tr th:only-of-type {\n",
       "        vertical-align: middle;\n",
       "    }\n",
       "\n",
       "    .dataframe tbody tr th {\n",
       "        vertical-align: top;\n",
       "    }\n",
       "\n",
       "    .dataframe thead th {\n",
       "        text-align: right;\n",
       "    }\n",
       "</style>\n",
       "<table border=\"1\" class=\"dataframe\">\n",
       "  <thead>\n",
       "    <tr style=\"text-align: right;\">\n",
       "      <th></th>\n",
       "      <th>id</th>\n",
       "      <th>'x-box'</th>\n",
       "      <th>'y-box'</th>\n",
       "      <th>'width'</th>\n",
       "      <th>'high'</th>\n",
       "      <th>'onpix'</th>\n",
       "      <th>'x-bar'</th>\n",
       "      <th>'y-bar'</th>\n",
       "      <th>'x2bar'</th>\n",
       "      <th>'y2bar'</th>\n",
       "      <th>'xybar'</th>\n",
       "      <th>'x2ybr'</th>\n",
       "      <th>'xy2br'</th>\n",
       "      <th>'x-ege'</th>\n",
       "      <th>'xegvy'</th>\n",
       "      <th>'y-ege'</th>\n",
       "      <th>'yegvx'</th>\n",
       "      <th>'class'</th>\n",
       "    </tr>\n",
       "  </thead>\n",
       "  <tbody>\n",
       "    <tr>\n",
       "      <th>0</th>\n",
       "      <td>1</td>\n",
       "      <td>2</td>\n",
       "      <td>4</td>\n",
       "      <td>4</td>\n",
       "      <td>3</td>\n",
       "      <td>2</td>\n",
       "      <td>7</td>\n",
       "      <td>8</td>\n",
       "      <td>2</td>\n",
       "      <td>9</td>\n",
       "      <td>11</td>\n",
       "      <td>7</td>\n",
       "      <td>7</td>\n",
       "      <td>1</td>\n",
       "      <td>8</td>\n",
       "      <td>5</td>\n",
       "      <td>6</td>\n",
       "      <td>25</td>\n",
       "    </tr>\n",
       "    <tr>\n",
       "      <th>1</th>\n",
       "      <td>2</td>\n",
       "      <td>4</td>\n",
       "      <td>7</td>\n",
       "      <td>5</td>\n",
       "      <td>5</td>\n",
       "      <td>5</td>\n",
       "      <td>5</td>\n",
       "      <td>9</td>\n",
       "      <td>6</td>\n",
       "      <td>4</td>\n",
       "      <td>8</td>\n",
       "      <td>7</td>\n",
       "      <td>9</td>\n",
       "      <td>2</td>\n",
       "      <td>9</td>\n",
       "      <td>7</td>\n",
       "      <td>10</td>\n",
       "      <td>15</td>\n",
       "    </tr>\n",
       "    <tr>\n",
       "      <th>2</th>\n",
       "      <td>3</td>\n",
       "      <td>7</td>\n",
       "      <td>10</td>\n",
       "      <td>8</td>\n",
       "      <td>7</td>\n",
       "      <td>4</td>\n",
       "      <td>8</td>\n",
       "      <td>8</td>\n",
       "      <td>5</td>\n",
       "      <td>10</td>\n",
       "      <td>11</td>\n",
       "      <td>2</td>\n",
       "      <td>8</td>\n",
       "      <td>2</td>\n",
       "      <td>5</td>\n",
       "      <td>5</td>\n",
       "      <td>10</td>\n",
       "      <td>18</td>\n",
       "    </tr>\n",
       "    <tr>\n",
       "      <th>3</th>\n",
       "      <td>4</td>\n",
       "      <td>4</td>\n",
       "      <td>9</td>\n",
       "      <td>5</td>\n",
       "      <td>7</td>\n",
       "      <td>4</td>\n",
       "      <td>7</td>\n",
       "      <td>7</td>\n",
       "      <td>13</td>\n",
       "      <td>1</td>\n",
       "      <td>7</td>\n",
       "      <td>6</td>\n",
       "      <td>8</td>\n",
       "      <td>3</td>\n",
       "      <td>8</td>\n",
       "      <td>0</td>\n",
       "      <td>8</td>\n",
       "      <td>7</td>\n",
       "    </tr>\n",
       "    <tr>\n",
       "      <th>4</th>\n",
       "      <td>5</td>\n",
       "      <td>6</td>\n",
       "      <td>7</td>\n",
       "      <td>8</td>\n",
       "      <td>5</td>\n",
       "      <td>4</td>\n",
       "      <td>7</td>\n",
       "      <td>6</td>\n",
       "      <td>3</td>\n",
       "      <td>7</td>\n",
       "      <td>10</td>\n",
       "      <td>7</td>\n",
       "      <td>9</td>\n",
       "      <td>3</td>\n",
       "      <td>8</td>\n",
       "      <td>3</td>\n",
       "      <td>7</td>\n",
       "      <td>7</td>\n",
       "    </tr>\n",
       "  </tbody>\n",
       "</table>\n",
       "</div>"
      ],
      "text/plain": [
       "   id  'x-box'  'y-box'  'width'  'high'  'onpix'  'x-bar'  'y-bar'  'x2bar'  \\\n",
       "0   1        2        4        4       3        2        7        8        2   \n",
       "1   2        4        7        5       5        5        5        9        6   \n",
       "2   3        7       10        8       7        4        8        8        5   \n",
       "3   4        4        9        5       7        4        7        7       13   \n",
       "4   5        6        7        8       5        4        7        6        3   \n",
       "\n",
       "   'y2bar'  'xybar'  'x2ybr'  'xy2br'  'x-ege'  'xegvy'  'y-ege'  'yegvx'  \\\n",
       "0        9       11        7        7        1        8        5        6   \n",
       "1        4        8        7        9        2        9        7       10   \n",
       "2       10       11        2        8        2        5        5       10   \n",
       "3        1        7        6        8        3        8        0        8   \n",
       "4        7       10        7        9        3        8        3        7   \n",
       "\n",
       "   'class'  \n",
       "0       25  \n",
       "1       15  \n",
       "2       18  \n",
       "3        7  \n",
       "4        7  "
      ]
     },
     "execution_count": 89,
     "metadata": {},
     "output_type": "execute_result"
    }
   ],
   "source": [
    "dataset.head()"
   ]
  },
  {
   "cell_type": "code",
   "execution_count": 90,
   "id": "14622bd1",
   "metadata": {},
   "outputs": [],
   "source": [
    "X = dataset.iloc[1:1000, 1:-1]\n",
    "y = dataset.iloc[1:1000, -1].values"
   ]
  },
  {
   "cell_type": "code",
   "execution_count": 91,
   "id": "d87b281f",
   "metadata": {},
   "outputs": [],
   "source": [
    "X_train, X_test, y_train, y_test = train_test_split(X, y, test_size=0.3, random_state=0)"
   ]
  },
  {
   "cell_type": "code",
   "execution_count": 92,
   "id": "95b937aa",
   "metadata": {},
   "outputs": [],
   "source": [
    "# Fazer uma cópia do X_train\n",
    "X_train_scaled = X_train.copy()\n",
    "X_test_scaled=X_test.copy()\n",
    "\n",
    "selected_columns = []\n",
    "for column in dataset.columns:\n",
    "    if not column in ['id', \"'class'\"]:\n",
    "        selected_columns.append(column)\n",
    "\n",
    "\n",
    "# Aplicar o MinMaxScaler apenas às colunas selecionadas na cópia do X_train\n",
    "X_train_scaled[selected_columns] = scaler.fit_transform(X_train[selected_columns])\n",
    "\n",
    "# Aplicar o mesmo scaler aos dados de teste selecionados\n",
    "X_test_scaled[selected_columns] = scaler.transform(X_test[selected_columns])\n",
    "\n",
    "accuracy=[]"
   ]
  },
  {
   "cell_type": "markdown",
   "id": "a4b144a0",
   "metadata": {},
   "source": [
    "## Teste 1\n",
    "### Modelo que obtemos diretamente a partir do sklearn"
   ]
  },
  {
   "cell_type": "code",
   "execution_count": 93,
   "id": "4c03eef3",
   "metadata": {},
   "outputs": [],
   "source": [
    "#find_best_k(X_train_scaled, X_test_scaled, y_train, y_test,KNN)"
   ]
  },
  {
   "cell_type": "code",
   "execution_count": 94,
   "id": "a5d9a0a4",
   "metadata": {},
   "outputs": [
    {
     "name": "stdout",
     "output_type": "stream",
     "text": [
      "Accuracy =  0.7233333333333334\n"
     ]
    }
   ],
   "source": [
    "KNN=KNeighborsClassifier(n_neighbors=1)\n",
    "KNN.fit(X_train_scaled,y_train)\n",
    "Y_pred=KNN.predict(X_test_scaled)\n",
    "print(\"Accuracy = \", accuracy_score(y_test,Y_pred))\n",
    "accuracy.append(accuracy_score(y_test,Y_pred))"
   ]
  },
  {
   "cell_type": "markdown",
   "id": "bd70af6c",
   "metadata": {},
   "source": [
    "\n",
    "## Teste 2\n",
    "### Código do modelo, sem a alteração"
   ]
  },
  {
   "cell_type": "code",
   "execution_count": 95,
   "id": "03389a59",
   "metadata": {},
   "outputs": [
    {
     "data": {
      "text/plain": [
       "1"
      ]
     },
     "execution_count": 95,
     "metadata": {},
     "output_type": "execute_result"
    }
   ],
   "source": [
    "#find_best_k(X_train_scaled, X_test_scaled,y_train, y_test,KNNNormal)"
   ]
  },
  {
   "cell_type": "code",
   "execution_count": 96,
   "id": "96ed510f",
   "metadata": {},
   "outputs": [],
   "source": [
    "KNN2=KNNNormal(1) #our model\n",
    "KNN2.fit(X_train_scaled,y_train)"
   ]
  },
  {
   "cell_type": "code",
   "execution_count": 97,
   "id": "5d58911e",
   "metadata": {},
   "outputs": [
    {
     "name": "stdout",
     "output_type": "stream",
     "text": [
      "Accuracy =  0.7233333333333334\n"
     ]
    }
   ],
   "source": [
    "Y1_pred = KNN2.predict(X_test_scaled)\n",
    "print(\"Accuracy = \", accuracy_score(y_test, Y1_pred))\n",
    "accuracy.append(accuracy_score(y_test,Y1_pred))"
   ]
  },
  {
   "cell_type": "markdown",
   "id": "0c0287a4",
   "metadata": {},
   "source": [
    "## Teste 3\n",
    "### Distância de Manhattan - Como as medidas das letras estão relacionadas a eixos 2 por 2 esta distância é a que tem um melhor desempenho."
   ]
  },
  {
   "cell_type": "code",
   "execution_count": 98,
   "id": "0aef55f6",
   "metadata": {},
   "outputs": [
    {
     "data": {
      "text/plain": [
       "1"
      ]
     },
     "execution_count": 98,
     "metadata": {},
     "output_type": "execute_result"
    }
   ],
   "source": [
    "#find_best_k(X_train_scaled, X_test_scaled, y_train, y_test,KNNManhattan)"
   ]
  },
  {
   "cell_type": "code",
   "execution_count": 99,
   "id": "cfa147e5",
   "metadata": {},
   "outputs": [],
   "source": [
    "KNN3=KNNManhattan(1) #our model\n",
    "KNN3.fit(X_train_scaled,y_train)"
   ]
  },
  {
   "cell_type": "code",
   "execution_count": 100,
   "id": "0ee7f75d",
   "metadata": {},
   "outputs": [
    {
     "name": "stdout",
     "output_type": "stream",
     "text": [
      "Accuracy =  0.7366666666666667\n"
     ]
    }
   ],
   "source": [
    "Y1_pred = KNN3.predict(X_test_scaled)\n",
    "print(\"Accuracy = \", accuracy_score(y_test, Y1_pred))\n",
    "accuracy.append(accuracy_score(y_test,Y1_pred))"
   ]
  },
  {
   "cell_type": "markdown",
   "id": "24cb8398",
   "metadata": {},
   "source": [
    "## Teste 4\n",
    "### Distância de Hamming \n"
   ]
  },
  {
   "cell_type": "code",
   "execution_count": 101,
   "id": "1a90abc9",
   "metadata": {},
   "outputs": [
    {
     "data": {
      "text/plain": [
       "5"
      ]
     },
     "execution_count": 101,
     "metadata": {},
     "output_type": "execute_result"
    }
   ],
   "source": [
    "#find_best_k(X_train_scaled, X_test_scaled, y_train, y_test,KNNHamming)"
   ]
  },
  {
   "cell_type": "code",
   "execution_count": 102,
   "id": "f29f88be",
   "metadata": {},
   "outputs": [],
   "source": [
    "KNN4=KNNHamming(5) #our model\n",
    "KNN4.fit(X_train_scaled,y_train)"
   ]
  },
  {
   "cell_type": "code",
   "execution_count": 103,
   "id": "8e7ed591",
   "metadata": {},
   "outputs": [
    {
     "name": "stdout",
     "output_type": "stream",
     "text": [
      "Accuracy =  0.6033333333333334\n"
     ]
    }
   ],
   "source": [
    "Y1_pred = KNN4.predict(X_test_scaled)\n",
    "print(\"Accuracy = \", accuracy_score(y_test, Y1_pred))\n",
    "accuracy.append(accuracy_score(y_test,Y1_pred))"
   ]
  },
  {
   "cell_type": "markdown",
   "id": "6281789a",
   "metadata": {},
   "source": [
    "\n",
    "## Teste 5\n",
    "### Distância de Jaccard"
   ]
  },
  {
   "cell_type": "code",
   "execution_count": 104,
   "id": "3dbba94c",
   "metadata": {},
   "outputs": [
    {
     "data": {
      "text/plain": [
       "3"
      ]
     },
     "execution_count": 104,
     "metadata": {},
     "output_type": "execute_result"
    }
   ],
   "source": [
    "#find_best_k(X_train_scaled, X_test_scaled, y_train, y_test,KNNJaccard)"
   ]
  },
  {
   "cell_type": "code",
   "execution_count": 105,
   "id": "a9f09fc2",
   "metadata": {},
   "outputs": [],
   "source": [
    "KNN5=KNNJaccard(3) #our model\n",
    "KNN5.fit(X_train_scaled,y_train)\n"
   ]
  },
  {
   "cell_type": "code",
   "execution_count": 106,
   "id": "f922e65a",
   "metadata": {},
   "outputs": [
    {
     "name": "stdout",
     "output_type": "stream",
     "text": [
      "Accuracy =  0.43\n"
     ]
    }
   ],
   "source": [
    "Y1_pred = KNN5.predict(X_test_scaled)\n",
    "print(\"Accuracy = \", accuracy_score(y_test, Y1_pred))\n",
    "accuracy.append(accuracy_score(y_test,Y1_pred))"
   ]
  },
  {
   "cell_type": "markdown",
   "id": "6a1b1417",
   "metadata": {},
   "source": [
    "## Teste 6\n",
    "### Distância de Chebyshev"
   ]
  },
  {
   "cell_type": "code",
   "execution_count": 108,
   "id": "1798625e",
   "metadata": {},
   "outputs": [],
   "source": [
    "#find_best_k(X_train_scaled, X_test_scaled, y_train, y_test,KNNChebyshev)"
   ]
  },
  {
   "cell_type": "code",
   "execution_count": 109,
   "id": "40f721f3",
   "metadata": {},
   "outputs": [],
   "source": [
    "KNN6=KNNChebyshev(1) #our model\n",
    "KNN6.fit(X_train_scaled,y_train)"
   ]
  },
  {
   "cell_type": "code",
   "execution_count": 110,
   "id": "e66670ac",
   "metadata": {},
   "outputs": [
    {
     "name": "stdout",
     "output_type": "stream",
     "text": [
      "Accuracy =  0.6766666666666666\n"
     ]
    }
   ],
   "source": [
    "Y1_pred = KNN6.predict(X_test_scaled)\n",
    "print(\"Accuracy = \", accuracy_score(y_test, Y1_pred))\n",
    "accuracy.append(accuracy_score(y_test,Y1_pred))"
   ]
  },
  {
   "cell_type": "markdown",
   "id": "723154df",
   "metadata": {},
   "source": [
    "### Análise"
   ]
  },
  {
   "cell_type": "code",
   "execution_count": 111,
   "id": "5d7a0965",
   "metadata": {},
   "outputs": [
    {
     "data": {
      "image/png": "[encoded data removed]",
      "text/plain": [
       "<Figure size 432x288 with 1 Axes>"
      ]
     },
     "metadata": {
      "needs_background": "light"
     },
     "output_type": "display_data"
    }
   ],
   "source": [
    "plt.plot(accuracy)\n",
    "plt.xlabel(\"Model\")\n",
    "plt.ylabel(\"Accuracy\")\n",
    "plt.title(\"KNN Performance for k=5\")\n",
    "plt.xticks(range(6), ['KNN','KNNNormal','KNNManhattan','KNNHamming','KNNJaccard','KNNChebyshev'])\n",
    "plt.show()"
   ]
  },
  {
   "cell_type": "markdown",
   "id": "a0ded565",
   "metadata": {},
   "source": [
    "### Todas as distâncias apresentam resultados semelhantes, à exceção da distância de Jaccard que não é adequada porque ela trata as variáveis como se fossem categóricas binárias, ou seja, apenas verifica se uma variável está presente ou não em cada letra. Isso pode não reflete a real diferença entre as medidas das letras e leva a resultados maus na classificação."
   ]
  },
  {
   "cell_type": "markdown",
   "id": "78658024",
   "metadata": {},
   "source": [
    "### Dataset 3 -  risco de créditos  - variáveis categóricas binárias"
   ]
  },
  {
   "cell_type": "code",
   "execution_count": 10,
   "id": "3e68c38c",
   "metadata": {
    "scrolled": true
   },
   "outputs": [
    {
     "data": {
      "text/html": [
       "<div>\n",
       "<style scoped>\n",
       "    .dataframe tbody tr th:only-of-type {\n",
       "        vertical-align: middle;\n",
       "    }\n",
       "\n",
       "    .dataframe tbody tr th {\n",
       "        vertical-align: top;\n",
       "    }\n",
       "\n",
       "    .dataframe thead th {\n",
       "        text-align: right;\n",
       "    }\n",
       "</style>\n",
       "<table border=\"1\" class=\"dataframe\">\n",
       "  <thead>\n",
       "    <tr style=\"text-align: right;\">\n",
       "      <th></th>\n",
       "      <th>id</th>\n",
       "      <th>'checking_status'</th>\n",
       "      <th>'duration'</th>\n",
       "      <th>'credit_history'</th>\n",
       "      <th>'purpose'</th>\n",
       "      <th>'credit_amount'</th>\n",
       "      <th>'savings_status'</th>\n",
       "      <th>'employment'</th>\n",
       "      <th>'installment_commitment'</th>\n",
       "      <th>'personal_status'</th>\n",
       "      <th>...</th>\n",
       "      <th>'property_magnitude'</th>\n",
       "      <th>'age'</th>\n",
       "      <th>'other_payment_plans'</th>\n",
       "      <th>'housing'</th>\n",
       "      <th>'existing_credits'</th>\n",
       "      <th>'job'</th>\n",
       "      <th>'num_dependents'</th>\n",
       "      <th>'own_telephone'</th>\n",
       "      <th>'foreign_worker'</th>\n",
       "      <th>'class'</th>\n",
       "    </tr>\n",
       "  </thead>\n",
       "  <tbody>\n",
       "    <tr>\n",
       "      <th>995</th>\n",
       "      <td>996</td>\n",
       "      <td>no checking</td>\n",
       "      <td>12</td>\n",
       "      <td>existing paid</td>\n",
       "      <td>furniture/equipment</td>\n",
       "      <td>1736</td>\n",
       "      <td>&lt;100</td>\n",
       "      <td>4&lt;=X&lt;7</td>\n",
       "      <td>3</td>\n",
       "      <td>female div/dep/mar</td>\n",
       "      <td>...</td>\n",
       "      <td>real estate</td>\n",
       "      <td>31</td>\n",
       "      <td>none</td>\n",
       "      <td>own</td>\n",
       "      <td>1</td>\n",
       "      <td>unskilled resident</td>\n",
       "      <td>1</td>\n",
       "      <td>none</td>\n",
       "      <td>yes</td>\n",
       "      <td>good</td>\n",
       "    </tr>\n",
       "    <tr>\n",
       "      <th>996</th>\n",
       "      <td>997</td>\n",
       "      <td>&lt;0</td>\n",
       "      <td>30</td>\n",
       "      <td>existing paid</td>\n",
       "      <td>used car</td>\n",
       "      <td>3857</td>\n",
       "      <td>&lt;100</td>\n",
       "      <td>1&lt;=X&lt;4</td>\n",
       "      <td>4</td>\n",
       "      <td>male div/sep</td>\n",
       "      <td>...</td>\n",
       "      <td>life insurance</td>\n",
       "      <td>40</td>\n",
       "      <td>none</td>\n",
       "      <td>own</td>\n",
       "      <td>1</td>\n",
       "      <td>high qualif/self emp/mgmt</td>\n",
       "      <td>1</td>\n",
       "      <td>yes</td>\n",
       "      <td>yes</td>\n",
       "      <td>good</td>\n",
       "    </tr>\n",
       "    <tr>\n",
       "      <th>997</th>\n",
       "      <td>998</td>\n",
       "      <td>no checking</td>\n",
       "      <td>12</td>\n",
       "      <td>existing paid</td>\n",
       "      <td>radio/tv</td>\n",
       "      <td>804</td>\n",
       "      <td>&lt;100</td>\n",
       "      <td>&gt;=7</td>\n",
       "      <td>4</td>\n",
       "      <td>male single</td>\n",
       "      <td>...</td>\n",
       "      <td>car</td>\n",
       "      <td>38</td>\n",
       "      <td>none</td>\n",
       "      <td>own</td>\n",
       "      <td>1</td>\n",
       "      <td>skilled</td>\n",
       "      <td>1</td>\n",
       "      <td>none</td>\n",
       "      <td>yes</td>\n",
       "      <td>good</td>\n",
       "    </tr>\n",
       "    <tr>\n",
       "      <th>998</th>\n",
       "      <td>999</td>\n",
       "      <td>&lt;0</td>\n",
       "      <td>45</td>\n",
       "      <td>existing paid</td>\n",
       "      <td>radio/tv</td>\n",
       "      <td>1845</td>\n",
       "      <td>&lt;100</td>\n",
       "      <td>1&lt;=X&lt;4</td>\n",
       "      <td>4</td>\n",
       "      <td>male single</td>\n",
       "      <td>...</td>\n",
       "      <td>no known property</td>\n",
       "      <td>23</td>\n",
       "      <td>none</td>\n",
       "      <td>for free</td>\n",
       "      <td>1</td>\n",
       "      <td>skilled</td>\n",
       "      <td>1</td>\n",
       "      <td>yes</td>\n",
       "      <td>yes</td>\n",
       "      <td>bad</td>\n",
       "    </tr>\n",
       "    <tr>\n",
       "      <th>999</th>\n",
       "      <td>1000</td>\n",
       "      <td>0&lt;=X&lt;200</td>\n",
       "      <td>45</td>\n",
       "      <td>critical/other existing credit</td>\n",
       "      <td>used car</td>\n",
       "      <td>4576</td>\n",
       "      <td>100&lt;=X&lt;500</td>\n",
       "      <td>unemployed</td>\n",
       "      <td>3</td>\n",
       "      <td>male single</td>\n",
       "      <td>...</td>\n",
       "      <td>car</td>\n",
       "      <td>27</td>\n",
       "      <td>none</td>\n",
       "      <td>own</td>\n",
       "      <td>1</td>\n",
       "      <td>skilled</td>\n",
       "      <td>1</td>\n",
       "      <td>none</td>\n",
       "      <td>yes</td>\n",
       "      <td>good</td>\n",
       "    </tr>\n",
       "  </tbody>\n",
       "</table>\n",
       "<p>5 rows × 22 columns</p>\n",
       "</div>"
      ],
      "text/plain": [
       "       id 'checking_status'  'duration'                'credit_history'  \\\n",
       "995   996       no checking          12                   existing paid   \n",
       "996   997                <0          30                   existing paid   \n",
       "997   998       no checking          12                   existing paid   \n",
       "998   999                <0          45                   existing paid   \n",
       "999  1000          0<=X<200          45  critical/other existing credit   \n",
       "\n",
       "               'purpose'  'credit_amount' 'savings_status' 'employment'  \\\n",
       "995  furniture/equipment             1736             <100       4<=X<7   \n",
       "996             used car             3857             <100       1<=X<4   \n",
       "997             radio/tv              804             <100          >=7   \n",
       "998             radio/tv             1845             <100       1<=X<4   \n",
       "999             used car             4576       100<=X<500   unemployed   \n",
       "\n",
       "     'installment_commitment'   'personal_status'  ... 'property_magnitude'  \\\n",
       "995                         3  female div/dep/mar  ...          real estate   \n",
       "996                         4        male div/sep  ...       life insurance   \n",
       "997                         4         male single  ...                  car   \n",
       "998                         4         male single  ...    no known property   \n",
       "999                         3         male single  ...                  car   \n",
       "\n",
       "     'age' 'other_payment_plans'  'housing' 'existing_credits'  \\\n",
       "995     31                  none        own                  1   \n",
       "996     40                  none        own                  1   \n",
       "997     38                  none        own                  1   \n",
       "998     23                  none   for free                  1   \n",
       "999     27                  none        own                  1   \n",
       "\n",
       "                         'job'  'num_dependents' 'own_telephone'  \\\n",
       "995         unskilled resident                 1            none   \n",
       "996  high qualif/self emp/mgmt                 1             yes   \n",
       "997                    skilled                 1            none   \n",
       "998                    skilled                 1             yes   \n",
       "999                    skilled                 1            none   \n",
       "\n",
       "     'foreign_worker' 'class'  \n",
       "995               yes    good  \n",
       "996               yes    good  \n",
       "997               yes    good  \n",
       "998               yes     bad  \n",
       "999               yes    good  \n",
       "\n",
       "[5 rows x 22 columns]"
      ]
     },
     "execution_count": 10,
     "metadata": {},
     "output_type": "execute_result"
    }
   ],
   "source": [
    "dataset = pd.read_csv('csv_result-dataset_31_credit-g.csv')\n",
    "dataset.tail()"
   ]
  },
  {
   "cell_type": "code",
   "execution_count": 11,
   "id": "2ff00c9c",
   "metadata": {},
   "outputs": [
    {
     "data": {
      "text/html": [
       "<div>\n",
       "<style scoped>\n",
       "    .dataframe tbody tr th:only-of-type {\n",
       "        vertical-align: middle;\n",
       "    }\n",
       "\n",
       "    .dataframe tbody tr th {\n",
       "        vertical-align: top;\n",
       "    }\n",
       "\n",
       "    .dataframe thead th {\n",
       "        text-align: right;\n",
       "    }\n",
       "</style>\n",
       "<table border=\"1\" class=\"dataframe\">\n",
       "  <thead>\n",
       "    <tr style=\"text-align: right;\">\n",
       "      <th></th>\n",
       "      <th>id</th>\n",
       "      <th>'checking_status'</th>\n",
       "      <th>'duration'</th>\n",
       "      <th>'credit_history'</th>\n",
       "      <th>'purpose'</th>\n",
       "      <th>'credit_amount'</th>\n",
       "      <th>'savings_status'</th>\n",
       "      <th>'employment'</th>\n",
       "      <th>'installment_commitment'</th>\n",
       "      <th>'personal_status'</th>\n",
       "      <th>...</th>\n",
       "      <th>'property_magnitude'</th>\n",
       "      <th>'age'</th>\n",
       "      <th>'other_payment_plans'</th>\n",
       "      <th>'housing'</th>\n",
       "      <th>'existing_credits'</th>\n",
       "      <th>'job'</th>\n",
       "      <th>'num_dependents'</th>\n",
       "      <th>'own_telephone'</th>\n",
       "      <th>'foreign_worker'</th>\n",
       "      <th>'class'</th>\n",
       "    </tr>\n",
       "  </thead>\n",
       "  <tbody>\n",
       "    <tr>\n",
       "      <th>995</th>\n",
       "      <td>996</td>\n",
       "      <td>no checking</td>\n",
       "      <td>12</td>\n",
       "      <td>existing paid</td>\n",
       "      <td>furniture/equipment</td>\n",
       "      <td>1736</td>\n",
       "      <td>&lt;100</td>\n",
       "      <td>4&lt;=X&lt;7</td>\n",
       "      <td>3</td>\n",
       "      <td>female div/dep/mar</td>\n",
       "      <td>...</td>\n",
       "      <td>real estate</td>\n",
       "      <td>31</td>\n",
       "      <td>none</td>\n",
       "      <td>own</td>\n",
       "      <td>1</td>\n",
       "      <td>unskilled resident</td>\n",
       "      <td>1</td>\n",
       "      <td>0</td>\n",
       "      <td>1</td>\n",
       "      <td>good</td>\n",
       "    </tr>\n",
       "    <tr>\n",
       "      <th>996</th>\n",
       "      <td>997</td>\n",
       "      <td>&lt;0</td>\n",
       "      <td>30</td>\n",
       "      <td>existing paid</td>\n",
       "      <td>used car</td>\n",
       "      <td>3857</td>\n",
       "      <td>&lt;100</td>\n",
       "      <td>1&lt;=X&lt;4</td>\n",
       "      <td>4</td>\n",
       "      <td>male div/sep</td>\n",
       "      <td>...</td>\n",
       "      <td>life insurance</td>\n",
       "      <td>40</td>\n",
       "      <td>none</td>\n",
       "      <td>own</td>\n",
       "      <td>1</td>\n",
       "      <td>high qualif/self emp/mgmt</td>\n",
       "      <td>1</td>\n",
       "      <td>1</td>\n",
       "      <td>1</td>\n",
       "      <td>good</td>\n",
       "    </tr>\n",
       "    <tr>\n",
       "      <th>997</th>\n",
       "      <td>998</td>\n",
       "      <td>no checking</td>\n",
       "      <td>12</td>\n",
       "      <td>existing paid</td>\n",
       "      <td>radio/tv</td>\n",
       "      <td>804</td>\n",
       "      <td>&lt;100</td>\n",
       "      <td>&gt;=7</td>\n",
       "      <td>4</td>\n",
       "      <td>male single</td>\n",
       "      <td>...</td>\n",
       "      <td>car</td>\n",
       "      <td>38</td>\n",
       "      <td>none</td>\n",
       "      <td>own</td>\n",
       "      <td>1</td>\n",
       "      <td>skilled</td>\n",
       "      <td>1</td>\n",
       "      <td>0</td>\n",
       "      <td>1</td>\n",
       "      <td>good</td>\n",
       "    </tr>\n",
       "    <tr>\n",
       "      <th>998</th>\n",
       "      <td>999</td>\n",
       "      <td>&lt;0</td>\n",
       "      <td>45</td>\n",
       "      <td>existing paid</td>\n",
       "      <td>radio/tv</td>\n",
       "      <td>1845</td>\n",
       "      <td>&lt;100</td>\n",
       "      <td>1&lt;=X&lt;4</td>\n",
       "      <td>4</td>\n",
       "      <td>male single</td>\n",
       "      <td>...</td>\n",
       "      <td>no known property</td>\n",
       "      <td>23</td>\n",
       "      <td>none</td>\n",
       "      <td>for free</td>\n",
       "      <td>1</td>\n",
       "      <td>skilled</td>\n",
       "      <td>1</td>\n",
       "      <td>1</td>\n",
       "      <td>1</td>\n",
       "      <td>bad</td>\n",
       "    </tr>\n",
       "    <tr>\n",
       "      <th>999</th>\n",
       "      <td>1000</td>\n",
       "      <td>0&lt;=X&lt;200</td>\n",
       "      <td>45</td>\n",
       "      <td>critical/other existing credit</td>\n",
       "      <td>used car</td>\n",
       "      <td>4576</td>\n",
       "      <td>100&lt;=X&lt;500</td>\n",
       "      <td>unemployed</td>\n",
       "      <td>3</td>\n",
       "      <td>male single</td>\n",
       "      <td>...</td>\n",
       "      <td>car</td>\n",
       "      <td>27</td>\n",
       "      <td>none</td>\n",
       "      <td>own</td>\n",
       "      <td>1</td>\n",
       "      <td>skilled</td>\n",
       "      <td>1</td>\n",
       "      <td>0</td>\n",
       "      <td>1</td>\n",
       "      <td>good</td>\n",
       "    </tr>\n",
       "  </tbody>\n",
       "</table>\n",
       "<p>5 rows × 22 columns</p>\n",
       "</div>"
      ],
      "text/plain": [
       "       id 'checking_status'  'duration'                'credit_history'  \\\n",
       "995   996       no checking          12                   existing paid   \n",
       "996   997                <0          30                   existing paid   \n",
       "997   998       no checking          12                   existing paid   \n",
       "998   999                <0          45                   existing paid   \n",
       "999  1000          0<=X<200          45  critical/other existing credit   \n",
       "\n",
       "               'purpose'  'credit_amount' 'savings_status' 'employment'  \\\n",
       "995  furniture/equipment             1736             <100       4<=X<7   \n",
       "996             used car             3857             <100       1<=X<4   \n",
       "997             radio/tv              804             <100          >=7   \n",
       "998             radio/tv             1845             <100       1<=X<4   \n",
       "999             used car             4576       100<=X<500   unemployed   \n",
       "\n",
       "     'installment_commitment'   'personal_status'  ... 'property_magnitude'  \\\n",
       "995                         3  female div/dep/mar  ...          real estate   \n",
       "996                         4        male div/sep  ...       life insurance   \n",
       "997                         4         male single  ...                  car   \n",
       "998                         4         male single  ...    no known property   \n",
       "999                         3         male single  ...                  car   \n",
       "\n",
       "     'age' 'other_payment_plans'  'housing' 'existing_credits'  \\\n",
       "995     31                  none        own                  1   \n",
       "996     40                  none        own                  1   \n",
       "997     38                  none        own                  1   \n",
       "998     23                  none   for free                  1   \n",
       "999     27                  none        own                  1   \n",
       "\n",
       "                         'job'  'num_dependents' 'own_telephone'  \\\n",
       "995         unskilled resident                 1               0   \n",
       "996  high qualif/self emp/mgmt                 1               1   \n",
       "997                    skilled                 1               0   \n",
       "998                    skilled                 1               1   \n",
       "999                    skilled                 1               0   \n",
       "\n",
       "     'foreign_worker'  'class'  \n",
       "995                 1     good  \n",
       "996                 1     good  \n",
       "997                 1     good  \n",
       "998                 1      bad  \n",
       "999                 1     good  \n",
       "\n",
       "[5 rows x 22 columns]"
      ]
     },
     "execution_count": 11,
     "metadata": {},
     "output_type": "execute_result"
    }
   ],
   "source": [
    "for column in [\"'own_telephone'\", \"'foreign_worker'\"]:\n",
    "    le = LabelEncoder()\n",
    "    dataset[column] = le.fit_transform(dataset[column])\n",
    "dataset.tail()"
   ]
  },
  {
   "cell_type": "markdown",
   "id": "9929a6b3",
   "metadata": {},
   "source": [
    "### Decidimos explorar a fraqueza do Jaccard no dataset antetior e fizemos deste dataset um dataset categórico com variáveis apenas binárias para ver se assim o jaccard se destacava."
   ]
  },
  {
   "cell_type": "code",
   "execution_count": 12,
   "id": "da142e33",
   "metadata": {},
   "outputs": [],
   "source": [
    "dataset.head()\n",
    "X = dataset.iloc[:, 18:-1]\n",
    "y = dataset.iloc[:, -1].values\n",
    "X_train, X_test, y_train, y_test = train_test_split(X, y, test_size=0.3, random_state=0)"
   ]
  },
  {
   "cell_type": "code",
   "execution_count": 13,
   "id": "09e274bf",
   "metadata": {},
   "outputs": [],
   "source": [
    "accuracy=[]"
   ]
  },
  {
   "cell_type": "markdown",
   "id": "adbbfb96",
   "metadata": {},
   "source": [
    "## Teste 1\n",
    "### Modelo que obtemos diretamente a partir do sklearn"
   ]
  },
  {
   "cell_type": "code",
   "execution_count": 14,
   "id": "56021eda",
   "metadata": {},
   "outputs": [],
   "source": [
    "#find_best_k(X_train, X_test, y_train, y_test,KNN)"
   ]
  },
  {
   "cell_type": "code",
   "execution_count": 15,
   "id": "76fcd31b",
   "metadata": {},
   "outputs": [
    {
     "name": "stdout",
     "output_type": "stream",
     "text": [
      "Accuracy =  0.6733333333333333\n"
     ]
    }
   ],
   "source": [
    "KNN=KNeighborsClassifier(n_neighbors=5)\n",
    "KNN.fit(X_train,y_train)\n",
    "Y_pred=KNN.predict(X_test)\n",
    "print(\"Accuracy = \", accuracy_score(y_test,Y_pred))\n",
    "accuracy.append(accuracy_score(y_test,Y_pred))"
   ]
  },
  {
   "cell_type": "markdown",
   "id": "13966f3a",
   "metadata": {},
   "source": [
    "## Teste 2\n",
    "### Código do modelo sem alteração"
   ]
  },
  {
   "cell_type": "code",
   "execution_count": 16,
   "id": "91186c68",
   "metadata": {},
   "outputs": [],
   "source": [
    "#find_best_k(X_train, X_test, y_train, y_test,KNNNormal)"
   ]
  },
  {
   "cell_type": "code",
   "execution_count": 17,
   "id": "c94f782f",
   "metadata": {},
   "outputs": [],
   "source": [
    "KNN2=KNNNormal(7) #our model\n",
    "KNN2.fit(X_train,y_train)"
   ]
  },
  {
   "cell_type": "code",
   "execution_count": 18,
   "id": "df819323",
   "metadata": {},
   "outputs": [
    {
     "name": "stdout",
     "output_type": "stream",
     "text": [
      "Accuracy =  0.67\n"
     ]
    }
   ],
   "source": [
    "Y1_pred = KNN2.predict(X_test)\n",
    "print(\"Accuracy = \", accuracy_score(y_test, Y1_pred))\n",
    "accuracy.append(accuracy_score(y_test,Y1_pred))"
   ]
  },
  {
   "cell_type": "markdown",
   "id": "4568ad05",
   "metadata": {},
   "source": [
    "## Teste 3 \n",
    "### Distância de Manhattan"
   ]
  },
  {
   "cell_type": "code",
   "execution_count": 19,
   "id": "e54f8f7e",
   "metadata": {},
   "outputs": [],
   "source": [
    "#find_best_k(X_train, X_test, y_train, y_test,KNNManhattan)"
   ]
  },
  {
   "cell_type": "code",
   "execution_count": 20,
   "id": "c4a43ad4",
   "metadata": {},
   "outputs": [],
   "source": [
    "KNN3=KNNManhattan(7) #our model\n",
    "KNN3.fit(X_train,y_train)"
   ]
  },
  {
   "cell_type": "code",
   "execution_count": 21,
   "id": "dce69be4",
   "metadata": {},
   "outputs": [
    {
     "name": "stdout",
     "output_type": "stream",
     "text": [
      "Accuracy =  0.67\n"
     ]
    }
   ],
   "source": [
    "Y1_pred = KNN3.predict(X_test)\n",
    "print(\"Accuracy = \", accuracy_score(y_test, Y1_pred))\n",
    "accuracy.append(accuracy_score(y_test,Y1_pred))"
   ]
  },
  {
   "cell_type": "markdown",
   "id": "60ad2264",
   "metadata": {},
   "source": [
    "## Teste 4\n",
    "### Distância de Hamming \n"
   ]
  },
  {
   "cell_type": "code",
   "execution_count": 22,
   "id": "4d9efb3a",
   "metadata": {},
   "outputs": [],
   "source": [
    "#find_best_k(X_train, X_test, y_train, y_test,KNNHamming)"
   ]
  },
  {
   "cell_type": "code",
   "execution_count": 23,
   "id": "2fe0e49e",
   "metadata": {},
   "outputs": [],
   "source": [
    "KNN4=KNNHamming(7) #our model\n",
    "KNN4.fit(X_train,y_train)"
   ]
  },
  {
   "cell_type": "code",
   "execution_count": 24,
   "id": "38c72fe0",
   "metadata": {},
   "outputs": [
    {
     "name": "stdout",
     "output_type": "stream",
     "text": [
      "Accuracy =  0.67\n"
     ]
    }
   ],
   "source": [
    "Y1_pred = KNN4.predict(X_test)\n",
    "print(\"Accuracy = \", accuracy_score(y_test, Y1_pred))\n",
    "accuracy.append(accuracy_score(y_test,Y1_pred))"
   ]
  },
  {
   "cell_type": "markdown",
   "id": "3af72f7f",
   "metadata": {},
   "source": [
    "## Teste 5\n",
    "### Distância de Jaccard"
   ]
  },
  {
   "cell_type": "code",
   "execution_count": 25,
   "id": "6e51abb7",
   "metadata": {},
   "outputs": [],
   "source": [
    "#find_best_k(X_train, X_test, y_train, y_test,KNNJaccard)"
   ]
  },
  {
   "cell_type": "code",
   "execution_count": 26,
   "id": "8e99e60f",
   "metadata": {},
   "outputs": [],
   "source": [
    "KNN5=KNNJaccard(7) #our model\n",
    "KNN5.fit(X_train,y_train)"
   ]
  },
  {
   "cell_type": "code",
   "execution_count": 27,
   "id": "f23110bf",
   "metadata": {},
   "outputs": [
    {
     "name": "stdout",
     "output_type": "stream",
     "text": [
      "Accuracy =  0.6733333333333333\n"
     ]
    }
   ],
   "source": [
    "Y1_pred = KNN5.predict(X_test)\n",
    "print(\"Accuracy = \", accuracy_score(y_test, Y1_pred))\n",
    "accuracy.append(accuracy_score(y_test,Y1_pred))"
   ]
  },
  {
   "cell_type": "markdown",
   "id": "0df7bb27",
   "metadata": {},
   "source": [
    "## Teste 6\n",
    "### Distância de Chebyshev"
   ]
  },
  {
   "cell_type": "code",
   "execution_count": 28,
   "id": "96428c33",
   "metadata": {},
   "outputs": [],
   "source": [
    "#find_best_k(X_train, X_test, y_train, y_test,KNNChebyshev)"
   ]
  },
  {
   "cell_type": "code",
   "execution_count": 29,
   "id": "a8d0cdc0",
   "metadata": {},
   "outputs": [],
   "source": [
    "KNN6=KNNChebyshev(7) #our model\n",
    "KNN6.fit(X_train,y_train)"
   ]
  },
  {
   "cell_type": "code",
   "execution_count": 30,
   "id": "c6521d7e",
   "metadata": {},
   "outputs": [
    {
     "name": "stdout",
     "output_type": "stream",
     "text": [
      "Accuracy =  0.67\n"
     ]
    }
   ],
   "source": [
    "Y1_pred = KNN6.predict(X_test)\n",
    "print(\"Accuracy = \", accuracy_score(y_test, Y1_pred))\n",
    "accuracy.append(accuracy_score(y_test,Y1_pred))"
   ]
  },
  {
   "cell_type": "markdown",
   "id": "7b4dcd13",
   "metadata": {},
   "source": [
    "### Análise"
   ]
  },
  {
   "cell_type": "code",
   "execution_count": 31,
   "id": "13913c0b",
   "metadata": {},
   "outputs": [
    {
     "data": {
      "image/png": "[encoded data removed]",
      "text/plain": [
       "<Figure size 432x288 with 1 Axes>"
      ]
     },
     "metadata": {
      "needs_background": "light"
     },
     "output_type": "display_data"
    }
   ],
   "source": [
    "plt.plot(accuracy)\n",
    "plt.xlabel(\"Model\")\n",
    "plt.ylabel(\"Accuracy\")\n",
    "plt.title(\"KNN Performance for k=5\")\n",
    "plt.xticks(range(6), ['KNN','KNNNormal','KNNManhattan','KNNHamming','KNNJaccard','KNNChebyshev'])\n",
    "plt.show()"
   ]
  },
  {
   "cell_type": "markdown",
   "id": "95990e15",
   "metadata": {},
   "source": [
    "### Desta análise concluimos que o que esperávamos aconteceu, a distância de Jaccard é adequada para variáveis categóricas binárias e quando elas são desse género obtem equiparável à das restantes variaveis."
   ]
  },
  {
   "cell_type": "markdown",
   "id": "c3a39605",
   "metadata": {},
   "source": [
    "### Vamos agora testar o dataset com todas as variáveis para ver que conclusões podemos tirar"
   ]
  },
  {
   "cell_type": "code",
   "execution_count": 153,
   "id": "f63ce0eb",
   "metadata": {},
   "outputs": [
    {
     "data": {
      "text/html": [
       "<div>\n",
       "<style scoped>\n",
       "    .dataframe tbody tr th:only-of-type {\n",
       "        vertical-align: middle;\n",
       "    }\n",
       "\n",
       "    .dataframe tbody tr th {\n",
       "        vertical-align: top;\n",
       "    }\n",
       "\n",
       "    .dataframe thead th {\n",
       "        text-align: right;\n",
       "    }\n",
       "</style>\n",
       "<table border=\"1\" class=\"dataframe\">\n",
       "  <thead>\n",
       "    <tr style=\"text-align: right;\">\n",
       "      <th></th>\n",
       "      <th>id</th>\n",
       "      <th>'checking_status'</th>\n",
       "      <th>'duration'</th>\n",
       "      <th>'credit_history'</th>\n",
       "      <th>'purpose'</th>\n",
       "      <th>'credit_amount'</th>\n",
       "      <th>'savings_status'</th>\n",
       "      <th>'employment'</th>\n",
       "      <th>'installment_commitment'</th>\n",
       "      <th>'personal_status'</th>\n",
       "      <th>...</th>\n",
       "      <th>'property_magnitude'</th>\n",
       "      <th>'age'</th>\n",
       "      <th>'other_payment_plans'</th>\n",
       "      <th>'housing'</th>\n",
       "      <th>'existing_credits'</th>\n",
       "      <th>'job'</th>\n",
       "      <th>'num_dependents'</th>\n",
       "      <th>'own_telephone'</th>\n",
       "      <th>'foreign_worker'</th>\n",
       "      <th>'class'</th>\n",
       "    </tr>\n",
       "  </thead>\n",
       "  <tbody>\n",
       "    <tr>\n",
       "      <th>995</th>\n",
       "      <td>996</td>\n",
       "      <td>no checking</td>\n",
       "      <td>12</td>\n",
       "      <td>existing paid</td>\n",
       "      <td>furniture/equipment</td>\n",
       "      <td>1736</td>\n",
       "      <td>&lt;100</td>\n",
       "      <td>4&lt;=X&lt;7</td>\n",
       "      <td>3</td>\n",
       "      <td>female div/dep/mar</td>\n",
       "      <td>...</td>\n",
       "      <td>real estate</td>\n",
       "      <td>31</td>\n",
       "      <td>none</td>\n",
       "      <td>own</td>\n",
       "      <td>1</td>\n",
       "      <td>unskilled resident</td>\n",
       "      <td>1</td>\n",
       "      <td>none</td>\n",
       "      <td>yes</td>\n",
       "      <td>good</td>\n",
       "    </tr>\n",
       "    <tr>\n",
       "      <th>996</th>\n",
       "      <td>997</td>\n",
       "      <td>&lt;0</td>\n",
       "      <td>30</td>\n",
       "      <td>existing paid</td>\n",
       "      <td>used car</td>\n",
       "      <td>3857</td>\n",
       "      <td>&lt;100</td>\n",
       "      <td>1&lt;=X&lt;4</td>\n",
       "      <td>4</td>\n",
       "      <td>male div/sep</td>\n",
       "      <td>...</td>\n",
       "      <td>life insurance</td>\n",
       "      <td>40</td>\n",
       "      <td>none</td>\n",
       "      <td>own</td>\n",
       "      <td>1</td>\n",
       "      <td>high qualif/self emp/mgmt</td>\n",
       "      <td>1</td>\n",
       "      <td>yes</td>\n",
       "      <td>yes</td>\n",
       "      <td>good</td>\n",
       "    </tr>\n",
       "    <tr>\n",
       "      <th>997</th>\n",
       "      <td>998</td>\n",
       "      <td>no checking</td>\n",
       "      <td>12</td>\n",
       "      <td>existing paid</td>\n",
       "      <td>radio/tv</td>\n",
       "      <td>804</td>\n",
       "      <td>&lt;100</td>\n",
       "      <td>&gt;=7</td>\n",
       "      <td>4</td>\n",
       "      <td>male single</td>\n",
       "      <td>...</td>\n",
       "      <td>car</td>\n",
       "      <td>38</td>\n",
       "      <td>none</td>\n",
       "      <td>own</td>\n",
       "      <td>1</td>\n",
       "      <td>skilled</td>\n",
       "      <td>1</td>\n",
       "      <td>none</td>\n",
       "      <td>yes</td>\n",
       "      <td>good</td>\n",
       "    </tr>\n",
       "    <tr>\n",
       "      <th>998</th>\n",
       "      <td>999</td>\n",
       "      <td>&lt;0</td>\n",
       "      <td>45</td>\n",
       "      <td>existing paid</td>\n",
       "      <td>radio/tv</td>\n",
       "      <td>1845</td>\n",
       "      <td>&lt;100</td>\n",
       "      <td>1&lt;=X&lt;4</td>\n",
       "      <td>4</td>\n",
       "      <td>male single</td>\n",
       "      <td>...</td>\n",
       "      <td>no known property</td>\n",
       "      <td>23</td>\n",
       "      <td>none</td>\n",
       "      <td>for free</td>\n",
       "      <td>1</td>\n",
       "      <td>skilled</td>\n",
       "      <td>1</td>\n",
       "      <td>yes</td>\n",
       "      <td>yes</td>\n",
       "      <td>bad</td>\n",
       "    </tr>\n",
       "    <tr>\n",
       "      <th>999</th>\n",
       "      <td>1000</td>\n",
       "      <td>0&lt;=X&lt;200</td>\n",
       "      <td>45</td>\n",
       "      <td>critical/other existing credit</td>\n",
       "      <td>used car</td>\n",
       "      <td>4576</td>\n",
       "      <td>100&lt;=X&lt;500</td>\n",
       "      <td>unemployed</td>\n",
       "      <td>3</td>\n",
       "      <td>male single</td>\n",
       "      <td>...</td>\n",
       "      <td>car</td>\n",
       "      <td>27</td>\n",
       "      <td>none</td>\n",
       "      <td>own</td>\n",
       "      <td>1</td>\n",
       "      <td>skilled</td>\n",
       "      <td>1</td>\n",
       "      <td>none</td>\n",
       "      <td>yes</td>\n",
       "      <td>good</td>\n",
       "    </tr>\n",
       "  </tbody>\n",
       "</table>\n",
       "<p>5 rows × 22 columns</p>\n",
       "</div>"
      ],
      "text/plain": [
       "       id 'checking_status'  'duration'                'credit_history'  \\\n",
       "995   996       no checking          12                   existing paid   \n",
       "996   997                <0          30                   existing paid   \n",
       "997   998       no checking          12                   existing paid   \n",
       "998   999                <0          45                   existing paid   \n",
       "999  1000          0<=X<200          45  critical/other existing credit   \n",
       "\n",
       "               'purpose'  'credit_amount' 'savings_status' 'employment'  \\\n",
       "995  furniture/equipment             1736             <100       4<=X<7   \n",
       "996             used car             3857             <100       1<=X<4   \n",
       "997             radio/tv              804             <100          >=7   \n",
       "998             radio/tv             1845             <100       1<=X<4   \n",
       "999             used car             4576       100<=X<500   unemployed   \n",
       "\n",
       "     'installment_commitment'   'personal_status'  ... 'property_magnitude'  \\\n",
       "995                         3  female div/dep/mar  ...          real estate   \n",
       "996                         4        male div/sep  ...       life insurance   \n",
       "997                         4         male single  ...                  car   \n",
       "998                         4         male single  ...    no known property   \n",
       "999                         3         male single  ...                  car   \n",
       "\n",
       "     'age' 'other_payment_plans'  'housing' 'existing_credits'  \\\n",
       "995     31                  none        own                  1   \n",
       "996     40                  none        own                  1   \n",
       "997     38                  none        own                  1   \n",
       "998     23                  none   for free                  1   \n",
       "999     27                  none        own                  1   \n",
       "\n",
       "                         'job'  'num_dependents' 'own_telephone'  \\\n",
       "995         unskilled resident                 1            none   \n",
       "996  high qualif/self emp/mgmt                 1             yes   \n",
       "997                    skilled                 1            none   \n",
       "998                    skilled                 1             yes   \n",
       "999                    skilled                 1            none   \n",
       "\n",
       "     'foreign_worker' 'class'  \n",
       "995               yes    good  \n",
       "996               yes    good  \n",
       "997               yes    good  \n",
       "998               yes     bad  \n",
       "999               yes    good  \n",
       "\n",
       "[5 rows x 22 columns]"
      ]
     },
     "execution_count": 153,
     "metadata": {},
     "output_type": "execute_result"
    }
   ],
   "source": [
    "dataset = pd.read_csv('csv_result-dataset_31_credit-g.csv')\n",
    "dataset.tail()"
   ]
  },
  {
   "cell_type": "code",
   "execution_count": 154,
   "id": "f0e576dc",
   "metadata": {},
   "outputs": [
    {
     "data": {
      "text/html": [
       "<div>\n",
       "<style scoped>\n",
       "    .dataframe tbody tr th:only-of-type {\n",
       "        vertical-align: middle;\n",
       "    }\n",
       "\n",
       "    .dataframe tbody tr th {\n",
       "        vertical-align: top;\n",
       "    }\n",
       "\n",
       "    .dataframe thead th {\n",
       "        text-align: right;\n",
       "    }\n",
       "</style>\n",
       "<table border=\"1\" class=\"dataframe\">\n",
       "  <thead>\n",
       "    <tr style=\"text-align: right;\">\n",
       "      <th></th>\n",
       "      <th>id</th>\n",
       "      <th>'checking_status'</th>\n",
       "      <th>'duration'</th>\n",
       "      <th>'credit_history'</th>\n",
       "      <th>'purpose'</th>\n",
       "      <th>'credit_amount'</th>\n",
       "      <th>'savings_status'</th>\n",
       "      <th>'employment'</th>\n",
       "      <th>'installment_commitment'</th>\n",
       "      <th>'personal_status'</th>\n",
       "      <th>...</th>\n",
       "      <th>'property_magnitude'</th>\n",
       "      <th>'age'</th>\n",
       "      <th>'other_payment_plans'</th>\n",
       "      <th>'housing'</th>\n",
       "      <th>'existing_credits'</th>\n",
       "      <th>'job'</th>\n",
       "      <th>'num_dependents'</th>\n",
       "      <th>'own_telephone'</th>\n",
       "      <th>'foreign_worker'</th>\n",
       "      <th>'class'</th>\n",
       "    </tr>\n",
       "  </thead>\n",
       "  <tbody>\n",
       "    <tr>\n",
       "      <th>995</th>\n",
       "      <td>996</td>\n",
       "      <td>3</td>\n",
       "      <td>12</td>\n",
       "      <td>3</td>\n",
       "      <td>3</td>\n",
       "      <td>1736</td>\n",
       "      <td>2</td>\n",
       "      <td>1</td>\n",
       "      <td>3</td>\n",
       "      <td>0</td>\n",
       "      <td>...</td>\n",
       "      <td>3</td>\n",
       "      <td>31</td>\n",
       "      <td>1</td>\n",
       "      <td>1</td>\n",
       "      <td>1</td>\n",
       "      <td>3</td>\n",
       "      <td>1</td>\n",
       "      <td>0</td>\n",
       "      <td>1</td>\n",
       "      <td>1</td>\n",
       "    </tr>\n",
       "    <tr>\n",
       "      <th>996</th>\n",
       "      <td>997</td>\n",
       "      <td>1</td>\n",
       "      <td>30</td>\n",
       "      <td>3</td>\n",
       "      <td>9</td>\n",
       "      <td>3857</td>\n",
       "      <td>2</td>\n",
       "      <td>0</td>\n",
       "      <td>4</td>\n",
       "      <td>1</td>\n",
       "      <td>...</td>\n",
       "      <td>1</td>\n",
       "      <td>40</td>\n",
       "      <td>1</td>\n",
       "      <td>1</td>\n",
       "      <td>1</td>\n",
       "      <td>0</td>\n",
       "      <td>1</td>\n",
       "      <td>1</td>\n",
       "      <td>1</td>\n",
       "      <td>1</td>\n",
       "    </tr>\n",
       "    <tr>\n",
       "      <th>997</th>\n",
       "      <td>998</td>\n",
       "      <td>3</td>\n",
       "      <td>12</td>\n",
       "      <td>3</td>\n",
       "      <td>6</td>\n",
       "      <td>804</td>\n",
       "      <td>2</td>\n",
       "      <td>3</td>\n",
       "      <td>4</td>\n",
       "      <td>3</td>\n",
       "      <td>...</td>\n",
       "      <td>0</td>\n",
       "      <td>38</td>\n",
       "      <td>1</td>\n",
       "      <td>1</td>\n",
       "      <td>1</td>\n",
       "      <td>1</td>\n",
       "      <td>1</td>\n",
       "      <td>0</td>\n",
       "      <td>1</td>\n",
       "      <td>1</td>\n",
       "    </tr>\n",
       "    <tr>\n",
       "      <th>998</th>\n",
       "      <td>999</td>\n",
       "      <td>1</td>\n",
       "      <td>45</td>\n",
       "      <td>3</td>\n",
       "      <td>6</td>\n",
       "      <td>1845</td>\n",
       "      <td>2</td>\n",
       "      <td>0</td>\n",
       "      <td>4</td>\n",
       "      <td>3</td>\n",
       "      <td>...</td>\n",
       "      <td>2</td>\n",
       "      <td>23</td>\n",
       "      <td>1</td>\n",
       "      <td>0</td>\n",
       "      <td>1</td>\n",
       "      <td>1</td>\n",
       "      <td>1</td>\n",
       "      <td>1</td>\n",
       "      <td>1</td>\n",
       "      <td>0</td>\n",
       "    </tr>\n",
       "    <tr>\n",
       "      <th>999</th>\n",
       "      <td>1000</td>\n",
       "      <td>0</td>\n",
       "      <td>45</td>\n",
       "      <td>1</td>\n",
       "      <td>9</td>\n",
       "      <td>4576</td>\n",
       "      <td>0</td>\n",
       "      <td>4</td>\n",
       "      <td>3</td>\n",
       "      <td>3</td>\n",
       "      <td>...</td>\n",
       "      <td>0</td>\n",
       "      <td>27</td>\n",
       "      <td>1</td>\n",
       "      <td>1</td>\n",
       "      <td>1</td>\n",
       "      <td>1</td>\n",
       "      <td>1</td>\n",
       "      <td>0</td>\n",
       "      <td>1</td>\n",
       "      <td>1</td>\n",
       "    </tr>\n",
       "  </tbody>\n",
       "</table>\n",
       "<p>5 rows × 22 columns</p>\n",
       "</div>"
      ],
      "text/plain": [
       "       id  'checking_status'  'duration'  'credit_history'  'purpose'  \\\n",
       "995   996                  3          12                 3          3   \n",
       "996   997                  1          30                 3          9   \n",
       "997   998                  3          12                 3          6   \n",
       "998   999                  1          45                 3          6   \n",
       "999  1000                  0          45                 1          9   \n",
       "\n",
       "     'credit_amount'  'savings_status'  'employment'  \\\n",
       "995             1736                 2             1   \n",
       "996             3857                 2             0   \n",
       "997              804                 2             3   \n",
       "998             1845                 2             0   \n",
       "999             4576                 0             4   \n",
       "\n",
       "     'installment_commitment'  'personal_status'  ...  'property_magnitude'  \\\n",
       "995                         3                  0  ...                     3   \n",
       "996                         4                  1  ...                     1   \n",
       "997                         4                  3  ...                     0   \n",
       "998                         4                  3  ...                     2   \n",
       "999                         3                  3  ...                     0   \n",
       "\n",
       "     'age'  'other_payment_plans'  'housing'  'existing_credits'  'job'  \\\n",
       "995     31                      1          1                   1      3   \n",
       "996     40                      1          1                   1      0   \n",
       "997     38                      1          1                   1      1   \n",
       "998     23                      1          0                   1      1   \n",
       "999     27                      1          1                   1      1   \n",
       "\n",
       "     'num_dependents'  'own_telephone'  'foreign_worker'  'class'  \n",
       "995                 1                0                 1        1  \n",
       "996                 1                1                 1        1  \n",
       "997                 1                0                 1        1  \n",
       "998                 1                1                 1        0  \n",
       "999                 1                0                 1        1  \n",
       "\n",
       "[5 rows x 22 columns]"
      ]
     },
     "execution_count": 154,
     "metadata": {},
     "output_type": "execute_result"
    }
   ],
   "source": [
    "for column in [\"'checking_status'\", \"'credit_history'\",\n",
    "       \"'purpose'\",  \"'savings_status'\", \"'employment'\",\n",
    "        \"'personal_status'\", \"'other_parties'\",\n",
    "        \"'property_magnitude'\", \n",
    "       \"'other_payment_plans'\", \"'housing'\",  \"'job'\",\n",
    "        \"'own_telephone'\", \"'foreign_worker'\", \"'class'\"]:\n",
    "    le = LabelEncoder()\n",
    "    dataset[column] = le.fit_transform(dataset[column])\n",
    "dataset.tail()"
   ]
  },
  {
   "cell_type": "code",
   "execution_count": 155,
   "id": "ef28b332",
   "metadata": {},
   "outputs": [],
   "source": [
    "dataset.head()\n",
    "X = dataset.iloc[:, 1:-1]\n",
    "y = dataset.iloc[:, -1].values\n",
    "X_train, X_test, y_train, y_test = train_test_split(X, y, test_size=0.3, random_state=0)\n",
    "\n"
   ]
  },
  {
   "cell_type": "code",
   "execution_count": 156,
   "id": "e250877d",
   "metadata": {},
   "outputs": [],
   "source": [
    "# Fazer uma cópia do X_train\n",
    "X_train_scaled = X_train.copy()\n",
    "X_test_scaled=X_test.copy()\n",
    "\n",
    "selected_columns = []\n",
    "for column in dataset.columns:\n",
    "    if not column in ['id',\"'checking_status'\", \"'credit_history'\",\n",
    "       \"'purpose'\",  \"'savings_status'\", \"'employment'\",\n",
    "        \"'personal_status'\", \"'other_parties'\",\n",
    "        \"'property_magnitude'\", \n",
    "       \"'other_payment_plans'\", \"'housing'\",  \"'job'\",\n",
    "        \"'own_telephone'\", \"'foreign_worker'\", \"'class'\"]:\n",
    "        selected_columns.append(column)\n",
    "\n",
    "\n",
    "# Aplicar o MinMaxScaler apenas às colunas selecionadas na cópia do X_train\n",
    "X_train_scaled[selected_columns] = scaler.fit_transform(X_train[selected_columns])\n",
    "\n",
    "# Aplicar o mesmo scaler aos dados de teste selecionados\n",
    "X_test_scaled[selected_columns] = scaler.transform(X_test[selected_columns])\n"
   ]
  },
  {
   "cell_type": "code",
   "execution_count": 157,
   "id": "a1b23379",
   "metadata": {},
   "outputs": [],
   "source": [
    "accuracy=[]"
   ]
  },
  {
   "cell_type": "markdown",
   "id": "b59693b6",
   "metadata": {},
   "source": [
    "## Teste 1\n",
    "### Modelo que obtemos diretamente a partir do sklearn"
   ]
  },
  {
   "cell_type": "code",
   "execution_count": 158,
   "id": "d44770ee",
   "metadata": {},
   "outputs": [
    {
     "data": {
      "text/plain": [
       "7"
      ]
     },
     "execution_count": 158,
     "metadata": {},
     "output_type": "execute_result"
    }
   ],
   "source": [
    "#find_best_k(X_train_scaled, X_test_scaled, y_train, y_test,KNN)"
   ]
  },
  {
   "cell_type": "code",
   "execution_count": 159,
   "id": "a9b80223",
   "metadata": {},
   "outputs": [
    {
     "name": "stdout",
     "output_type": "stream",
     "text": [
      "Accuracy =  0.6966666666666667\n"
     ]
    }
   ],
   "source": [
    "KNN=KNeighborsClassifier(n_neighbors=7)\n",
    "KNN.fit(X_train_scaled,y_train)\n",
    "Y_pred=KNN.predict(X_test_scaled)\n",
    "print(\"Accuracy = \", accuracy_score(y_test,Y_pred))\n",
    "accuracy.append(accuracy_score(y_test,Y_pred))"
   ]
  },
  {
   "cell_type": "markdown",
   "id": "4273f7a4",
   "metadata": {},
   "source": [
    "## Teste 2\n",
    "### Código do modelo sem alteração"
   ]
  },
  {
   "cell_type": "code",
   "execution_count": 160,
   "id": "0316e7f6",
   "metadata": {},
   "outputs": [
    {
     "data": {
      "text/plain": [
       "7"
      ]
     },
     "execution_count": 160,
     "metadata": {},
     "output_type": "execute_result"
    }
   ],
   "source": [
    "#find_best_k(X_train_scaled, X_test_scaled, y_train, y_test,KNNNormal)"
   ]
  },
  {
   "cell_type": "code",
   "execution_count": 161,
   "id": "ed3fa2ca",
   "metadata": {},
   "outputs": [],
   "source": [
    "KNN2=KNNNormal(7) #our model\n",
    "KNN2.fit(X_train_scaled,y_train)"
   ]
  },
  {
   "cell_type": "code",
   "execution_count": 162,
   "id": "0542824d",
   "metadata": {},
   "outputs": [
    {
     "name": "stdout",
     "output_type": "stream",
     "text": [
      "Accuracy =  0.6966666666666667\n"
     ]
    }
   ],
   "source": [
    "Y1_pred = KNN2.predict(X_test_scaled)\n",
    "print(\"Accuracy = \", accuracy_score(y_test, Y1_pred))\n",
    "accuracy.append(accuracy_score(y_test,Y1_pred))"
   ]
  },
  {
   "cell_type": "markdown",
   "id": "4f817b85",
   "metadata": {},
   "source": [
    "## Teste 3 \n",
    "### Distância de Manhattan"
   ]
  },
  {
   "cell_type": "code",
   "execution_count": 163,
   "id": "c7483e0a",
   "metadata": {},
   "outputs": [
    {
     "data": {
      "text/plain": [
       "3"
      ]
     },
     "execution_count": 163,
     "metadata": {},
     "output_type": "execute_result"
    }
   ],
   "source": [
    "#find_best_k(X_train_scaled, X_test_scaled, y_train, y_test,KNNManhattan)"
   ]
  },
  {
   "cell_type": "code",
   "execution_count": 164,
   "id": "e6263fdd",
   "metadata": {},
   "outputs": [],
   "source": [
    "KNN3=KNNManhattan(3) #our model\n",
    "KNN3.fit(X_train_scaled,y_train)"
   ]
  },
  {
   "cell_type": "code",
   "execution_count": 165,
   "id": "7eab235f",
   "metadata": {},
   "outputs": [
    {
     "name": "stdout",
     "output_type": "stream",
     "text": [
      "Accuracy =  0.72\n"
     ]
    }
   ],
   "source": [
    "Y1_pred = KNN3.predict(X_test_scaled)\n",
    "print(\"Accuracy = \", accuracy_score(y_test, Y1_pred))\n",
    "accuracy.append(accuracy_score(y_test,Y1_pred))"
   ]
  },
  {
   "cell_type": "markdown",
   "id": "bdcdaadc",
   "metadata": {},
   "source": [
    "## Teste 4\n",
    "### Distância de Hamming \n"
   ]
  },
  {
   "cell_type": "code",
   "execution_count": 166,
   "id": "47fc230a",
   "metadata": {},
   "outputs": [
    {
     "data": {
      "text/plain": [
       "5"
      ]
     },
     "execution_count": 166,
     "metadata": {},
     "output_type": "execute_result"
    }
   ],
   "source": [
    "#find_best_k(X_train_scaled, X_test_scaled, y_train, y_test,KNNHamming)"
   ]
  },
  {
   "cell_type": "code",
   "execution_count": 167,
   "id": "654eaec8",
   "metadata": {},
   "outputs": [],
   "source": [
    "KNN4=KNNHamming(5) #our model\n",
    "KNN4.fit(X_train_scaled,y_train)"
   ]
  },
  {
   "cell_type": "code",
   "execution_count": 168,
   "id": "a0c7e284",
   "metadata": {},
   "outputs": [
    {
     "name": "stdout",
     "output_type": "stream",
     "text": [
      "Accuracy =  0.7433333333333333\n"
     ]
    }
   ],
   "source": [
    "Y1_pred = KNN4.predict(X_test_scaled)\n",
    "print(\"Accuracy = \", accuracy_score(y_test, Y1_pred))\n",
    "accuracy.append(accuracy_score(y_test,Y1_pred))"
   ]
  },
  {
   "cell_type": "markdown",
   "id": "0d1f7b7a",
   "metadata": {},
   "source": [
    "## Teste 5\n",
    "### Distância de Jaccard"
   ]
  },
  {
   "cell_type": "code",
   "execution_count": 169,
   "id": "1410f18a",
   "metadata": {},
   "outputs": [
    {
     "data": {
      "text/plain": [
       "7"
      ]
     },
     "execution_count": 169,
     "metadata": {},
     "output_type": "execute_result"
    }
   ],
   "source": [
    "#find_best_k(X_train_scaled, X_test_scaled, y_train, y_test,KNNJaccard)"
   ]
  },
  {
   "cell_type": "code",
   "execution_count": 170,
   "id": "53c90fc5",
   "metadata": {},
   "outputs": [],
   "source": [
    "KNN5=KNNJaccard(7) #our model\n",
    "KNN5.fit(X_train_scaled,y_train)"
   ]
  },
  {
   "cell_type": "code",
   "execution_count": 171,
   "id": "449508cc",
   "metadata": {},
   "outputs": [
    {
     "name": "stdout",
     "output_type": "stream",
     "text": [
      "Accuracy =  0.6633333333333333\n"
     ]
    }
   ],
   "source": [
    "Y1_pred = KNN5.predict(X_test_scaled)\n",
    "print(\"Accuracy = \", accuracy_score(y_test, Y1_pred))\n",
    "accuracy.append(accuracy_score(y_test,Y1_pred))"
   ]
  },
  {
   "cell_type": "markdown",
   "id": "576ba717",
   "metadata": {},
   "source": [
    "## Teste 6\n",
    "### Distância de Chebyshev"
   ]
  },
  {
   "cell_type": "code",
   "execution_count": 172,
   "id": "1a0dd164",
   "metadata": {},
   "outputs": [
    {
     "data": {
      "text/plain": [
       "6"
      ]
     },
     "execution_count": 172,
     "metadata": {},
     "output_type": "execute_result"
    }
   ],
   "source": [
    "#find_best_k(X_train_scaled, X_test_scaled, y_train, y_test,KNNChebyshev)"
   ]
  },
  {
   "cell_type": "code",
   "execution_count": 173,
   "id": "115d8e85",
   "metadata": {},
   "outputs": [],
   "source": [
    "KNN6=KNNChebyshev(6) #our model\n",
    "KNN6.fit(X_train_scaled,y_train)"
   ]
  },
  {
   "cell_type": "code",
   "execution_count": 174,
   "id": "9766dfa1",
   "metadata": {},
   "outputs": [
    {
     "name": "stdout",
     "output_type": "stream",
     "text": [
      "Accuracy =  0.6733333333333333\n"
     ]
    }
   ],
   "source": [
    "Y1_pred = KNN6.predict(X_test_scaled)\n",
    "print(\"Accuracy = \", accuracy_score(y_test, Y1_pred))\n",
    "accuracy.append(accuracy_score(y_test,Y1_pred))"
   ]
  },
  {
   "cell_type": "markdown",
   "id": "4c3896fd",
   "metadata": {},
   "source": [
    "### Análise"
   ]
  },
  {
   "cell_type": "code",
   "execution_count": 175,
   "id": "637a6494",
   "metadata": {},
   "outputs": [
    {
     "data": {
      "image/png": "[encoded data removed]",
      "text/plain": [
       "<Figure size 432x288 with 1 Axes>"
      ]
     },
     "metadata": {
      "needs_background": "light"
     },
     "output_type": "display_data"
    }
   ],
   "source": [
    "plt.plot(accuracy)\n",
    "plt.xlabel(\"Model\")\n",
    "plt.ylabel(\"Accuracy\")\n",
    "plt.title(\"KNN Performance for k=5\")\n",
    "plt.xticks(range(6), ['KNN','KNNNormal','KNNManhattan','KNNHamming','KNNJaccard','KNNChebyshev'])\n",
    "plt.show()\n"
   ]
  },
  {
   "cell_type": "markdown",
   "id": "4afed5d1",
   "metadata": {},
   "source": [
    "### Com as medidas todas vemos que a distância de Jaccard desce para muito e a distância de Hamming aumenta bastante pois esta distância é boa em dados categóricos que estão em maioria neste dataset."
   ]
  },
  {
   "cell_type": "code",
   "execution_count": null,
   "id": "e2518b74",
   "metadata": {},
   "outputs": [],
   "source": []
  }
 ],
 "metadata": {
  "kernelspec": {
   "display_name": "Python 3 (ipykernel)",
   "language": "python",
   "name": "python3"
  },
  "language_info": {
   "codemirror_mode": {
    "name": "ipython",
    "version": 3
   },
   "file_extension": ".py",
   "mimetype": "text/x-python",
   "name": "python",
   "nbconvert_exporter": "python",
   "pygments_lexer": "ipython3",
   "version": "3.10.0"
  }
 },
 "nbformat": 4,
 "nbformat_minor": 5
}
