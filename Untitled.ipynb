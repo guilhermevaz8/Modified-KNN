{
 "cells": [
  {
   "cell_type": "code",
   "execution_count": 1,
   "id": "929297f1",
   "metadata": {},
   "outputs": [],
   "source": [
    "import pandas as pd\n",
    "import os\n",
    "import numpy as np\n",
    "from sklearn.model_selection import train_test_split\n",
    "import matplotlib.pyplot as plt\n",
    "from sklearn.preprocessing import LabelEncoder\n",
    "import seaborn as sns\n",
    "import pandas as pd\n",
    "import matplotlib.pyplot as plt\n",
    "import matplotlib.pyplot as plt\n",
    "import pandas as pd\n",
    "import numpy as np\n",
    "from sklearn.metrics import accuracy_score\n",
    "from sklearn.neighbors import KNeighborsClassifier"
   ]
  },
  {
   "cell_type": "markdown",
   "id": "2d1d15e5",
   "metadata": {},
   "source": [
    "## Criação dos modelos com as diferentes distâncias:\n",
    "\n",
    "### Modelo sklearn"
   ]
  },
  {
   "cell_type": "code",
   "execution_count": 2,
   "id": "0100941a",
   "metadata": {},
   "outputs": [],
   "source": [
    "KNN=KNeighborsClassifier()"
   ]
  },
  {
   "cell_type": "markdown",
   "id": "b61575c5",
   "metadata": {},
   "source": [
    "### Modelo implementado, sem alteração"
   ]
  },
  {
   "cell_type": "code",
   "execution_count": 4,
   "id": "6dd11874",
   "metadata": {},
   "outputs": [],
   "source": [
    "from math import sqrt\n",
    "class KNNNormal():\n",
    "  def __init__(self,k):\n",
    "    self.k=k\n",
    "    print(self.k)\n",
    "  def fit(self,X_train,y_train):\n",
    "    self.x_train=X_train\n",
    "    self.y_train=y_train\n",
    "  def calculate_euclidean(self,sample1,sample2):\n",
    "    distance=0.0\n",
    "    for i in range(len(sample1)):\n",
    "      distance+=(sample1[i]-sample2[i])**2 #Euclidean Distance = sqrt(sum i to N (x1_i – x2_i)^2)\n",
    "    return sqrt(distance)\n",
    "  def nearest_neighbors(self,test_sample):\n",
    "    distances=[]#calculate distances from a test sample to every sample in a training set\n",
    "    for i in range(len(self.x_train)):\n",
    "      distances.append((self.y_train[i],self.calculate_euclidean(self.x_train[i],test_sample)))\n",
    "    distances.sort(key=lambda x:x[1])#sort in ascending order, based on a distance value\n",
    "    neighbors=[]\n",
    "    for i in range(self.k): #get first k samples\n",
    "      neighbors.append(distances[i][0])\n",
    "    return neighbors\n",
    "  def predict(self,test_set):\n",
    "    predictions=[]\n",
    "    for test_sample in test_set:\n",
    "      neighbors=self.nearest_neighbors(test_sample)\n",
    "      labels=[sample for sample in neighbors]\n",
    "      prediction=max(labels,key=labels.count)\n",
    "      predictions.append(prediction)\n",
    "    return predictions"
   ]
  },
  {
   "cell_type": "markdown",
   "id": "7699750d",
   "metadata": {},
   "source": [
    "### Modelo com distância de Manhattan"
   ]
  },
  {
   "cell_type": "code",
   "execution_count": 5,
   "id": "f689c53a",
   "metadata": {},
   "outputs": [],
   "source": [
    "from math import sqrt\n",
    "class KNNManhattan():\n",
    "  def __init__(self,k):\n",
    "    self.k=k\n",
    "    print(self.k)\n",
    "  def fit(self,X_train,y_train):\n",
    "    self.x_train=X_train\n",
    "    self.y_train=y_train\n",
    "  def calculate_manhattan(self, sample1, sample2):\n",
    "    distance = 0.0\n",
    "    for i in range(len(sample1)):\n",
    "        distance += abs(sample1[i] - sample2[i]) # Manhattan Distance = sum i to N |x1_i – x2_i|\n",
    "    return distance\n",
    "  def nearest_neighbors(self,test_sample):\n",
    "    distances=[]#calculate distances from a test sample to every sample in a training set\n",
    "    for i in range(len(self.x_train)):\n",
    "      distances.append((self.y_train[i],self.calculate_manhattan(self.x_train[i],test_sample)))\n",
    "    distances.sort(key=lambda x:x[1])#sort in ascending order, based on a distance value\n",
    "    neighbors=[]\n",
    "    for i in range(self.k): #get first k samples\n",
    "      neighbors.append(distances[i][0])\n",
    "    return neighbors\n",
    "  def predict(self,test_set):\n",
    "    predictions=[]\n",
    "    for test_sample in test_set:\n",
    "      neighbors=self.nearest_neighbors(test_sample)\n",
    "      labels=[sample for sample in neighbors]\n",
    "      prediction=max(labels,key=labels.count)\n",
    "      predictions.append(prediction)\n",
    "    return predictions"
   ]
  },
  {
   "cell_type": "markdown",
   "id": "36316947",
   "metadata": {},
   "source": [
    "### Modelo com distância de Hamling"
   ]
  },
  {
   "cell_type": "code",
   "execution_count": 6,
   "id": "4b865ad1",
   "metadata": {},
   "outputs": [],
   "source": [
    "from math import sqrt\n",
    "class KNNHamling():\n",
    "  def __init__(self,k):\n",
    "    self.k=k\n",
    "    print(self.k)\n",
    "  def fit(self,X_train,y_train):\n",
    "    self.x_train=X_train\n",
    "    self.y_train=y_train\n",
    "  def calculate_hamming(self, sample1, sample2):\n",
    "    distance = sum(1 for i in range(len(sample1)) if sample1[i] != sample2[i])\n",
    "    return distance\n",
    "\n",
    "  def nearest_neighbors(self,test_sample):\n",
    "    distances=[]#calculate distances from a test sample to every sample in a training set\n",
    "    for i in range(len(self.x_train)):\n",
    "      distances.append((self.y_train[i],self.calculate_hamming(self.x_train[i],test_sample)))\n",
    "    distances.sort(key=lambda x:x[1])#sort in ascending order, based on a distance value\n",
    "    neighbors=[]\n",
    "    for i in range(self.k): #get first k samples\n",
    "      neighbors.append(distances[i][0])\n",
    "    return neighbors\n",
    "  def predict(self,test_set):\n",
    "    predictions=[]\n",
    "    for test_sample in test_set:\n",
    "      neighbors=self.nearest_neighbors(test_sample)\n",
    "      labels=[sample for sample in neighbors]\n",
    "      prediction=max(labels,key=labels.count)\n",
    "      predictions.append(prediction)\n",
    "    return predictions"
   ]
  },
  {
   "cell_type": "markdown",
   "id": "618f073a",
   "metadata": {},
   "source": [
    "### Modelo com distância de jaccard"
   ]
  },
  {
   "cell_type": "code",
   "execution_count": 7,
   "id": "3836c9b5",
   "metadata": {},
   "outputs": [],
   "source": [
    "from math import sqrt\n",
    "class KNNJaccard():\n",
    "  def __init__(self,k):\n",
    "    self.k=k\n",
    "    print(self.k)\n",
    "  def fit(self,X_train,y_train):\n",
    "    self.x_train=X_train\n",
    "    self.y_train=y_train\n",
    "  def calculate_jaccard(self, sample1, sample2):\n",
    "    set1 = set(sample1)\n",
    "    set2 = set(sample2)\n",
    "    intersection = len(set1.intersection(set2))\n",
    "    union = len(set1.union(set2))\n",
    "    distance = 1 - (intersection / union)\n",
    "    return distance\n",
    "\n",
    "  def nearest_neighbors(self,test_sample):\n",
    "    distances=[]#calculate distances from a test sample to every sample in a training set\n",
    "    for i in range(len(self.x_train)):\n",
    "      distances.append((self.y_train[i],self.calculate_jaccard(self.x_train[i],test_sample)))\n",
    "    distances.sort(key=lambda x:x[1])#sort in ascending order, based on a distance value\n",
    "    neighbors=[]\n",
    "    for i in range(self.k): #get first k samples\n",
    "      neighbors.append(distances[i][0])\n",
    "    return neighbors\n",
    "  def predict(self,test_set):\n",
    "    predictions=[]\n",
    "    for test_sample in test_set:\n",
    "      neighbors=self.nearest_neighbors(test_sample)\n",
    "      labels=[sample for sample in neighbors]\n",
    "      prediction=max(labels,key=labels.count)\n",
    "      predictions.append(prediction)\n",
    "    return predictions"
   ]
  },
  {
   "cell_type": "markdown",
   "id": "f638d8ea",
   "metadata": {},
   "source": [
    "### Modelo com a distância de Chebyshev"
   ]
  },
  {
   "cell_type": "code",
   "execution_count": 8,
   "id": "c9cb5690",
   "metadata": {},
   "outputs": [],
   "source": [
    "from math import sqrt\n",
    "class KNNChebyshev():\n",
    "  def __init__(self,k):\n",
    "    self.k=k\n",
    "    print(self.k)\n",
    "  def fit(self,X_train,y_train):\n",
    "    self.x_train=X_train\n",
    "    self.y_train=y_train\n",
    "  def calculate_chebyshev(self,sample1,sample2):\n",
    "    distance = max([abs(sample1[i]-sample2[i]) for i in range(len(sample1))])\n",
    "    return distance\n",
    "  def nearest_neighbors(self,test_sample):\n",
    "    distances=[]#calculate distances from a test sample to every sample in a training set\n",
    "    for i in range(len(self.x_train)):\n",
    "      distances.append((self.y_train[i],self.calculate_chebyshev(self.x_train[i],test_sample)))\n",
    "    distances.sort(key=lambda x:x[1])#sort in ascending order, based on a distance value\n",
    "    neighbors=[]\n",
    "    for i in range(self.k): #get first k samples\n",
    "      neighbors.append(distances[i][0])\n",
    "    return neighbors\n",
    "  def predict(self,test_set):\n",
    "    predictions=[]\n",
    "    for test_sample in test_set:\n",
    "      neighbors=self.nearest_neighbors(test_sample)\n",
    "      labels=[sample for sample in neighbors]\n",
    "      prediction=max(labels,key=labels.count)\n",
    "      predictions.append(prediction)\n",
    "    return predictions"
   ]
  },
  {
   "cell_type": "markdown",
   "id": "5d85e2f1",
   "metadata": {},
   "source": [
    "## Tratamento dos dados e teste dos modelos.\n",
    "### DATASET 1 - Animais"
   ]
  },
  {
   "cell_type": "code",
   "execution_count": 61,
   "id": "ba29c572",
   "metadata": {},
   "outputs": [
    {
     "data": {
      "image/png": "[encoded data removed]",
      "text/plain": [
       "<Figure size 432x288 with 1 Axes>"
      ]
     },
     "metadata": {
      "needs_background": "light"
     },
     "output_type": "display_data"
    }
   ],
   "source": [
    "dataset = pd.read_csv('adulto.csv')\n",
    "sns.boxplot(data=dataset)\n",
    "plt.show()"
   ]
  },
  {
   "cell_type": "code",
   "execution_count": 10,
   "id": "c05294b0",
   "metadata": {},
   "outputs": [
    {
     "data": {
      "text/html": [
       "<div>\n",
       "<style scoped>\n",
       "    .dataframe tbody tr th:only-of-type {\n",
       "        vertical-align: middle;\n",
       "    }\n",
       "\n",
       "    .dataframe tbody tr th {\n",
       "        vertical-align: top;\n",
       "    }\n",
       "\n",
       "    .dataframe thead th {\n",
       "        text-align: right;\n",
       "    }\n",
       "</style>\n",
       "<table border=\"1\" class=\"dataframe\">\n",
       "  <thead>\n",
       "    <tr style=\"text-align: right;\">\n",
       "      <th></th>\n",
       "      <th>id</th>\n",
       "      <th>age</th>\n",
       "      <th>workclass</th>\n",
       "      <th>fnlwgt</th>\n",
       "      <th>education</th>\n",
       "      <th>education-num</th>\n",
       "      <th>marital-status</th>\n",
       "      <th>occupation</th>\n",
       "      <th>relationship</th>\n",
       "      <th>race</th>\n",
       "      <th>sex</th>\n",
       "      <th>capital-gain</th>\n",
       "      <th>capital-loss</th>\n",
       "      <th>hours-per-week</th>\n",
       "      <th>native-country</th>\n",
       "      <th>class</th>\n",
       "    </tr>\n",
       "  </thead>\n",
       "  <tbody>\n",
       "    <tr>\n",
       "      <th>0</th>\n",
       "      <td>1</td>\n",
       "      <td>25</td>\n",
       "      <td>Private</td>\n",
       "      <td>226802</td>\n",
       "      <td>11th</td>\n",
       "      <td>7</td>\n",
       "      <td>Never-married</td>\n",
       "      <td>Machine-op-inspct</td>\n",
       "      <td>Own-child</td>\n",
       "      <td>Black</td>\n",
       "      <td>Male</td>\n",
       "      <td>0</td>\n",
       "      <td>0</td>\n",
       "      <td>40</td>\n",
       "      <td>United-States</td>\n",
       "      <td>&lt;=50K</td>\n",
       "    </tr>\n",
       "    <tr>\n",
       "      <th>1</th>\n",
       "      <td>2</td>\n",
       "      <td>38</td>\n",
       "      <td>Private</td>\n",
       "      <td>89814</td>\n",
       "      <td>HS-grad</td>\n",
       "      <td>9</td>\n",
       "      <td>Married-civ-spouse</td>\n",
       "      <td>Farming-fishing</td>\n",
       "      <td>Husband</td>\n",
       "      <td>White</td>\n",
       "      <td>Male</td>\n",
       "      <td>0</td>\n",
       "      <td>0</td>\n",
       "      <td>50</td>\n",
       "      <td>United-States</td>\n",
       "      <td>&lt;=50K</td>\n",
       "    </tr>\n",
       "    <tr>\n",
       "      <th>2</th>\n",
       "      <td>3</td>\n",
       "      <td>28</td>\n",
       "      <td>Local-gov</td>\n",
       "      <td>336951</td>\n",
       "      <td>Assoc-acdm</td>\n",
       "      <td>12</td>\n",
       "      <td>Married-civ-spouse</td>\n",
       "      <td>Protective-serv</td>\n",
       "      <td>Husband</td>\n",
       "      <td>White</td>\n",
       "      <td>Male</td>\n",
       "      <td>0</td>\n",
       "      <td>0</td>\n",
       "      <td>40</td>\n",
       "      <td>United-States</td>\n",
       "      <td>&gt;50K</td>\n",
       "    </tr>\n",
       "    <tr>\n",
       "      <th>3</th>\n",
       "      <td>4</td>\n",
       "      <td>44</td>\n",
       "      <td>Private</td>\n",
       "      <td>160323</td>\n",
       "      <td>Some-college</td>\n",
       "      <td>10</td>\n",
       "      <td>Married-civ-spouse</td>\n",
       "      <td>Machine-op-inspct</td>\n",
       "      <td>Husband</td>\n",
       "      <td>Black</td>\n",
       "      <td>Male</td>\n",
       "      <td>7688</td>\n",
       "      <td>0</td>\n",
       "      <td>40</td>\n",
       "      <td>United-States</td>\n",
       "      <td>&gt;50K</td>\n",
       "    </tr>\n",
       "    <tr>\n",
       "      <th>4</th>\n",
       "      <td>5</td>\n",
       "      <td>18</td>\n",
       "      <td>?</td>\n",
       "      <td>103497</td>\n",
       "      <td>Some-college</td>\n",
       "      <td>10</td>\n",
       "      <td>Never-married</td>\n",
       "      <td>?</td>\n",
       "      <td>Own-child</td>\n",
       "      <td>White</td>\n",
       "      <td>Female</td>\n",
       "      <td>0</td>\n",
       "      <td>0</td>\n",
       "      <td>30</td>\n",
       "      <td>United-States</td>\n",
       "      <td>&lt;=50K</td>\n",
       "    </tr>\n",
       "  </tbody>\n",
       "</table>\n",
       "</div>"
      ],
      "text/plain": [
       "   id  age  workclass  fnlwgt     education  education-num  \\\n",
       "0   1   25    Private  226802          11th              7   \n",
       "1   2   38    Private   89814       HS-grad              9   \n",
       "2   3   28  Local-gov  336951    Assoc-acdm             12   \n",
       "3   4   44    Private  160323  Some-college             10   \n",
       "4   5   18          ?  103497  Some-college             10   \n",
       "\n",
       "       marital-status         occupation relationship   race     sex  \\\n",
       "0       Never-married  Machine-op-inspct    Own-child  Black    Male   \n",
       "1  Married-civ-spouse    Farming-fishing      Husband  White    Male   \n",
       "2  Married-civ-spouse    Protective-serv      Husband  White    Male   \n",
       "3  Married-civ-spouse  Machine-op-inspct      Husband  Black    Male   \n",
       "4       Never-married                  ?    Own-child  White  Female   \n",
       "\n",
       "   capital-gain  capital-loss  hours-per-week native-country  class  \n",
       "0             0             0              40  United-States  <=50K  \n",
       "1             0             0              50  United-States  <=50K  \n",
       "2             0             0              40  United-States   >50K  \n",
       "3          7688             0              40  United-States   >50K  \n",
       "4             0             0              30  United-States  <=50K  "
      ]
     },
     "execution_count": 10,
     "metadata": {},
     "output_type": "execute_result"
    }
   ],
   "source": [
    "dataset.head()"
   ]
  },
  {
   "cell_type": "code",
   "execution_count": 11,
   "id": "6b9c80da",
   "metadata": {},
   "outputs": [],
   "source": [
    "for column in dataset.columns:\n",
    "    le = LabelEncoder()\n",
    "    dataset[column] = le.fit_transform(dataset[column])"
   ]
  },
  {
   "cell_type": "code",
   "execution_count": 62,
   "id": "80a4a82a",
   "metadata": {},
   "outputs": [
    {
     "data": {
      "text/html": [
       "<div>\n",
       "<style scoped>\n",
       "    .dataframe tbody tr th:only-of-type {\n",
       "        vertical-align: middle;\n",
       "    }\n",
       "\n",
       "    .dataframe tbody tr th {\n",
       "        vertical-align: top;\n",
       "    }\n",
       "\n",
       "    .dataframe thead th {\n",
       "        text-align: right;\n",
       "    }\n",
       "</style>\n",
       "<table border=\"1\" class=\"dataframe\">\n",
       "  <thead>\n",
       "    <tr style=\"text-align: right;\">\n",
       "      <th></th>\n",
       "      <th>id</th>\n",
       "      <th>age</th>\n",
       "      <th>workclass</th>\n",
       "      <th>fnlwgt</th>\n",
       "      <th>education</th>\n",
       "      <th>education-num</th>\n",
       "      <th>marital-status</th>\n",
       "      <th>occupation</th>\n",
       "      <th>relationship</th>\n",
       "      <th>race</th>\n",
       "      <th>sex</th>\n",
       "      <th>capital-gain</th>\n",
       "      <th>capital-loss</th>\n",
       "      <th>hours-per-week</th>\n",
       "      <th>native-country</th>\n",
       "      <th>class</th>\n",
       "    </tr>\n",
       "  </thead>\n",
       "  <tbody>\n",
       "    <tr>\n",
       "      <th>0</th>\n",
       "      <td>1</td>\n",
       "      <td>25</td>\n",
       "      <td>Private</td>\n",
       "      <td>226802</td>\n",
       "      <td>11th</td>\n",
       "      <td>7</td>\n",
       "      <td>Never-married</td>\n",
       "      <td>Machine-op-inspct</td>\n",
       "      <td>Own-child</td>\n",
       "      <td>Black</td>\n",
       "      <td>Male</td>\n",
       "      <td>0</td>\n",
       "      <td>0</td>\n",
       "      <td>40</td>\n",
       "      <td>United-States</td>\n",
       "      <td>&lt;=50K</td>\n",
       "    </tr>\n",
       "    <tr>\n",
       "      <th>1</th>\n",
       "      <td>2</td>\n",
       "      <td>38</td>\n",
       "      <td>Private</td>\n",
       "      <td>89814</td>\n",
       "      <td>HS-grad</td>\n",
       "      <td>9</td>\n",
       "      <td>Married-civ-spouse</td>\n",
       "      <td>Farming-fishing</td>\n",
       "      <td>Husband</td>\n",
       "      <td>White</td>\n",
       "      <td>Male</td>\n",
       "      <td>0</td>\n",
       "      <td>0</td>\n",
       "      <td>50</td>\n",
       "      <td>United-States</td>\n",
       "      <td>&lt;=50K</td>\n",
       "    </tr>\n",
       "    <tr>\n",
       "      <th>2</th>\n",
       "      <td>3</td>\n",
       "      <td>28</td>\n",
       "      <td>Local-gov</td>\n",
       "      <td>336951</td>\n",
       "      <td>Assoc-acdm</td>\n",
       "      <td>12</td>\n",
       "      <td>Married-civ-spouse</td>\n",
       "      <td>Protective-serv</td>\n",
       "      <td>Husband</td>\n",
       "      <td>White</td>\n",
       "      <td>Male</td>\n",
       "      <td>0</td>\n",
       "      <td>0</td>\n",
       "      <td>40</td>\n",
       "      <td>United-States</td>\n",
       "      <td>&gt;50K</td>\n",
       "    </tr>\n",
       "    <tr>\n",
       "      <th>3</th>\n",
       "      <td>4</td>\n",
       "      <td>44</td>\n",
       "      <td>Private</td>\n",
       "      <td>160323</td>\n",
       "      <td>Some-college</td>\n",
       "      <td>10</td>\n",
       "      <td>Married-civ-spouse</td>\n",
       "      <td>Machine-op-inspct</td>\n",
       "      <td>Husband</td>\n",
       "      <td>Black</td>\n",
       "      <td>Male</td>\n",
       "      <td>7688</td>\n",
       "      <td>0</td>\n",
       "      <td>40</td>\n",
       "      <td>United-States</td>\n",
       "      <td>&gt;50K</td>\n",
       "    </tr>\n",
       "    <tr>\n",
       "      <th>4</th>\n",
       "      <td>5</td>\n",
       "      <td>18</td>\n",
       "      <td>?</td>\n",
       "      <td>103497</td>\n",
       "      <td>Some-college</td>\n",
       "      <td>10</td>\n",
       "      <td>Never-married</td>\n",
       "      <td>?</td>\n",
       "      <td>Own-child</td>\n",
       "      <td>White</td>\n",
       "      <td>Female</td>\n",
       "      <td>0</td>\n",
       "      <td>0</td>\n",
       "      <td>30</td>\n",
       "      <td>United-States</td>\n",
       "      <td>&lt;=50K</td>\n",
       "    </tr>\n",
       "  </tbody>\n",
       "</table>\n",
       "</div>"
      ],
      "text/plain": [
       "   id  age  workclass  fnlwgt     education  education-num  \\\n",
       "0   1   25    Private  226802          11th              7   \n",
       "1   2   38    Private   89814       HS-grad              9   \n",
       "2   3   28  Local-gov  336951    Assoc-acdm             12   \n",
       "3   4   44    Private  160323  Some-college             10   \n",
       "4   5   18          ?  103497  Some-college             10   \n",
       "\n",
       "       marital-status         occupation relationship   race     sex  \\\n",
       "0       Never-married  Machine-op-inspct    Own-child  Black    Male   \n",
       "1  Married-civ-spouse    Farming-fishing      Husband  White    Male   \n",
       "2  Married-civ-spouse    Protective-serv      Husband  White    Male   \n",
       "3  Married-civ-spouse  Machine-op-inspct      Husband  Black    Male   \n",
       "4       Never-married                  ?    Own-child  White  Female   \n",
       "\n",
       "   capital-gain  capital-loss  hours-per-week native-country  class  \n",
       "0             0             0              40  United-States  <=50K  \n",
       "1             0             0              50  United-States  <=50K  \n",
       "2             0             0              40  United-States   >50K  \n",
       "3          7688             0              40  United-States   >50K  \n",
       "4             0             0              30  United-States  <=50K  "
      ]
     },
     "execution_count": 62,
     "metadata": {},
     "output_type": "execute_result"
    }
   ],
   "source": [
    "dataset.head()"
   ]
  },
  {
   "cell_type": "code",
   "execution_count": 63,
   "id": "25ba3b35",
   "metadata": {},
   "outputs": [],
   "source": [
    "X = dataset.iloc[:, 1:-1].values\n",
    "y = dataset.iloc[:, -1].values\n"
   ]
  },
  {
   "cell_type": "code",
   "execution_count": 64,
   "id": "c88a932f",
   "metadata": {},
   "outputs": [],
   "source": [
    "X_train, X_test, y_train, y_test = train_test_split(X, y, test_size=0.3, random_state=0)"
   ]
  },
  {
   "cell_type": "markdown",
   "id": "b16f4437",
   "metadata": {},
   "source": [
    "## Teste 1\n",
    "### Modelo que obtemos diretamente a partir do sklearn"
   ]
  },
  {
   "cell_type": "code",
   "execution_count": 65,
   "id": "d2c0d9e7",
   "metadata": {},
   "outputs": [],
   "source": [
    "KNN.fit(X_train,y_train)"
   ]
  },
  {
   "cell_type": "code",
   "execution_count": 66,
   "id": "3fbfd3a1",
   "metadata": {},
   "outputs": [
    {
     "ename": "TypeError",
     "evalue": "unsupported operand type(s) for -: 'str' and 'str'",
     "output_type": "error",
     "traceback": [
      "\u001b[1;31m---------------------------------------------------------------------------\u001b[0m",
      "\u001b[1;31mTypeError\u001b[0m                                 Traceback (most recent call last)",
      "Input \u001b[1;32mIn [66]\u001b[0m, in \u001b[0;36m<cell line: 1>\u001b[1;34m()\u001b[0m\n\u001b[1;32m----> 1\u001b[0m Y_pred\u001b[38;5;241m=\u001b[39m\u001b[43mKNN\u001b[49m\u001b[38;5;241;43m.\u001b[39;49m\u001b[43mpredict\u001b[49m\u001b[43m(\u001b[49m\u001b[43mX_test\u001b[49m\u001b[43m)\u001b[49m\n\u001b[0;32m      2\u001b[0m \u001b[38;5;28mprint\u001b[39m(\u001b[38;5;124m\"\u001b[39m\u001b[38;5;124mAccuracy = \u001b[39m\u001b[38;5;124m\"\u001b[39m, accuracy_score(y_test,Y_pred))\n",
      "Input \u001b[1;32mIn [4]\u001b[0m, in \u001b[0;36mKNNNormal.predict\u001b[1;34m(self, test_set)\u001b[0m\n\u001b[0;32m     24\u001b[0m predictions\u001b[38;5;241m=\u001b[39m[]\n\u001b[0;32m     25\u001b[0m \u001b[38;5;28;01mfor\u001b[39;00m test_sample \u001b[38;5;129;01min\u001b[39;00m test_set:\n\u001b[1;32m---> 26\u001b[0m   neighbors\u001b[38;5;241m=\u001b[39m\u001b[38;5;28;43mself\u001b[39;49m\u001b[38;5;241;43m.\u001b[39;49m\u001b[43mnearest_neighbors\u001b[49m\u001b[43m(\u001b[49m\u001b[43mtest_sample\u001b[49m\u001b[43m)\u001b[49m\n\u001b[0;32m     27\u001b[0m   labels\u001b[38;5;241m=\u001b[39m[sample \u001b[38;5;28;01mfor\u001b[39;00m sample \u001b[38;5;129;01min\u001b[39;00m neighbors]\n\u001b[0;32m     28\u001b[0m   prediction\u001b[38;5;241m=\u001b[39m\u001b[38;5;28mmax\u001b[39m(labels,key\u001b[38;5;241m=\u001b[39mlabels\u001b[38;5;241m.\u001b[39mcount)\n",
      "Input \u001b[1;32mIn [4]\u001b[0m, in \u001b[0;36mKNNNormal.nearest_neighbors\u001b[1;34m(self, test_sample)\u001b[0m\n\u001b[0;32m     15\u001b[0m distances\u001b[38;5;241m=\u001b[39m[]\u001b[38;5;66;03m#calculate distances from a test sample to every sample in a training set\u001b[39;00m\n\u001b[0;32m     16\u001b[0m \u001b[38;5;28;01mfor\u001b[39;00m i \u001b[38;5;129;01min\u001b[39;00m \u001b[38;5;28mrange\u001b[39m(\u001b[38;5;28mlen\u001b[39m(\u001b[38;5;28mself\u001b[39m\u001b[38;5;241m.\u001b[39mx_train)):\n\u001b[1;32m---> 17\u001b[0m   distances\u001b[38;5;241m.\u001b[39mappend((\u001b[38;5;28mself\u001b[39m\u001b[38;5;241m.\u001b[39my_train[i],\u001b[38;5;28;43mself\u001b[39;49m\u001b[38;5;241;43m.\u001b[39;49m\u001b[43mcalculate_euclidean\u001b[49m\u001b[43m(\u001b[49m\u001b[38;5;28;43mself\u001b[39;49m\u001b[38;5;241;43m.\u001b[39;49m\u001b[43mx_train\u001b[49m\u001b[43m[\u001b[49m\u001b[43mi\u001b[49m\u001b[43m]\u001b[49m\u001b[43m,\u001b[49m\u001b[43mtest_sample\u001b[49m\u001b[43m)\u001b[49m))\n\u001b[0;32m     18\u001b[0m distances\u001b[38;5;241m.\u001b[39msort(key\u001b[38;5;241m=\u001b[39m\u001b[38;5;28;01mlambda\u001b[39;00m x:x[\u001b[38;5;241m1\u001b[39m])\u001b[38;5;66;03m#sort in ascending order, based on a distance value\u001b[39;00m\n\u001b[0;32m     19\u001b[0m neighbors\u001b[38;5;241m=\u001b[39m[]\n",
      "Input \u001b[1;32mIn [4]\u001b[0m, in \u001b[0;36mKNNNormal.calculate_euclidean\u001b[1;34m(self, sample1, sample2)\u001b[0m\n\u001b[0;32m     10\u001b[0m distance\u001b[38;5;241m=\u001b[39m\u001b[38;5;241m0.0\u001b[39m\n\u001b[0;32m     11\u001b[0m \u001b[38;5;28;01mfor\u001b[39;00m i \u001b[38;5;129;01min\u001b[39;00m \u001b[38;5;28mrange\u001b[39m(\u001b[38;5;28mlen\u001b[39m(sample1)):\n\u001b[1;32m---> 12\u001b[0m   distance\u001b[38;5;241m+\u001b[39m\u001b[38;5;241m=\u001b[39m(\u001b[43msample1\u001b[49m\u001b[43m[\u001b[49m\u001b[43mi\u001b[49m\u001b[43m]\u001b[49m\u001b[38;5;241;43m-\u001b[39;49m\u001b[43msample2\u001b[49m\u001b[43m[\u001b[49m\u001b[43mi\u001b[49m\u001b[43m]\u001b[49m)\u001b[38;5;241m*\u001b[39m\u001b[38;5;241m*\u001b[39m\u001b[38;5;241m2\u001b[39m \u001b[38;5;66;03m#Euclidean Distance = sqrt(sum i to N (x1_i – x2_i)^2)\u001b[39;00m\n\u001b[0;32m     13\u001b[0m \u001b[38;5;28;01mreturn\u001b[39;00m sqrt(distance)\n",
      "\u001b[1;31mTypeError\u001b[0m: unsupported operand type(s) for -: 'str' and 'str'"
     ]
    }
   ],
   "source": [
    "Y_pred=KNN.predict(X_test)\n",
    "print(\"Accuracy = \", accuracy_score(y_test,Y_pred))"
   ]
  },
  {
   "cell_type": "markdown",
   "id": "82f08b71",
   "metadata": {},
   "source": [
    "## Teste 2\n",
    "### Código do modelo, sem a alteração"
   ]
  },
  {
   "cell_type": "code",
   "execution_count": 17,
   "id": "3b8f52fa",
   "metadata": {},
   "outputs": [
    {
     "name": "stdout",
     "output_type": "stream",
     "text": [
      "5\n"
     ]
    }
   ],
   "source": [
    "KNN2=KNNNormal(5) #our model\n",
    "KNN2.fit(X_train,y_train)"
   ]
  },
  {
   "cell_type": "code",
   "execution_count": 18,
   "id": "b988cbf9",
   "metadata": {},
   "outputs": [
    {
     "name": "stdout",
     "output_type": "stream",
     "text": [
      "Accuracy =  0.7833333333333333\n"
     ]
    }
   ],
   "source": [
    "Y1_pred = KNN2.predict(X_test)\n",
    "print(\"Accuracy = \", accuracy_score(y_test, Y1_pred))\n"
   ]
  },
  {
   "cell_type": "markdown",
   "id": "20190475",
   "metadata": {},
   "source": [
    "## Teste 3\n",
    "### Distância de Manhattan"
   ]
  },
  {
   "cell_type": "code",
   "execution_count": 19,
   "id": "fba6f017",
   "metadata": {},
   "outputs": [
    {
     "name": "stdout",
     "output_type": "stream",
     "text": [
      "5\n"
     ]
    }
   ],
   "source": [
    "KNN3=KNNManhattan(5) #our model\n",
    "KNN3.fit(X_train,y_train)"
   ]
  },
  {
   "cell_type": "code",
   "execution_count": 20,
   "id": "1197b6a0",
   "metadata": {},
   "outputs": [
    {
     "name": "stdout",
     "output_type": "stream",
     "text": [
      "Accuracy =  0.77\n"
     ]
    }
   ],
   "source": [
    "Y1_pred = KNN3.predict(X_test)\n",
    "print(\"Accuracy = \", accuracy_score(y_test, Y1_pred))"
   ]
  },
  {
   "cell_type": "markdown",
   "id": "62c7c33c",
   "metadata": {},
   "source": [
    "## Teste 4\n",
    "### Distância de Hamling"
   ]
  },
  {
   "cell_type": "code",
   "execution_count": 21,
   "id": "9db702c9",
   "metadata": {},
   "outputs": [
    {
     "name": "stdout",
     "output_type": "stream",
     "text": [
      "5\n"
     ]
    }
   ],
   "source": [
    "KNN4=KNNHamling(5) #our model\n",
    "KNN4.fit(X_train,y_train)"
   ]
  },
  {
   "cell_type": "code",
   "execution_count": 22,
   "id": "4f824780",
   "metadata": {},
   "outputs": [
    {
     "name": "stdout",
     "output_type": "stream",
     "text": [
      "Accuracy =  0.7966666666666666\n"
     ]
    }
   ],
   "source": [
    "Y1_pred = KNN4.predict(X_test)\n",
    "print(\"Accuracy = \", accuracy_score(y_test, Y1_pred))"
   ]
  },
  {
   "cell_type": "markdown",
   "id": "255403f6",
   "metadata": {},
   "source": [
    "## Teste 5\n",
    "### Distância de Jaccard"
   ]
  },
  {
   "cell_type": "code",
   "execution_count": 23,
   "id": "0358abb4",
   "metadata": {},
   "outputs": [
    {
     "name": "stdout",
     "output_type": "stream",
     "text": [
      "5\n"
     ]
    }
   ],
   "source": [
    "KNN5=KNNJaccard(5) #our model\n",
    "KNN5.fit(X_train,y_train)"
   ]
  },
  {
   "cell_type": "code",
   "execution_count": 24,
   "id": "594d827b",
   "metadata": {},
   "outputs": [
    {
     "name": "stdout",
     "output_type": "stream",
     "text": [
      "Accuracy =  0.7633333333333333\n"
     ]
    }
   ],
   "source": [
    "Y1_pred = KNN5.predict(X_test)\n",
    "print(\"Accuracy = \", accuracy_score(y_test, Y1_pred))"
   ]
  },
  {
   "cell_type": "markdown",
   "id": "7ba1e5f4",
   "metadata": {},
   "source": [
    "## Teste 6\n",
    "### Distância de Chebyshev"
   ]
  },
  {
   "cell_type": "code",
   "execution_count": 25,
   "id": "ab274f6e",
   "metadata": {},
   "outputs": [
    {
     "name": "stdout",
     "output_type": "stream",
     "text": [
      "5\n"
     ]
    }
   ],
   "source": [
    "KNN6=KNNChebyshev(5) #our model\n",
    "KNN6.fit(X_train,y_train)"
   ]
  },
  {
   "cell_type": "code",
   "execution_count": 26,
   "id": "48d88778",
   "metadata": {},
   "outputs": [
    {
     "name": "stdout",
     "output_type": "stream",
     "text": [
      "Accuracy =  0.77\n"
     ]
    }
   ],
   "source": [
    "Y1_pred = KNN6.predict(X_test)\n",
    "print(\"Accuracy = \", accuracy_score(y_test, Y1_pred))"
   ]
  },
  {
   "cell_type": "markdown",
   "id": "5d81ec10",
   "metadata": {},
   "source": [
    "### Dataset 2 -  Prever letras"
   ]
  },
  {
   "cell_type": "code",
   "execution_count": 60,
   "id": "6f892bf1",
   "metadata": {},
   "outputs": [
    {
     "data": {
      "image/png": "[encoded data removed]",
      "text/plain": [
       "<Figure size 432x288 with 1 Axes>"
      ]
     },
     "metadata": {
      "needs_background": "light"
     },
     "output_type": "display_data"
    }
   ],
   "source": [
    "dataset = pd.read_csv('letter.csv')\n",
    "sns.boxplot(data=dataset)\n",
    "plt.show()"
   ]
  },
  {
   "cell_type": "code",
   "execution_count": 42,
   "id": "cb48dcd5",
   "metadata": {},
   "outputs": [
    {
     "data": {
      "text/html": [
       "<div>\n",
       "<style scoped>\n",
       "    .dataframe tbody tr th:only-of-type {\n",
       "        vertical-align: middle;\n",
       "    }\n",
       "\n",
       "    .dataframe tbody tr th {\n",
       "        vertical-align: top;\n",
       "    }\n",
       "\n",
       "    .dataframe thead th {\n",
       "        text-align: right;\n",
       "    }\n",
       "</style>\n",
       "<table border=\"1\" class=\"dataframe\">\n",
       "  <thead>\n",
       "    <tr style=\"text-align: right;\">\n",
       "      <th></th>\n",
       "      <th>id</th>\n",
       "      <th>'x-box'</th>\n",
       "      <th>'y-box'</th>\n",
       "      <th>'width'</th>\n",
       "      <th>'high'</th>\n",
       "      <th>'onpix'</th>\n",
       "      <th>'x-bar'</th>\n",
       "      <th>'y-bar'</th>\n",
       "      <th>'x2bar'</th>\n",
       "      <th>'y2bar'</th>\n",
       "      <th>'xybar'</th>\n",
       "      <th>'x2ybr'</th>\n",
       "      <th>'xy2br'</th>\n",
       "      <th>'x-ege'</th>\n",
       "      <th>'xegvy'</th>\n",
       "      <th>'y-ege'</th>\n",
       "      <th>'yegvx'</th>\n",
       "      <th>'class'</th>\n",
       "    </tr>\n",
       "  </thead>\n",
       "  <tbody>\n",
       "    <tr>\n",
       "      <th>0</th>\n",
       "      <td>1</td>\n",
       "      <td>2</td>\n",
       "      <td>4</td>\n",
       "      <td>4</td>\n",
       "      <td>3</td>\n",
       "      <td>2</td>\n",
       "      <td>7</td>\n",
       "      <td>8</td>\n",
       "      <td>2</td>\n",
       "      <td>9</td>\n",
       "      <td>11</td>\n",
       "      <td>7</td>\n",
       "      <td>7</td>\n",
       "      <td>1</td>\n",
       "      <td>8</td>\n",
       "      <td>5</td>\n",
       "      <td>6</td>\n",
       "      <td>Z</td>\n",
       "    </tr>\n",
       "    <tr>\n",
       "      <th>1</th>\n",
       "      <td>2</td>\n",
       "      <td>4</td>\n",
       "      <td>7</td>\n",
       "      <td>5</td>\n",
       "      <td>5</td>\n",
       "      <td>5</td>\n",
       "      <td>5</td>\n",
       "      <td>9</td>\n",
       "      <td>6</td>\n",
       "      <td>4</td>\n",
       "      <td>8</td>\n",
       "      <td>7</td>\n",
       "      <td>9</td>\n",
       "      <td>2</td>\n",
       "      <td>9</td>\n",
       "      <td>7</td>\n",
       "      <td>10</td>\n",
       "      <td>P</td>\n",
       "    </tr>\n",
       "    <tr>\n",
       "      <th>2</th>\n",
       "      <td>3</td>\n",
       "      <td>7</td>\n",
       "      <td>10</td>\n",
       "      <td>8</td>\n",
       "      <td>7</td>\n",
       "      <td>4</td>\n",
       "      <td>8</td>\n",
       "      <td>8</td>\n",
       "      <td>5</td>\n",
       "      <td>10</td>\n",
       "      <td>11</td>\n",
       "      <td>2</td>\n",
       "      <td>8</td>\n",
       "      <td>2</td>\n",
       "      <td>5</td>\n",
       "      <td>5</td>\n",
       "      <td>10</td>\n",
       "      <td>S</td>\n",
       "    </tr>\n",
       "    <tr>\n",
       "      <th>3</th>\n",
       "      <td>4</td>\n",
       "      <td>4</td>\n",
       "      <td>9</td>\n",
       "      <td>5</td>\n",
       "      <td>7</td>\n",
       "      <td>4</td>\n",
       "      <td>7</td>\n",
       "      <td>7</td>\n",
       "      <td>13</td>\n",
       "      <td>1</td>\n",
       "      <td>7</td>\n",
       "      <td>6</td>\n",
       "      <td>8</td>\n",
       "      <td>3</td>\n",
       "      <td>8</td>\n",
       "      <td>0</td>\n",
       "      <td>8</td>\n",
       "      <td>H</td>\n",
       "    </tr>\n",
       "    <tr>\n",
       "      <th>4</th>\n",
       "      <td>5</td>\n",
       "      <td>6</td>\n",
       "      <td>7</td>\n",
       "      <td>8</td>\n",
       "      <td>5</td>\n",
       "      <td>4</td>\n",
       "      <td>7</td>\n",
       "      <td>6</td>\n",
       "      <td>3</td>\n",
       "      <td>7</td>\n",
       "      <td>10</td>\n",
       "      <td>7</td>\n",
       "      <td>9</td>\n",
       "      <td>3</td>\n",
       "      <td>8</td>\n",
       "      <td>3</td>\n",
       "      <td>7</td>\n",
       "      <td>H</td>\n",
       "    </tr>\n",
       "  </tbody>\n",
       "</table>\n",
       "</div>"
      ],
      "text/plain": [
       "   id  'x-box'  'y-box'  'width'  'high'  'onpix'  'x-bar'  'y-bar'  'x2bar'  \\\n",
       "0   1        2        4        4       3        2        7        8        2   \n",
       "1   2        4        7        5       5        5        5        9        6   \n",
       "2   3        7       10        8       7        4        8        8        5   \n",
       "3   4        4        9        5       7        4        7        7       13   \n",
       "4   5        6        7        8       5        4        7        6        3   \n",
       "\n",
       "   'y2bar'  'xybar'  'x2ybr'  'xy2br'  'x-ege'  'xegvy'  'y-ege'  'yegvx'  \\\n",
       "0        9       11        7        7        1        8        5        6   \n",
       "1        4        8        7        9        2        9        7       10   \n",
       "2       10       11        2        8        2        5        5       10   \n",
       "3        1        7        6        8        3        8        0        8   \n",
       "4        7       10        7        9        3        8        3        7   \n",
       "\n",
       "  'class'  \n",
       "0       Z  \n",
       "1       P  \n",
       "2       S  \n",
       "3       H  \n",
       "4       H  "
      ]
     },
     "execution_count": 42,
     "metadata": {},
     "output_type": "execute_result"
    }
   ],
   "source": [
    "dataset.head()"
   ]
  },
  {
   "cell_type": "code",
   "execution_count": 43,
   "id": "d081beeb",
   "metadata": {},
   "outputs": [],
   "source": [
    "for column in dataset.columns:\n",
    "    le = LabelEncoder()\n",
    "    dataset[column] = le.fit_transform(dataset[column])"
   ]
  },
  {
   "cell_type": "code",
   "execution_count": 44,
   "id": "3ac8078c",
   "metadata": {},
   "outputs": [
    {
     "data": {
      "text/html": [
       "<div>\n",
       "<style scoped>\n",
       "    .dataframe tbody tr th:only-of-type {\n",
       "        vertical-align: middle;\n",
       "    }\n",
       "\n",
       "    .dataframe tbody tr th {\n",
       "        vertical-align: top;\n",
       "    }\n",
       "\n",
       "    .dataframe thead th {\n",
       "        text-align: right;\n",
       "    }\n",
       "</style>\n",
       "<table border=\"1\" class=\"dataframe\">\n",
       "  <thead>\n",
       "    <tr style=\"text-align: right;\">\n",
       "      <th></th>\n",
       "      <th>id</th>\n",
       "      <th>'x-box'</th>\n",
       "      <th>'y-box'</th>\n",
       "      <th>'width'</th>\n",
       "      <th>'high'</th>\n",
       "      <th>'onpix'</th>\n",
       "      <th>'x-bar'</th>\n",
       "      <th>'y-bar'</th>\n",
       "      <th>'x2bar'</th>\n",
       "      <th>'y2bar'</th>\n",
       "      <th>'xybar'</th>\n",
       "      <th>'x2ybr'</th>\n",
       "      <th>'xy2br'</th>\n",
       "      <th>'x-ege'</th>\n",
       "      <th>'xegvy'</th>\n",
       "      <th>'y-ege'</th>\n",
       "      <th>'yegvx'</th>\n",
       "      <th>'class'</th>\n",
       "    </tr>\n",
       "  </thead>\n",
       "  <tbody>\n",
       "    <tr>\n",
       "      <th>0</th>\n",
       "      <td>0</td>\n",
       "      <td>2</td>\n",
       "      <td>4</td>\n",
       "      <td>4</td>\n",
       "      <td>3</td>\n",
       "      <td>2</td>\n",
       "      <td>7</td>\n",
       "      <td>8</td>\n",
       "      <td>2</td>\n",
       "      <td>9</td>\n",
       "      <td>11</td>\n",
       "      <td>7</td>\n",
       "      <td>6</td>\n",
       "      <td>1</td>\n",
       "      <td>7</td>\n",
       "      <td>5</td>\n",
       "      <td>6</td>\n",
       "      <td>25</td>\n",
       "    </tr>\n",
       "    <tr>\n",
       "      <th>1</th>\n",
       "      <td>1</td>\n",
       "      <td>4</td>\n",
       "      <td>7</td>\n",
       "      <td>5</td>\n",
       "      <td>5</td>\n",
       "      <td>5</td>\n",
       "      <td>5</td>\n",
       "      <td>9</td>\n",
       "      <td>6</td>\n",
       "      <td>4</td>\n",
       "      <td>8</td>\n",
       "      <td>7</td>\n",
       "      <td>8</td>\n",
       "      <td>2</td>\n",
       "      <td>8</td>\n",
       "      <td>7</td>\n",
       "      <td>10</td>\n",
       "      <td>15</td>\n",
       "    </tr>\n",
       "    <tr>\n",
       "      <th>2</th>\n",
       "      <td>2</td>\n",
       "      <td>7</td>\n",
       "      <td>10</td>\n",
       "      <td>8</td>\n",
       "      <td>7</td>\n",
       "      <td>4</td>\n",
       "      <td>8</td>\n",
       "      <td>8</td>\n",
       "      <td>5</td>\n",
       "      <td>10</td>\n",
       "      <td>11</td>\n",
       "      <td>2</td>\n",
       "      <td>7</td>\n",
       "      <td>2</td>\n",
       "      <td>4</td>\n",
       "      <td>5</td>\n",
       "      <td>10</td>\n",
       "      <td>18</td>\n",
       "    </tr>\n",
       "    <tr>\n",
       "      <th>3</th>\n",
       "      <td>3</td>\n",
       "      <td>4</td>\n",
       "      <td>9</td>\n",
       "      <td>5</td>\n",
       "      <td>7</td>\n",
       "      <td>4</td>\n",
       "      <td>7</td>\n",
       "      <td>7</td>\n",
       "      <td>13</td>\n",
       "      <td>1</td>\n",
       "      <td>7</td>\n",
       "      <td>6</td>\n",
       "      <td>7</td>\n",
       "      <td>3</td>\n",
       "      <td>7</td>\n",
       "      <td>0</td>\n",
       "      <td>8</td>\n",
       "      <td>7</td>\n",
       "    </tr>\n",
       "    <tr>\n",
       "      <th>4</th>\n",
       "      <td>4</td>\n",
       "      <td>6</td>\n",
       "      <td>7</td>\n",
       "      <td>8</td>\n",
       "      <td>5</td>\n",
       "      <td>4</td>\n",
       "      <td>7</td>\n",
       "      <td>6</td>\n",
       "      <td>3</td>\n",
       "      <td>7</td>\n",
       "      <td>10</td>\n",
       "      <td>7</td>\n",
       "      <td>8</td>\n",
       "      <td>3</td>\n",
       "      <td>7</td>\n",
       "      <td>3</td>\n",
       "      <td>7</td>\n",
       "      <td>7</td>\n",
       "    </tr>\n",
       "  </tbody>\n",
       "</table>\n",
       "</div>"
      ],
      "text/plain": [
       "   id  'x-box'  'y-box'  'width'  'high'  'onpix'  'x-bar'  'y-bar'  'x2bar'  \\\n",
       "0   0        2        4        4       3        2        7        8        2   \n",
       "1   1        4        7        5       5        5        5        9        6   \n",
       "2   2        7       10        8       7        4        8        8        5   \n",
       "3   3        4        9        5       7        4        7        7       13   \n",
       "4   4        6        7        8       5        4        7        6        3   \n",
       "\n",
       "   'y2bar'  'xybar'  'x2ybr'  'xy2br'  'x-ege'  'xegvy'  'y-ege'  'yegvx'  \\\n",
       "0        9       11        7        6        1        7        5        6   \n",
       "1        4        8        7        8        2        8        7       10   \n",
       "2       10       11        2        7        2        4        5       10   \n",
       "3        1        7        6        7        3        7        0        8   \n",
       "4        7       10        7        8        3        7        3        7   \n",
       "\n",
       "   'class'  \n",
       "0       25  \n",
       "1       15  \n",
       "2       18  \n",
       "3        7  \n",
       "4        7  "
      ]
     },
     "execution_count": 44,
     "metadata": {},
     "output_type": "execute_result"
    }
   ],
   "source": [
    "dataset.head()"
   ]
  },
  {
   "cell_type": "code",
   "execution_count": 45,
   "id": "14622bd1",
   "metadata": {},
   "outputs": [],
   "source": [
    "X = dataset.iloc[:, 1:-1].values\n",
    "y = dataset.iloc[:, -1].values"
   ]
  },
  {
   "cell_type": "code",
   "execution_count": 46,
   "id": "d87b281f",
   "metadata": {},
   "outputs": [],
   "source": [
    "X_train, X_test, y_train, y_test = train_test_split(X, y, test_size=0.3, random_state=0)"
   ]
  },
  {
   "cell_type": "markdown",
   "id": "a4b144a0",
   "metadata": {},
   "source": [
    "### Teste 1"
   ]
  },
  {
   "cell_type": "code",
   "execution_count": 47,
   "id": "4c03eef3",
   "metadata": {},
   "outputs": [
    {
     "data": {
      "text/html": [
       "<style>#sk-container-id-3 {color: black;background-color: white;}#sk-container-id-3 pre{padding: 0;}#sk-container-id-3 div.sk-toggleable {background-color: white;}#sk-container-id-3 label.sk-toggleable__label {cursor: pointer;display: block;width: 100%;margin-bottom: 0;padding: 0.3em;box-sizing: border-box;text-align: center;}#sk-container-id-3 label.sk-toggleable__label-arrow:before {content: \"▸\";float: left;margin-right: 0.25em;color: #696969;}#sk-container-id-3 label.sk-toggleable__label-arrow:hover:before {color: black;}#sk-container-id-3 div.sk-estimator:hover label.sk-toggleable__label-arrow:before {color: black;}#sk-container-id-3 div.sk-toggleable__content {max-height: 0;max-width: 0;overflow: hidden;text-align: left;background-color: #f0f8ff;}#sk-container-id-3 div.sk-toggleable__content pre {margin: 0.2em;color: black;border-radius: 0.25em;background-color: #f0f8ff;}#sk-container-id-3 input.sk-toggleable__control:checked~div.sk-toggleable__content {max-height: 200px;max-width: 100%;overflow: auto;}#sk-container-id-3 input.sk-toggleable__control:checked~label.sk-toggleable__label-arrow:before {content: \"▾\";}#sk-container-id-3 div.sk-estimator input.sk-toggleable__control:checked~label.sk-toggleable__label {background-color: #d4ebff;}#sk-container-id-3 div.sk-label input.sk-toggleable__control:checked~label.sk-toggleable__label {background-color: #d4ebff;}#sk-container-id-3 input.sk-hidden--visually {border: 0;clip: rect(1px 1px 1px 1px);clip: rect(1px, 1px, 1px, 1px);height: 1px;margin: -1px;overflow: hidden;padding: 0;position: absolute;width: 1px;}#sk-container-id-3 div.sk-estimator {font-family: monospace;background-color: #f0f8ff;border: 1px dotted black;border-radius: 0.25em;box-sizing: border-box;margin-bottom: 0.5em;}#sk-container-id-3 div.sk-estimator:hover {background-color: #d4ebff;}#sk-container-id-3 div.sk-parallel-item::after {content: \"\";width: 100%;border-bottom: 1px solid gray;flex-grow: 1;}#sk-container-id-3 div.sk-label:hover label.sk-toggleable__label {background-color: #d4ebff;}#sk-container-id-3 div.sk-serial::before {content: \"\";position: absolute;border-left: 1px solid gray;box-sizing: border-box;top: 0;bottom: 0;left: 50%;z-index: 0;}#sk-container-id-3 div.sk-serial {display: flex;flex-direction: column;align-items: center;background-color: white;padding-right: 0.2em;padding-left: 0.2em;position: relative;}#sk-container-id-3 div.sk-item {position: relative;z-index: 1;}#sk-container-id-3 div.sk-parallel {display: flex;align-items: stretch;justify-content: center;background-color: white;position: relative;}#sk-container-id-3 div.sk-item::before, #sk-container-id-3 div.sk-parallel-item::before {content: \"\";position: absolute;border-left: 1px solid gray;box-sizing: border-box;top: 0;bottom: 0;left: 50%;z-index: -1;}#sk-container-id-3 div.sk-parallel-item {display: flex;flex-direction: column;z-index: 1;position: relative;background-color: white;}#sk-container-id-3 div.sk-parallel-item:first-child::after {align-self: flex-end;width: 50%;}#sk-container-id-3 div.sk-parallel-item:last-child::after {align-self: flex-start;width: 50%;}#sk-container-id-3 div.sk-parallel-item:only-child::after {width: 0;}#sk-container-id-3 div.sk-dashed-wrapped {border: 1px dashed gray;margin: 0 0.4em 0.5em 0.4em;box-sizing: border-box;padding-bottom: 0.4em;background-color: white;}#sk-container-id-3 div.sk-label label {font-family: monospace;font-weight: bold;display: inline-block;line-height: 1.2em;}#sk-container-id-3 div.sk-label-container {text-align: center;}#sk-container-id-3 div.sk-container {/* jupyter's `normalize.less` sets `[hidden] { display: none; }` but bootstrap.min.css set `[hidden] { display: none !important; }` so we also need the `!important` here to be able to override the default hidden behavior on the sphinx rendered scikit-learn.org. See: https://github.com/scikit-learn/scikit-learn/issues/21755 */display: inline-block !important;position: relative;}#sk-container-id-3 div.sk-text-repr-fallback {display: none;}</style><div id=\"sk-container-id-3\" class=\"sk-top-container\"><div class=\"sk-text-repr-fallback\"><pre>KNeighborsClassifier()</pre><b>In a Jupyter environment, please rerun this cell to show the HTML representation or trust the notebook. <br />On GitHub, the HTML representation is unable to render, please try loading this page with nbviewer.org.</b></div><div class=\"sk-container\" hidden><div class=\"sk-item\"><div class=\"sk-estimator sk-toggleable\"><input class=\"sk-toggleable__control sk-hidden--visually\" id=\"sk-estimator-id-3\" type=\"checkbox\" checked><label for=\"sk-estimator-id-3\" class=\"sk-toggleable__label sk-toggleable__label-arrow\">KNeighborsClassifier</label><div class=\"sk-toggleable__content\"><pre>KNeighborsClassifier()</pre></div></div></div></div></div>"
      ],
      "text/plain": [
       "KNeighborsClassifier()"
      ]
     },
     "execution_count": 47,
     "metadata": {},
     "output_type": "execute_result"
    }
   ],
   "source": [
    "KNN.fit(X_train,y_train)"
   ]
  },
  {
   "cell_type": "code",
   "execution_count": 48,
   "id": "a5d9a0a4",
   "metadata": {},
   "outputs": [
    {
     "name": "stdout",
     "output_type": "stream",
     "text": [
      "Accuracy =  0.8688524590163934\n"
     ]
    }
   ],
   "source": [
    "Y_pred=KNN.predict(X_test)\n",
    "print(\"Accuracy = \", accuracy_score(y_test,Y_pred))"
   ]
  },
  {
   "cell_type": "code",
   "execution_count": null,
   "id": "401eb44b",
   "metadata": {},
   "outputs": [],
   "source": []
  },
  {
   "cell_type": "code",
   "execution_count": 49,
   "id": "bb5a666a",
   "metadata": {},
   "outputs": [
    {
     "name": "stdout",
     "output_type": "stream",
     "text": [
      "5\n"
     ]
    }
   ],
   "source": [
    "KNN=KNNNormal(5) #our model\n",
    "KNN1.fit(X_train,y_train)"
   ]
  },
  {
   "cell_type": "code",
   "execution_count": 50,
   "id": "6678902f",
   "metadata": {},
   "outputs": [
    {
     "name": "stdout",
     "output_type": "stream",
     "text": [
      "Accuracy =  0.8830601092896175\n"
     ]
    }
   ],
   "source": [
    "Y1_pred = KNN1.predict(X_test)\n",
    "print(\"Accuracy = \", accuracy_score(y_test, Y1_pred))"
   ]
  },
  {
   "cell_type": "code",
   "execution_count": null,
   "id": "343c2806",
   "metadata": {},
   "outputs": [],
   "source": []
  },
  {
   "cell_type": "code",
   "execution_count": 51,
   "id": "921f4edb",
   "metadata": {},
   "outputs": [
    {
     "name": "stdout",
     "output_type": "stream",
     "text": [
      "5\n"
     ]
    }
   ],
   "source": [
    "KNN3=KNNManhattan(5) #our model\n",
    "KNN3.fit(X_train,y_train)"
   ]
  },
  {
   "cell_type": "code",
   "execution_count": 52,
   "id": "dfa011ab",
   "metadata": {},
   "outputs": [
    {
     "name": "stdout",
     "output_type": "stream",
     "text": [
      "Accuracy =  0.885792349726776\n"
     ]
    }
   ],
   "source": [
    "Y1_pred = KNN2.predict(X_test)\n",
    "print(\"Accuracy = \", accuracy_score(y_test, Y1_pred))"
   ]
  },
  {
   "cell_type": "code",
   "execution_count": null,
   "id": "9f79a733",
   "metadata": {},
   "outputs": [],
   "source": []
  },
  {
   "cell_type": "code",
   "execution_count": 53,
   "id": "83d4c20e",
   "metadata": {},
   "outputs": [
    {
     "name": "stdout",
     "output_type": "stream",
     "text": [
      "5\n"
     ]
    }
   ],
   "source": [
    "KNN3=KNNHamling(5) #our model\n",
    "KNN3.fit(X_train,y_train)"
   ]
  },
  {
   "cell_type": "code",
   "execution_count": 54,
   "id": "d5c4a8a3",
   "metadata": {},
   "outputs": [
    {
     "name": "stdout",
     "output_type": "stream",
     "text": [
      "Accuracy =  0.7808743169398907\n"
     ]
    }
   ],
   "source": [
    "Y1_pred = KNN3.predict(X_test)\n",
    "print(\"Accuracy = \", accuracy_score(y_test, Y1_pred))"
   ]
  },
  {
   "cell_type": "code",
   "execution_count": null,
   "id": "bfd8e8a9",
   "metadata": {},
   "outputs": [],
   "source": []
  },
  {
   "cell_type": "code",
   "execution_count": 55,
   "id": "b63cdf2c",
   "metadata": {},
   "outputs": [
    {
     "name": "stdout",
     "output_type": "stream",
     "text": [
      "5\n"
     ]
    }
   ],
   "source": [
    "KNN4=KNNJaccard(5) #our model\n",
    "KNN4.fit(X_train,y_train)\n"
   ]
  },
  {
   "cell_type": "code",
   "execution_count": 56,
   "id": "bf6ed6b0",
   "metadata": {},
   "outputs": [
    {
     "name": "stdout",
     "output_type": "stream",
     "text": [
      "Accuracy =  0.23278688524590163\n"
     ]
    }
   ],
   "source": [
    "Y1_pred = KNN4.predict(X_test)\n",
    "print(\"Accuracy = \", accuracy_score(y_test, Y1_pred))"
   ]
  },
  {
   "cell_type": "code",
   "execution_count": null,
   "id": "aae79d88",
   "metadata": {},
   "outputs": [],
   "source": []
  },
  {
   "cell_type": "code",
   "execution_count": 57,
   "id": "90f73730",
   "metadata": {},
   "outputs": [
    {
     "name": "stdout",
     "output_type": "stream",
     "text": [
      "5\n"
     ]
    }
   ],
   "source": [
    "KNN5=KNNChebyshev(5) #our model\n",
    "KNN5.fit(X_train,y_train)"
   ]
  },
  {
   "cell_type": "code",
   "execution_count": 58,
   "id": "91c1ae40",
   "metadata": {},
   "outputs": [
    {
     "name": "stdout",
     "output_type": "stream",
     "text": [
      "Accuracy =  0.8131147540983606\n"
     ]
    }
   ],
   "source": [
    "Y1_pred = KNN5.predict(X_test)\n",
    "print(\"Accuracy = \", accuracy_score(y_test, Y1_pred))"
   ]
  },
  {
   "cell_type": "code",
   "execution_count": null,
   "id": "e723f9a0",
   "metadata": {},
   "outputs": [],
   "source": []
  }
 ],
 "metadata": {
  "kernelspec": {
   "display_name": "Python 3 (ipykernel)",
   "language": "python",
   "name": "python3"
  },
  "language_info": {
   "codemirror_mode": {
    "name": "ipython",
    "version": 3
   },
   "file_extension": ".py",
   "mimetype": "text/x-python",
   "name": "python",
   "nbconvert_exporter": "python",
   "pygments_lexer": "ipython3",
   "version": "3.10.0"
  }
 },
 "nbformat": 4,
 "nbformat_minor": 5
}
